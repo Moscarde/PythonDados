{
 "cells": [
  {
   "cell_type": "code",
   "execution_count": 185,
   "metadata": {},
   "outputs": [],
   "source": [
    "# identificar 4 drawdowns\n",
    "# criar um grafico de calor com comparaçoes de janelas de investimento\n",
    "# criadas a partir dos dds com intervalos de 6 meses, 12 meses 36m e 60m"
   ]
  },
  {
   "cell_type": "code",
   "execution_count": 186,
   "metadata": {},
   "outputs": [],
   "source": [
    "import yfinance as yf\n",
    "import pandas as pd\n",
    "import matplotlib.pyplot as plt"
   ]
  },
  {
   "cell_type": "code",
   "execution_count": 187,
   "metadata": {},
   "outputs": [
    {
     "name": "stdout",
     "output_type": "stream",
     "text": [
      "[*********************100%%**********************]  1 of 1 completed\n"
     ]
    }
   ],
   "source": [
    "acao = '^BVSP'\n",
    "cotacoes = yf.download(acao, '2006-01-01')['Adj Close']"
   ]
  },
  {
   "cell_type": "code",
   "execution_count": 188,
   "metadata": {},
   "outputs": [
    {
     "data": {
      "text/html": [
       "<div>\n",
       "<style scoped>\n",
       "    .dataframe tbody tr th:only-of-type {\n",
       "        vertical-align: middle;\n",
       "    }\n",
       "\n",
       "    .dataframe tbody tr th {\n",
       "        vertical-align: top;\n",
       "    }\n",
       "\n",
       "    .dataframe thead th {\n",
       "        text-align: right;\n",
       "    }\n",
       "</style>\n",
       "<table border=\"1\" class=\"dataframe\">\n",
       "  <thead>\n",
       "    <tr style=\"text-align: right;\">\n",
       "      <th></th>\n",
       "      <th>Adj Close</th>\n",
       "    </tr>\n",
       "    <tr>\n",
       "      <th>Date</th>\n",
       "      <th></th>\n",
       "    </tr>\n",
       "  </thead>\n",
       "  <tbody>\n",
       "    <tr>\n",
       "      <th>2006-01-02</th>\n",
       "      <td>33507.00000</td>\n",
       "    </tr>\n",
       "    <tr>\n",
       "      <th>2006-01-03</th>\n",
       "      <td>34541.00000</td>\n",
       "    </tr>\n",
       "    <tr>\n",
       "      <th>2006-01-04</th>\n",
       "      <td>35002.00000</td>\n",
       "    </tr>\n",
       "    <tr>\n",
       "      <th>2006-01-05</th>\n",
       "      <td>34936.00000</td>\n",
       "    </tr>\n",
       "    <tr>\n",
       "      <th>2006-01-06</th>\n",
       "      <td>35475.00000</td>\n",
       "    </tr>\n",
       "    <tr>\n",
       "      <th>...</th>\n",
       "      <td>...</td>\n",
       "    </tr>\n",
       "    <tr>\n",
       "      <th>2023-10-16</th>\n",
       "      <td>116534.00000</td>\n",
       "    </tr>\n",
       "    <tr>\n",
       "      <th>2023-10-17</th>\n",
       "      <td>115908.00000</td>\n",
       "    </tr>\n",
       "    <tr>\n",
       "      <th>2023-10-18</th>\n",
       "      <td>114060.00000</td>\n",
       "    </tr>\n",
       "    <tr>\n",
       "      <th>2023-10-19</th>\n",
       "      <td>114004.00000</td>\n",
       "    </tr>\n",
       "    <tr>\n",
       "      <th>2023-10-20</th>\n",
       "      <td>113155.28125</td>\n",
       "    </tr>\n",
       "  </tbody>\n",
       "</table>\n",
       "<p>4404 rows × 1 columns</p>\n",
       "</div>"
      ],
      "text/plain": [
       "               Adj Close\n",
       "Date                    \n",
       "2006-01-02   33507.00000\n",
       "2006-01-03   34541.00000\n",
       "2006-01-04   35002.00000\n",
       "2006-01-05   34936.00000\n",
       "2006-01-06   35475.00000\n",
       "...                  ...\n",
       "2023-10-16  116534.00000\n",
       "2023-10-17  115908.00000\n",
       "2023-10-18  114060.00000\n",
       "2023-10-19  114004.00000\n",
       "2023-10-20  113155.28125\n",
       "\n",
       "[4404 rows x 1 columns]"
      ]
     },
     "execution_count": 188,
     "metadata": {},
     "output_type": "execute_result"
    }
   ],
   "source": [
    "cotacoes = cotacoes.to_frame()\n",
    "cotacoes"
   ]
  },
  {
   "cell_type": "code",
   "execution_count": 189,
   "metadata": {},
   "outputs": [],
   "source": [
    "cotacoes['ano'] = cotacoes.index.year\n",
    "cotacoes['cummax_ano'] = cotacoes.groupby('ano').cummax()"
   ]
  },
  {
   "cell_type": "code",
   "execution_count": 190,
   "metadata": {},
   "outputs": [
    {
     "data": {
      "text/html": [
       "<div>\n",
       "<style scoped>\n",
       "    .dataframe tbody tr th:only-of-type {\n",
       "        vertical-align: middle;\n",
       "    }\n",
       "\n",
       "    .dataframe tbody tr th {\n",
       "        vertical-align: top;\n",
       "    }\n",
       "\n",
       "    .dataframe thead th {\n",
       "        text-align: right;\n",
       "    }\n",
       "</style>\n",
       "<table border=\"1\" class=\"dataframe\">\n",
       "  <thead>\n",
       "    <tr style=\"text-align: right;\">\n",
       "      <th></th>\n",
       "      <th>Adj Close</th>\n",
       "      <th>ano</th>\n",
       "      <th>cummax_ano</th>\n",
       "      <th>quedas</th>\n",
       "    </tr>\n",
       "    <tr>\n",
       "      <th>Date</th>\n",
       "      <th></th>\n",
       "      <th></th>\n",
       "      <th></th>\n",
       "      <th></th>\n",
       "    </tr>\n",
       "  </thead>\n",
       "  <tbody>\n",
       "    <tr>\n",
       "      <th>2006-01-02</th>\n",
       "      <td>33507.00000</td>\n",
       "      <td>2006</td>\n",
       "      <td>33507.0</td>\n",
       "      <td>0.000000</td>\n",
       "    </tr>\n",
       "    <tr>\n",
       "      <th>2006-01-03</th>\n",
       "      <td>34541.00000</td>\n",
       "      <td>2006</td>\n",
       "      <td>34541.0</td>\n",
       "      <td>0.000000</td>\n",
       "    </tr>\n",
       "    <tr>\n",
       "      <th>2006-01-04</th>\n",
       "      <td>35002.00000</td>\n",
       "      <td>2006</td>\n",
       "      <td>35002.0</td>\n",
       "      <td>0.000000</td>\n",
       "    </tr>\n",
       "    <tr>\n",
       "      <th>2006-01-05</th>\n",
       "      <td>34936.00000</td>\n",
       "      <td>2006</td>\n",
       "      <td>35002.0</td>\n",
       "      <td>-0.001886</td>\n",
       "    </tr>\n",
       "    <tr>\n",
       "      <th>2006-01-06</th>\n",
       "      <td>35475.00000</td>\n",
       "      <td>2006</td>\n",
       "      <td>35475.0</td>\n",
       "      <td>0.000000</td>\n",
       "    </tr>\n",
       "    <tr>\n",
       "      <th>...</th>\n",
       "      <td>...</td>\n",
       "      <td>...</td>\n",
       "      <td>...</td>\n",
       "      <td>...</td>\n",
       "    </tr>\n",
       "    <tr>\n",
       "      <th>2023-10-16</th>\n",
       "      <td>116534.00000</td>\n",
       "      <td>2023</td>\n",
       "      <td>122560.0</td>\n",
       "      <td>-0.049168</td>\n",
       "    </tr>\n",
       "    <tr>\n",
       "      <th>2023-10-17</th>\n",
       "      <td>115908.00000</td>\n",
       "      <td>2023</td>\n",
       "      <td>122560.0</td>\n",
       "      <td>-0.054275</td>\n",
       "    </tr>\n",
       "    <tr>\n",
       "      <th>2023-10-18</th>\n",
       "      <td>114060.00000</td>\n",
       "      <td>2023</td>\n",
       "      <td>122560.0</td>\n",
       "      <td>-0.069354</td>\n",
       "    </tr>\n",
       "    <tr>\n",
       "      <th>2023-10-19</th>\n",
       "      <td>114004.00000</td>\n",
       "      <td>2023</td>\n",
       "      <td>122560.0</td>\n",
       "      <td>-0.069811</td>\n",
       "    </tr>\n",
       "    <tr>\n",
       "      <th>2023-10-20</th>\n",
       "      <td>113155.28125</td>\n",
       "      <td>2023</td>\n",
       "      <td>122560.0</td>\n",
       "      <td>-0.076736</td>\n",
       "    </tr>\n",
       "  </tbody>\n",
       "</table>\n",
       "<p>4404 rows × 4 columns</p>\n",
       "</div>"
      ],
      "text/plain": [
       "               Adj Close   ano  cummax_ano    quedas\n",
       "Date                                                \n",
       "2006-01-02   33507.00000  2006     33507.0  0.000000\n",
       "2006-01-03   34541.00000  2006     34541.0  0.000000\n",
       "2006-01-04   35002.00000  2006     35002.0  0.000000\n",
       "2006-01-05   34936.00000  2006     35002.0 -0.001886\n",
       "2006-01-06   35475.00000  2006     35475.0  0.000000\n",
       "...                  ...   ...         ...       ...\n",
       "2023-10-16  116534.00000  2023    122560.0 -0.049168\n",
       "2023-10-17  115908.00000  2023    122560.0 -0.054275\n",
       "2023-10-18  114060.00000  2023    122560.0 -0.069354\n",
       "2023-10-19  114004.00000  2023    122560.0 -0.069811\n",
       "2023-10-20  113155.28125  2023    122560.0 -0.076736\n",
       "\n",
       "[4404 rows x 4 columns]"
      ]
     },
     "execution_count": 190,
     "metadata": {},
     "output_type": "execute_result"
    }
   ],
   "source": [
    "cotacoes['quedas'] = (cotacoes['Adj Close'] / cotacoes['cummax_ano'] - 1) \n",
    "cotacoes"
   ]
  },
  {
   "cell_type": "code",
   "execution_count": 191,
   "metadata": {},
   "outputs": [
    {
     "data": {
      "text/html": [
       "<div>\n",
       "<style scoped>\n",
       "    .dataframe tbody tr th:only-of-type {\n",
       "        vertical-align: middle;\n",
       "    }\n",
       "\n",
       "    .dataframe tbody tr th {\n",
       "        vertical-align: top;\n",
       "    }\n",
       "\n",
       "    .dataframe thead th {\n",
       "        text-align: right;\n",
       "    }\n",
       "</style>\n",
       "<table border=\"1\" class=\"dataframe\">\n",
       "  <thead>\n",
       "    <tr style=\"text-align: right;\">\n",
       "      <th></th>\n",
       "      <th>quedas</th>\n",
       "    </tr>\n",
       "    <tr>\n",
       "      <th>ano</th>\n",
       "      <th></th>\n",
       "    </tr>\n",
       "  </thead>\n",
       "  <tbody>\n",
       "    <tr>\n",
       "      <th>2008</th>\n",
       "      <td>-0.599616</td>\n",
       "    </tr>\n",
       "    <tr>\n",
       "      <th>2020</th>\n",
       "      <td>-0.468158</td>\n",
       "    </tr>\n",
       "    <tr>\n",
       "      <th>2011</th>\n",
       "      <td>-0.320592</td>\n",
       "    </tr>\n",
       "    <tr>\n",
       "      <th>2013</th>\n",
       "      <td>-0.288539</td>\n",
       "    </tr>\n",
       "    <tr>\n",
       "      <th>2015</th>\n",
       "      <td>-0.255840</td>\n",
       "    </tr>\n",
       "    <tr>\n",
       "      <th>2014</th>\n",
       "      <td>-0.240533</td>\n",
       "    </tr>\n",
       "  </tbody>\n",
       "</table>\n",
       "</div>"
      ],
      "text/plain": [
       "        quedas\n",
       "ano           \n",
       "2008 -0.599616\n",
       "2020 -0.468158\n",
       "2011 -0.320592\n",
       "2013 -0.288539\n",
       "2015 -0.255840\n",
       "2014 -0.240533"
      ]
     },
     "execution_count": 191,
     "metadata": {},
     "output_type": "execute_result"
    }
   ],
   "source": [
    "maxdrawdown = cotacoes.groupby('ano')['quedas'].min().to_frame()\n",
    "maxdrawdown.sort_values(['quedas']).head(6)"
   ]
  },
  {
   "cell_type": "code",
   "execution_count": 192,
   "metadata": {},
   "outputs": [
    {
     "data": {
      "image/png": "[encoded data removed]",
      "text/plain": [
       "<Figure size 640x480 with 1 Axes>"
      ]
     },
     "metadata": {},
     "output_type": "display_data"
    }
   ],
   "source": [
    "fig, ax = plt.subplots()\n",
    "ax.plot(cotacoes['Adj Close'])\n",
    "ax.grid(True)\n",
    "ax.set_yscale('log')"
   ]
  },
  {
   "cell_type": "code",
   "execution_count": 193,
   "metadata": {},
   "outputs": [
    {
     "data": {
      "text/html": [
       "<div>\n",
       "<style scoped>\n",
       "    .dataframe tbody tr th:only-of-type {\n",
       "        vertical-align: middle;\n",
       "    }\n",
       "\n",
       "    .dataframe tbody tr th {\n",
       "        vertical-align: top;\n",
       "    }\n",
       "\n",
       "    .dataframe thead th {\n",
       "        text-align: right;\n",
       "    }\n",
       "</style>\n",
       "<table border=\"1\" class=\"dataframe\">\n",
       "  <thead>\n",
       "    <tr style=\"text-align: right;\">\n",
       "      <th></th>\n",
       "      <th>Adj Close</th>\n",
       "      <th>cummax_ano</th>\n",
       "      <th>quedas_total</th>\n",
       "    </tr>\n",
       "    <tr>\n",
       "      <th>Date</th>\n",
       "      <th></th>\n",
       "      <th></th>\n",
       "      <th></th>\n",
       "    </tr>\n",
       "  </thead>\n",
       "  <tbody>\n",
       "    <tr>\n",
       "      <th>2006-01-02</th>\n",
       "      <td>33507.00000</td>\n",
       "      <td>33507.0</td>\n",
       "      <td>0.000000</td>\n",
       "    </tr>\n",
       "    <tr>\n",
       "      <th>2006-01-03</th>\n",
       "      <td>34541.00000</td>\n",
       "      <td>34541.0</td>\n",
       "      <td>0.000000</td>\n",
       "    </tr>\n",
       "    <tr>\n",
       "      <th>2006-01-04</th>\n",
       "      <td>35002.00000</td>\n",
       "      <td>35002.0</td>\n",
       "      <td>0.000000</td>\n",
       "    </tr>\n",
       "    <tr>\n",
       "      <th>2006-01-05</th>\n",
       "      <td>34936.00000</td>\n",
       "      <td>35002.0</td>\n",
       "      <td>-0.188561</td>\n",
       "    </tr>\n",
       "    <tr>\n",
       "      <th>2006-01-06</th>\n",
       "      <td>35475.00000</td>\n",
       "      <td>35475.0</td>\n",
       "      <td>0.000000</td>\n",
       "    </tr>\n",
       "    <tr>\n",
       "      <th>...</th>\n",
       "      <td>...</td>\n",
       "      <td>...</td>\n",
       "      <td>...</td>\n",
       "    </tr>\n",
       "    <tr>\n",
       "      <th>2023-10-16</th>\n",
       "      <td>116534.00000</td>\n",
       "      <td>122560.0</td>\n",
       "      <td>-10.890377</td>\n",
       "    </tr>\n",
       "    <tr>\n",
       "      <th>2023-10-17</th>\n",
       "      <td>115908.00000</td>\n",
       "      <td>122560.0</td>\n",
       "      <td>-11.369059</td>\n",
       "    </tr>\n",
       "    <tr>\n",
       "      <th>2023-10-18</th>\n",
       "      <td>114060.00000</td>\n",
       "      <td>122560.0</td>\n",
       "      <td>-12.782162</td>\n",
       "    </tr>\n",
       "    <tr>\n",
       "      <th>2023-10-19</th>\n",
       "      <td>114004.00000</td>\n",
       "      <td>122560.0</td>\n",
       "      <td>-12.824983</td>\n",
       "    </tr>\n",
       "    <tr>\n",
       "      <th>2023-10-20</th>\n",
       "      <td>113155.28125</td>\n",
       "      <td>122560.0</td>\n",
       "      <td>-13.473970</td>\n",
       "    </tr>\n",
       "  </tbody>\n",
       "</table>\n",
       "<p>4404 rows × 3 columns</p>\n",
       "</div>"
      ],
      "text/plain": [
       "               Adj Close  cummax_ano  quedas_total\n",
       "Date                                              \n",
       "2006-01-02   33507.00000     33507.0      0.000000\n",
       "2006-01-03   34541.00000     34541.0      0.000000\n",
       "2006-01-04   35002.00000     35002.0      0.000000\n",
       "2006-01-05   34936.00000     35002.0     -0.188561\n",
       "2006-01-06   35475.00000     35475.0      0.000000\n",
       "...                  ...         ...           ...\n",
       "2023-10-16  116534.00000    122560.0    -10.890377\n",
       "2023-10-17  115908.00000    122560.0    -11.369059\n",
       "2023-10-18  114060.00000    122560.0    -12.782162\n",
       "2023-10-19  114004.00000    122560.0    -12.824983\n",
       "2023-10-20  113155.28125    122560.0    -13.473970\n",
       "\n",
       "[4404 rows x 3 columns]"
      ]
     },
     "execution_count": 193,
     "metadata": {},
     "output_type": "execute_result"
    }
   ],
   "source": [
    "cotacoes['cummax_total'] = cotacoes['Adj Close'].cummax()\n",
    "cotacoes['quedas_total'] = ((cotacoes['Adj Close'] - cotacoes['cummax_total']) / cotacoes['cummax_total']) * 100\n",
    "\n",
    "# cotacoes['quedas_total'] = cotacoes['quedas_total'] / cotacoes['cummax_total']\n",
    "# cotacoes['quedas_total'] = cotacoes['quedas_total'] *100\n",
    "\n",
    "\n",
    "cotacoes[['Adj Close', \"cummax_ano\",'quedas_total']]"
   ]
  },
  {
   "cell_type": "code",
   "execution_count": 194,
   "metadata": {},
   "outputs": [
    {
     "name": "stdout",
     "output_type": "stream",
     "text": [
      "[-59.96164152508944, -44.97123114381708, -29.98082076254472, -14.99041038127236]\n",
      "[-59.96164152508944, -44.97123114381708, -29.98082076254472, -14.99041038127236, 32694.0, 65388.0, 98082.0, 130776.0]\n"
     ]
    },
    {
     "data": {
      "text/plain": [
       "[<matplotlib.axis.YTick at 0x1d84e4eca10>,\n",
       " <matplotlib.axis.YTick at 0x1d84d372010>,\n",
       " <matplotlib.axis.YTick at 0x1d84e4c7090>,\n",
       " <matplotlib.axis.YTick at 0x1d84e6c8310>,\n",
       " <matplotlib.axis.YTick at 0x1d84e6ca5d0>,\n",
       " <matplotlib.axis.YTick at 0x1d84e6cc950>,\n",
       " <matplotlib.axis.YTick at 0x1d84e6cb050>,\n",
       " <matplotlib.axis.YTick at 0x1d84e6cf790>]"
      ]
     },
     "execution_count": 194,
     "metadata": {},
     "output_type": "execute_result"
    },
    {
     "data": {
      "image/png": "[encoded data removed]",
      "text/plain": [
       "<Figure size 640x480 with 1 Axes>"
      ]
     },
     "metadata": {},
     "output_type": "display_data"
    }
   ],
   "source": [
    "fig, ax = plt.subplots()\n",
    "ax.plot(cotacoes['cummax_total'], label = \"cummax_total\", color='green')\n",
    "ax.plot(cotacoes['quedas_total'], label = \"quedas_total\", color='red')\n",
    "ax.plot(cotacoes['Adj Close'], label = \"Price\", color='blue')\n",
    "\n",
    "y_max_cot = cotacoes['Adj Close'].max()\n",
    "y_min_quedas = cotacoes['quedas_total'].min()\n",
    "y_pct_scale = [(y_min_quedas / 4) * (i+1) for i in range(4) ]\n",
    "y_cot_scale = [(y_max_cot / 4) * (i+1) for i in range(4) ]\n",
    "y_scale = sorted(y_pct_scale + y_cot_scale )\n",
    "\n",
    "y_scale_label =  [str(int(y)) + '%' for y in y_scale[:3]] + [int(y) for y in y_scale[3:]]\n",
    "print(sorted(y_pct_scale))\n",
    "print(sorted(y_scale))\n",
    "\n",
    "\n",
    "\n",
    "ax.legend()\n",
    "ax.axhline(y = 0, color = 'black')\n",
    "# ax.set_yscale('log')\n",
    "ax.yaxis.set_ticks(y_scale, y_scale_label)\n",
    "\n",
    "# print(cotacoes)"
   ]
  },
  {
   "cell_type": "code",
   "execution_count": 195,
   "metadata": {},
   "outputs": [
    {
     "name": "stdout",
     "output_type": "stream",
     "text": [
      "[-59.96164152508944, -44.97123114381708, -29.98082076254472, -14.99041038127236]\n",
      "[-59.96164152508944, -44.97123114381708, -29.98082076254472, -14.99041038127236, 18379.25, 36758.5, 55137.75, 73517.0]\n"
     ]
    },
    {
     "data": {
      "text/plain": [
       "<matplotlib.lines.Line2D at 0x1d84e716590>"
      ]
     },
     "execution_count": 195,
     "metadata": {},
     "output_type": "execute_result"
    },
    {
     "data": {
      "image/png": "[encoded data removed]",
      "text/plain": [
       "<Figure size 640x480 with 1 Axes>"
      ]
     },
     "metadata": {},
     "output_type": "display_data"
    }
   ],
   "source": [
    "cotacoes_range = cotacoes[(cotacoes.index > '2008-01-01') & (cotacoes.index < '2010-01-01') ]\n",
    "fig, ax = plt.subplots()\n",
    "ax.plot(cotacoes_range['cummax_total'], label = \"cummax_total\", color='green')\n",
    "# ax.plot(cotacoes_range['quedas_total'], label = \"quedas_total\")\n",
    "ax.plot(cotacoes_range['Adj Close'], label = \"Price\", color= 'blue')\n",
    "\n",
    "y_max_cot = cotacoes_range['Adj Close'].max()\n",
    "y_min_quedas = cotacoes['quedas_total'].min()\n",
    "y_pct_scale = [(y_min_quedas / 4) * (i+1) for i in range(4) ]\n",
    "y_cot_scale = [(y_max_cot / 4) * (i+1) for i in range(4) ]\n",
    "y_scale = sorted(y_pct_scale + y_cot_scale )\n",
    "\n",
    "ax.set_ylim(0, 4)\n",
    "\n",
    "y_scale_label =  [str(int(y)) + '%' for y in y_scale[:3]] + [int(y) for y in y_scale[3:]]\n",
    "print(sorted(y_pct_scale))\n",
    "print(sorted(y_scale))\n",
    "\n",
    "\n",
    "\n",
    "ax.legend()\n",
    "ax.axhline(y = 0, color = 'black')\n",
    "# ax.set_yscale('log')\n",
    "# ax.yaxis.set_ticks(y_scale, y_scale_label)\n",
    "\n",
    "# print(cotacoes)"
   ]
  },
  {
   "cell_type": "code",
   "execution_count": 196,
   "metadata": {},
   "outputs": [
    {
     "name": "stdout",
     "output_type": "stream",
     "text": [
      "[-59.96164152508944, -44.97123114381708, -29.98082076254472, -14.99041038127236]\n",
      "[-59.96164152508944, -44.97123114381708, -29.98082076254472, -14.99041038127236, 18379.25, 36758.5, 55137.75, 73517.0]\n"
     ]
    },
    {
     "data": {
      "text/plain": [
       "<matplotlib.lines.Line2D at 0x1d84e6ec790>"
      ]
     },
     "execution_count": 196,
     "metadata": {},
     "output_type": "execute_result"
    },
    {
     "data": {
      "image/png": "[encoded data removed]",
      "text/plain": [
       "<Figure size 640x480 with 1 Axes>"
      ]
     },
     "metadata": {},
     "output_type": "display_data"
    }
   ],
   "source": [
    "cotacoes_range = cotacoes[(cotacoes.index > '2008-01-01') & (cotacoes.index < '2010-01-01') ]\n",
    "fig, ax = plt.subplots()\n",
    "# ax.plot(cotacoes_range['cummax_total'], label = \"cummax_total\")\n",
    "ax.plot(cotacoes_range['quedas_total'], label = \"quedas_total\", color='red')\n",
    "# ax.plot(cotacoes_range['Adj Close'], label = \"Price\")\n",
    "\n",
    "y_max_cot = cotacoes_range['Adj Close'].max()\n",
    "y_min_quedas = cotacoes['quedas_total'].min()\n",
    "y_pct_scale = [(y_min_quedas / 4) * (i+1) for i in range(4) ]\n",
    "y_cot_scale = [(y_max_cot / 4) * (i+1) for i in range(4) ]\n",
    "y_scale = sorted(y_pct_scale + y_cot_scale )\n",
    "\n",
    "# ax.set_ylim(0, 4)\n",
    "\n",
    "y_scale_label =  [str(int(y)) + '%' for y in y_scale[:3]] + [int(y) for y in y_scale[3:]]\n",
    "print(sorted(y_pct_scale))\n",
    "print(sorted(y_scale))\n",
    "\n",
    "\n",
    "\n",
    "ax.legend()\n",
    "ax.axhline(y = 0, color = 'black')\n",
    "# ax.set_yscale('log')\n",
    "# ax.yaxis.set_ticks(y_scale, y_scale_label)\n",
    "\n",
    "# print(cotacoes)"
   ]
  },
  {
   "cell_type": "code",
   "execution_count": 200,
   "metadata": {},
   "outputs": [
    {
     "name": "stdout",
     "output_type": "stream",
     "text": [
      "            quedas_total  rank\n",
      "Date                          \n",
      "2008-10-27    -59.961642   1.0\n",
      "2008-11-21    -57.491465   2.0\n",
      "2008-10-24    -57.177252   3.0\n",
      "2008-10-28    -54.586014   4.0\n",
      "2008-11-19    -54.561530   5.0\n",
      "2008-10-23    -53.999755   6.0\n",
      "2008-11-18    -53.622972   7.0\n",
      "2008-11-24    -53.495110   8.0\n",
      "2008-11-12    -53.243467   9.0\n",
      "2008-12-01    -52.744263  10.0\n",
      "            quedas_total  rank\n",
      "Date                          \n",
      "2009-03-02    -50.712080  23.0\n",
      "2009-03-03    -50.395147  27.0\n",
      "2009-03-09    -50.023804  32.0\n",
      "2009-03-06    -49.528680  38.0\n",
      "2009-01-20    -49.301522  41.0\n",
      "2009-03-05    -49.169580  42.0\n",
      "2009-01-22    -48.455459  50.0\n",
      "2009-01-14    -48.335759  53.0\n",
      "2009-01-23    -48.131725  56.0\n",
      "2009-02-26    -48.066434  57.0\n",
      "            quedas_total  rank\n",
      "Date                          \n",
      "2016-01-26    -48.995470  44.0\n",
      "2016-01-20    -48.794156  47.0\n",
      "2016-01-21    -48.696220  48.0\n",
      "2016-01-18    -48.396969  51.0\n",
      "2016-01-22    -48.269108  54.0\n",
      "2016-01-19    -48.233742  55.0\n",
      "2016-01-27    -47.799829  63.0\n",
      "2016-01-15    -47.537304  68.0\n",
      "2016-02-02    -47.500578  70.0\n",
      "2016-01-28    -47.454330  72.0\n",
      "            quedas_total   rank\n",
      "Date                           \n",
      "2020-03-23    -46.815809   83.0\n",
      "2020-03-18    -44.034034  132.0\n",
      "2020-03-20    -43.888461  134.0\n",
      "2020-03-19    -42.831805  151.0\n",
      "2020-04-03    -41.822836  162.0\n",
      "2020-03-24    -41.663041  164.0\n",
      "2020-04-01    -40.627301  169.0\n",
      "2020-03-16    -40.459139  173.0\n",
      "2020-04-02    -39.551402  185.0\n",
      "2020-03-12    -39.275316  189.0\n"
     ]
    }
   ],
   "source": [
    "cot = cotacoes['quedas_total'].dropna().drop_duplicates().to_frame()\n",
    "cot['rank'] = cot['quedas_total'].rank()\n",
    "cot.sort_values('rank').head(50)\n",
    "print(cot[cot.index.year == 2008].sort_values('rank').head(10))\n",
    "print(cot[cot.index.year == 2009].sort_values('rank').head(10))\n",
    "print(cot[cot.index.year == 2016].sort_values('rank').head(10))\n",
    "print(cot[cot.index.year == 2020].sort_values('rank').head(10))"
   ]
  },
  {
   "cell_type": "code",
   "execution_count": 198,
   "metadata": {},
   "outputs": [
    {
     "name": "stdout",
     "output_type": "stream",
     "text": [
      "c:\\Users\\Gabriel\\Python Dados\\Projetos\\drawdowns.ipynb\n"
     ]
    }
   ],
   "source": [
    "print(__vsc_ipynb_file__)"
   ]
  }
 ],
 "metadata": {
  "kernelspec": {
   "display_name": "Python 3",
   "language": "python",
   "name": "python3"
  },
  "language_info": {
   "codemirror_mode": {
    "name": "ipython",
    "version": 3
   },
   "file_extension": ".py",
   "mimetype": "text/x-python",
   "name": "python",
   "nbconvert_exporter": "python",
   "pygments_lexer": "ipython3",
   "version": "3.11.5"
  }
 },
 "nbformat": 4,
 "nbformat_minor": 2
}
