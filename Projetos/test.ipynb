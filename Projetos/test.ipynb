{
 "cells": [
  {
   "cell_type": "code",
   "execution_count": 7,
   "metadata": {},
   "outputs": [
    {
     "name": "stderr",
     "output_type": "stream",
     "text": [
      "ic| y_max / 4: 13.75\n",
      "ic| (y_max / 4) *4: 55.0\n",
      "ic| y_fatiado: [13.75, 27.5, 41.25, 55.0]\n"
     ]
    },
    {
     "data": {
      "text/plain": [
       "[13.75, 27.5, 41.25, 55.0]"
      ]
     },
     "execution_count": 7,
     "metadata": {},
     "output_type": "execute_result"
    }
   ],
   "source": [
    "from icecream import ic\n",
    "\n",
    "y_max = 55\n",
    "\n",
    "ic(y_max / 4)\n",
    "ic((y_max / 4) *4)\n",
    "\n",
    "y_fatiado = []\n",
    "for i in range(4):\n",
    "    y_fatiado.append(y_max/ 4 * (i+1))\n",
    "\n",
    "ic(y_fatiado)\n"
   ]
  }
 ],
 "metadata": {
  "kernelspec": {
   "display_name": "Python 3",
   "language": "python",
   "name": "python3"
  },
  "language_info": {
   "codemirror_mode": {
    "name": "ipython",
    "version": 3
   },
   "file_extension": ".py",
   "mimetype": "text/x-python",
   "name": "python",
   "nbconvert_exporter": "python",
   "pygments_lexer": "ipython3",
   "version": "3.11.5"
  }
 },
 "nbformat": 4,
 "nbformat_minor": 2
}
