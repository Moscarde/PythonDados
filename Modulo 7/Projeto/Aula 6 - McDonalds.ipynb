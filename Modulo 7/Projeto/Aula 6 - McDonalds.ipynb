{
 "cells": [
  {
   "cell_type": "code",
   "execution_count": 67,
   "metadata": {},
   "outputs": [
    {
     "name": "stdout",
     "output_type": "stream",
     "text": [
      "The dotenv extension is already loaded. To reload it, use:\n",
      "  %reload_ext dotenv\n"
     ]
    }
   ],
   "source": [
    "import googlemaps\n",
    "import time\n",
    "import dotenv\n",
    "import os\n",
    "from pprintpp import pprint\n",
    "import pandas as pd\n",
    "\n",
    "import folium\n",
    "from folium.plugins import HeatMap, MarkerCluster\n",
    "\n",
    "\n",
    "%load_ext dotenv\n",
    "chave_api = os.getenv(\"API_KEY\")\n",
    "client = googlemaps.Client(chave_api)"
   ]
  },
  {
   "cell_type": "code",
   "execution_count": 47,
   "metadata": {},
   "outputs": [
    {
     "data": {
      "text/plain": [
       "{'lat': -22.8834606, 'lng': -43.5800678}"
      ]
     },
     "execution_count": 47,
     "metadata": {},
     "output_type": "execute_result"
    }
   ],
   "source": [
    "meu_endereco = 'Estrada Sta Maria, rio de janeiro, rj, brasil'\n",
    "\n",
    "minha_coord = client.geocode(meu_endereco)[0]['geometry']['location']\n",
    "minha_coord #dict"
   ]
  },
  {
   "cell_type": "code",
   "execution_count": 50,
   "metadata": {},
   "outputs": [],
   "source": [
    "next_page_token = ''\n",
    "\n",
    "\n",
    "lista_coordenadas = []\n",
    "response = client.places_nearby(keyword= 'Mc Donalds', radius=5000, location= minha_coord)\n",
    "while True:\n",
    "    for store in response['results']:\n",
    "        latitude = store['geometry']['location']['lat']\n",
    "        longitude = store['geometry']['location']['lng']\n",
    "\n",
    "        coordenadas = (latitude, longitude)\n",
    "        lista_coordenadas.append(coordenadas)\n",
    "\n",
    "    if 'next_page_token' in response:\n",
    "        time.sleep(2)\n",
    "        next_page_token = response['next_page_token']\n",
    "        response = client.places(query='Mc Donalds', page_token= next_page_token, radius=5000, location= minha_coord)\n",
    "\n",
    "    else:\n",
    "        break"
   ]
  },
  {
   "cell_type": "code",
   "execution_count": 61,
   "metadata": {},
   "outputs": [
    {
     "name": "stdout",
     "output_type": "stream",
     "text": [
      "[-22.8834606, -43.5800678]\n"
     ]
    },
    {
     "data": {
      "text/html": [
       "<div style=\"width:100%;\"><div style=\"position:relative;width:100%;height:0;padding-bottom:60%;\"><span style=\"color:#565656\">Make this Notebook Trusted to load map: File -> Trust Notebook</span><iframe srcdoc=\"&lt;!DOCTYPE html&gt;\n",
       "&lt;html&gt;\n",
       "&lt;head&gt;\n",
       "    \n",
       "    &lt;meta http-equiv=&quot;content-type&quot; content=&quot;text/html; charset=UTF-8&quot; /&gt;\n",
       "    \n",
       "        &lt;script&gt;\n",
       "            L_NO_TOUCH = false;\n",
       "            L_DISABLE_3D = false;\n",
       "        &lt;/script&gt;\n",
       "    \n",
       "    &lt;style&gt;html, body {width: 100%;height: 100%;margin: 0;padding: 0;}&lt;/style&gt;\n",
       "    &lt;style&gt;#map {position:absolute;top:0;bottom:0;right:0;left:0;}&lt;/style&gt;\n",
       "    &lt;script src=&quot;https://cdn.jsdelivr.net/npm/leaflet@1.9.3/dist/leaflet.js&quot;&gt;&lt;/script&gt;\n",
       "    &lt;script src=&quot;https://code.jquery.com/jquery-1.12.4.min.js&quot;&gt;&lt;/script&gt;\n",
       "    &lt;script src=&quot;https://cdn.jsdelivr.net/npm/bootstrap@5.2.2/dist/js/bootstrap.bundle.min.js&quot;&gt;&lt;/script&gt;\n",
       "    &lt;script src=&quot;https://cdnjs.cloudflare.com/ajax/libs/Leaflet.awesome-markers/2.0.2/leaflet.awesome-markers.js&quot;&gt;&lt;/script&gt;\n",
       "    &lt;link rel=&quot;stylesheet&quot; href=&quot;https://cdn.jsdelivr.net/npm/leaflet@1.9.3/dist/leaflet.css&quot;/&gt;\n",
       "    &lt;link rel=&quot;stylesheet&quot; href=&quot;https://cdn.jsdelivr.net/npm/bootstrap@5.2.2/dist/css/bootstrap.min.css&quot;/&gt;\n",
       "    &lt;link rel=&quot;stylesheet&quot; href=&quot;https://netdna.bootstrapcdn.com/bootstrap/3.0.0/css/bootstrap.min.css&quot;/&gt;\n",
       "    &lt;link rel=&quot;stylesheet&quot; href=&quot;https://cdn.jsdelivr.net/npm/@fortawesome/fontawesome-free@6.2.0/css/all.min.css&quot;/&gt;\n",
       "    &lt;link rel=&quot;stylesheet&quot; href=&quot;https://cdnjs.cloudflare.com/ajax/libs/Leaflet.awesome-markers/2.0.2/leaflet.awesome-markers.css&quot;/&gt;\n",
       "    &lt;link rel=&quot;stylesheet&quot; href=&quot;https://cdn.jsdelivr.net/gh/python-visualization/folium/folium/templates/leaflet.awesome.rotate.min.css&quot;/&gt;\n",
       "    \n",
       "            &lt;meta name=&quot;viewport&quot; content=&quot;width=device-width,\n",
       "                initial-scale=1.0, maximum-scale=1.0, user-scalable=no&quot; /&gt;\n",
       "            &lt;style&gt;\n",
       "                #map_a6232807719fd12e6ffa87fba6890418 {\n",
       "                    position: relative;\n",
       "                    width: 100.0%;\n",
       "                    height: 100.0%;\n",
       "                    left: 0.0%;\n",
       "                    top: 0.0%;\n",
       "                }\n",
       "                .leaflet-container { font-size: 1rem; }\n",
       "            &lt;/style&gt;\n",
       "        \n",
       "    &lt;script src=&quot;https://cdn.jsdelivr.net/gh/python-visualization/folium@main/folium/templates/leaflet_heat.min.js&quot;&gt;&lt;/script&gt;\n",
       "&lt;/head&gt;\n",
       "&lt;body&gt;\n",
       "    \n",
       "    \n",
       "            &lt;div class=&quot;folium-map&quot; id=&quot;map_a6232807719fd12e6ffa87fba6890418&quot; &gt;&lt;/div&gt;\n",
       "        \n",
       "&lt;/body&gt;\n",
       "&lt;script&gt;\n",
       "    \n",
       "    \n",
       "            var map_a6232807719fd12e6ffa87fba6890418 = L.map(\n",
       "                &quot;map_a6232807719fd12e6ffa87fba6890418&quot;,\n",
       "                {\n",
       "                    center: [-22.8834606, -43.5800678],\n",
       "                    crs: L.CRS.EPSG3857,\n",
       "                    zoom: 15,\n",
       "                    zoomControl: true,\n",
       "                    preferCanvas: false,\n",
       "                }\n",
       "            );\n",
       "\n",
       "            \n",
       "\n",
       "        \n",
       "    \n",
       "            var tile_layer_ae081e7184adf8878311a5f26f0f0a6a = L.tileLayer(\n",
       "                &quot;https://{s}.tile.openstreetmap.org/{z}/{x}/{y}.png&quot;,\n",
       "                {&quot;attribution&quot;: &quot;Data by \\u0026copy; \\u003ca target=\\&quot;_blank\\&quot; href=\\&quot;http://openstreetmap.org\\&quot;\\u003eOpenStreetMap\\u003c/a\\u003e, under \\u003ca target=\\&quot;_blank\\&quot; href=\\&quot;http://www.openstreetmap.org/copyright\\&quot;\\u003eODbL\\u003c/a\\u003e.&quot;, &quot;detectRetina&quot;: false, &quot;maxNativeZoom&quot;: 18, &quot;maxZoom&quot;: 18, &quot;minZoom&quot;: 0, &quot;noWrap&quot;: false, &quot;opacity&quot;: 1, &quot;subdomains&quot;: &quot;abc&quot;, &quot;tms&quot;: false}\n",
       "            ).addTo(map_a6232807719fd12e6ffa87fba6890418);\n",
       "        \n",
       "    \n",
       "            var heat_map_2e2be13008c2696ffadb1573606a26f8 = L.heatLayer(\n",
       "                [[-22.9274502, -43.5748104], [-22.9140008, -43.563634], [-22.8911789, -43.5591285], [-22.9022223, -43.54994629999999], [-22.8960889, -43.5633405], [-22.8994446, -43.5736656], [-22.9053712, -43.5596064], [-22.8841807, -43.5581591], [-22.9036324, -43.5572917], [-22.903527, -43.5566981]],\n",
       "                {&quot;blur&quot;: 15, &quot;maxZoom&quot;: 18, &quot;minOpacity&quot;: 0.5, &quot;radius&quot;: 30}\n",
       "            ).addTo(map_a6232807719fd12e6ffa87fba6890418);\n",
       "        \n",
       "&lt;/script&gt;\n",
       "&lt;/html&gt;\" style=\"position:absolute;width:100%;height:100%;left:0;top:0;border:none !important;\" allowfullscreen webkitallowfullscreen mozallowfullscreen></iframe></div></div>"
      ],
      "text/plain": [
       "<folium.folium.Map at 0x1e82f3d4a50>"
      ]
     },
     "execution_count": 61,
     "metadata": {},
     "output_type": "execute_result"
    }
   ],
   "source": [
    "print(list(minha_coord.values()))\n",
    "mapa = folium.Map(location= list(minha_coord.values()), zoom_start= 15)\n",
    "HeatMap(lista_coordenadas, radius= 30).add_to(mapa)\n",
    "mapa"
   ]
  },
  {
   "cell_type": "code",
   "execution_count": 116,
   "metadata": {},
   "outputs": [
    {
     "data": {
      "text/plain": [
       "[-22.9068467, -43.1728965]"
      ]
     },
     "execution_count": 116,
     "metadata": {},
     "output_type": "execute_result"
    }
   ],
   "source": [
    "nome_estado = 'rio de janeiro, brasil'\n",
    "\n",
    "estado_coord = list(client.geocode(nome_estado)[0]['geometry']['location'].values())\n",
    "estado_coord"
   ]
  },
  {
   "cell_type": "code",
   "execution_count": 184,
   "metadata": {},
   "outputs": [
    {
     "name": "stdout",
     "output_type": "stream",
     "text": [
      "0/20 - response\n",
      "1/20 - response\n",
      "2/20 - response\n",
      "3/20 - response\n",
      "4/20 - response\n",
      "5/20 - response\n",
      "6/20 - response\n",
      "7/20 - response\n",
      "8/20 - response\n",
      "9/20 - response\n",
      "10/20 - response\n",
      "11/20 - response\n",
      "12/20 - response\n",
      "13/20 - response\n",
      "14/20 - response\n",
      "15/20 - response\n",
      "16/20 - response\n",
      "17/20 - response\n",
      "18/20 - response\n",
      "19/20 - response\n",
      "0/20 - response\n",
      "1/20 - response\n",
      "2/20 - response\n",
      "3/20 - response\n",
      "4/20 - response\n",
      "5/20 - response\n",
      "6/20 - response\n",
      "7/20 - response\n",
      "8/20 - response\n",
      "9/20 - response\n",
      "10/20 - response\n",
      "11/20 - response\n",
      "12/20 - response\n",
      "13/20 - response\n",
      "14/20 - response\n",
      "15/20 - response\n",
      "16/20 - response\n",
      "17/20 - response\n",
      "18/20 - response\n",
      "19/20 - response\n",
      "0/20 - response\n",
      "1/20 - response\n",
      "2/20 - response\n",
      "3/20 - response\n",
      "4/20 - response\n",
      "5/20 - response\n",
      "6/20 - response\n",
      "7/20 - response\n",
      "8/20 - response\n",
      "9/20 - response\n",
      "10/20 - response\n",
      "11/20 - response\n",
      "12/20 - response\n",
      "13/20 - response\n",
      "14/20 - response\n",
      "15/20 - response\n",
      "16/20 - response\n",
      "17/20 - response\n",
      "18/20 - response\n",
      "19/20 - response\n"
     ]
    }
   ],
   "source": [
    "lista_dfs = []\n",
    "\n",
    "response = client.places_nearby(location=estado_coord, keyword=\"Mc Donalds\", radius=50000)\n",
    "\n",
    "while True:\n",
    "    time.sleep(0.1)\n",
    "\n",
    "    for j, store in enumerate(response[\"results\"]):\n",
    "        print(f'{j}/{len(response[\"results\"])} - response')\n",
    "\n",
    "        df = pd.DataFrame(\n",
    "            {\n",
    "                \"nome\": store[\"name\"],\n",
    "                \"endereco\": store[\"vicinity\"],\n",
    "                \"latitude\": store[\"geometry\"][\"location\"][\"lat\"],\n",
    "                \"longitude\": store[\"geometry\"][\"location\"][\"lng\"],\n",
    "            },\n",
    "            index=[0],\n",
    "        )\n",
    "        lista_dfs.append(df)\n",
    "\n",
    "    if \"next_page_token\" in response:\n",
    "        next_page_token = response[\"next_page_token\"]\n",
    "        time.sleep(2.3)\n",
    "        response = client.places_nearby(\n",
    "            location=coordenada,\n",
    "            keyword=\"Riachuelo\",\n",
    "            radius=50000,\n",
    "            page_token=next_page_token,\n",
    "        )\n",
    "\n",
    "    else:\n",
    "        break\n",
    "\n",
    "lojas_mc = pd.concat(lista_dfs, ignore_index=True)"
   ]
  },
  {
   "cell_type": "code",
   "execution_count": 189,
   "metadata": {},
   "outputs": [],
   "source": [
    "lojas_mc_filtrado = lojas_mc[\n",
    "    (lojas_mc[\"nome\"].str.lower().str.contains(\"mcdonald\"))\n",
    "    | lojas_mc[\"nome\"].str.lower().str.contains(\"mc donald\")\n",
    "]\n",
    "mc_estado_coord = lojas_mc_filtrado[['latitude', 'longitude']].values"
   ]
  },
  {
   "cell_type": "code",
   "execution_count": 198,
   "metadata": {},
   "outputs": [
    {
     "data": {
      "text/html": [
       "<div style=\"width:100%;\"><div style=\"position:relative;width:100%;height:0;padding-bottom:60%;\"><span style=\"color:#565656\">Make this Notebook Trusted to load map: File -> Trust Notebook</span><iframe srcdoc=\"&lt;!DOCTYPE html&gt;\n",
       "&lt;html&gt;\n",
       "&lt;head&gt;\n",
       "    \n",
       "    &lt;meta http-equiv=&quot;content-type&quot; content=&quot;text/html; charset=UTF-8&quot; /&gt;\n",
       "    \n",
       "        &lt;script&gt;\n",
       "            L_NO_TOUCH = false;\n",
       "            L_DISABLE_3D = false;\n",
       "        &lt;/script&gt;\n",
       "    \n",
       "    &lt;style&gt;html, body {width: 100%;height: 100%;margin: 0;padding: 0;}&lt;/style&gt;\n",
       "    &lt;style&gt;#map {position:absolute;top:0;bottom:0;right:0;left:0;}&lt;/style&gt;\n",
       "    &lt;script src=&quot;https://cdn.jsdelivr.net/npm/leaflet@1.9.3/dist/leaflet.js&quot;&gt;&lt;/script&gt;\n",
       "    &lt;script src=&quot;https://code.jquery.com/jquery-1.12.4.min.js&quot;&gt;&lt;/script&gt;\n",
       "    &lt;script src=&quot;https://cdn.jsdelivr.net/npm/bootstrap@5.2.2/dist/js/bootstrap.bundle.min.js&quot;&gt;&lt;/script&gt;\n",
       "    &lt;script src=&quot;https://cdnjs.cloudflare.com/ajax/libs/Leaflet.awesome-markers/2.0.2/leaflet.awesome-markers.js&quot;&gt;&lt;/script&gt;\n",
       "    &lt;link rel=&quot;stylesheet&quot; href=&quot;https://cdn.jsdelivr.net/npm/leaflet@1.9.3/dist/leaflet.css&quot;/&gt;\n",
       "    &lt;link rel=&quot;stylesheet&quot; href=&quot;https://cdn.jsdelivr.net/npm/bootstrap@5.2.2/dist/css/bootstrap.min.css&quot;/&gt;\n",
       "    &lt;link rel=&quot;stylesheet&quot; href=&quot;https://netdna.bootstrapcdn.com/bootstrap/3.0.0/css/bootstrap.min.css&quot;/&gt;\n",
       "    &lt;link rel=&quot;stylesheet&quot; href=&quot;https://cdn.jsdelivr.net/npm/@fortawesome/fontawesome-free@6.2.0/css/all.min.css&quot;/&gt;\n",
       "    &lt;link rel=&quot;stylesheet&quot; href=&quot;https://cdnjs.cloudflare.com/ajax/libs/Leaflet.awesome-markers/2.0.2/leaflet.awesome-markers.css&quot;/&gt;\n",
       "    &lt;link rel=&quot;stylesheet&quot; href=&quot;https://cdn.jsdelivr.net/gh/python-visualization/folium/folium/templates/leaflet.awesome.rotate.min.css&quot;/&gt;\n",
       "    \n",
       "            &lt;meta name=&quot;viewport&quot; content=&quot;width=device-width,\n",
       "                initial-scale=1.0, maximum-scale=1.0, user-scalable=no&quot; /&gt;\n",
       "            &lt;style&gt;\n",
       "                #map_9a752431e66ea979f4d973471b672365 {\n",
       "                    position: relative;\n",
       "                    width: 100.0%;\n",
       "                    height: 100.0%;\n",
       "                    left: 0.0%;\n",
       "                    top: 0.0%;\n",
       "                }\n",
       "                .leaflet-container { font-size: 1rem; }\n",
       "            &lt;/style&gt;\n",
       "        \n",
       "    &lt;script src=&quot;https://cdn.jsdelivr.net/gh/python-visualization/folium@main/folium/templates/leaflet_heat.min.js&quot;&gt;&lt;/script&gt;\n",
       "&lt;/head&gt;\n",
       "&lt;body&gt;\n",
       "    \n",
       "    \n",
       "            &lt;div class=&quot;folium-map&quot; id=&quot;map_9a752431e66ea979f4d973471b672365&quot; &gt;&lt;/div&gt;\n",
       "        \n",
       "&lt;/body&gt;\n",
       "&lt;script&gt;\n",
       "    \n",
       "    \n",
       "            var map_9a752431e66ea979f4d973471b672365 = L.map(\n",
       "                &quot;map_9a752431e66ea979f4d973471b672365&quot;,\n",
       "                {\n",
       "                    center: [-22.9068467, -43.1728965],\n",
       "                    crs: L.CRS.EPSG3857,\n",
       "                    zoom: 8,\n",
       "                    zoomControl: true,\n",
       "                    preferCanvas: false,\n",
       "                }\n",
       "            );\n",
       "\n",
       "            \n",
       "\n",
       "        \n",
       "    \n",
       "            var tile_layer_332a60283d75333fc7f36471063e9b03 = L.tileLayer(\n",
       "                &quot;https://cartodb-basemaps-{s}.global.ssl.fastly.net/dark_all/{z}/{x}/{y}.png&quot;,\n",
       "                {&quot;attribution&quot;: &quot;\\u0026copy; \\u003ca target=\\&quot;_blank\\&quot; href=\\&quot;http://www.openstreetmap.org/copyright\\&quot;\\u003eOpenStreetMap\\u003c/a\\u003e contributors \\u0026copy; \\u003ca target=\\&quot;_blank\\&quot; href=\\&quot;http://cartodb.com/attributions\\&quot;\\u003eCartoDB\\u003c/a\\u003e, CartoDB \\u003ca target=\\&quot;_blank\\&quot; href =\\&quot;http://cartodb.com/attributions\\&quot;\\u003eattributions\\u003c/a\\u003e&quot;, &quot;detectRetina&quot;: false, &quot;maxNativeZoom&quot;: 18, &quot;maxZoom&quot;: 18, &quot;minZoom&quot;: 0, &quot;noWrap&quot;: false, &quot;opacity&quot;: 1, &quot;subdomains&quot;: &quot;abc&quot;, &quot;tms&quot;: false}\n",
       "            ).addTo(map_9a752431e66ea979f4d973471b672365);\n",
       "        \n",
       "    \n",
       "            var heat_map_5c0db5fb8d59b95acd989dbb5c2fbd71 = L.heatLayer(\n",
       "                [[-22.9056077, -43.1761831], [-22.8234761, -43.046556], [-22.9145932, -43.2192686], [-22.9227329, -43.2341956], [-22.9766704, -43.1901489], [-22.9836616, -43.2198192], [-22.9708847, -43.1864104], [-22.9044687, -43.1771804], [-22.8867701, -43.2884083], [-22.9829281, -43.3623799], [-23.021557, -43.48862], [-22.7613374, -43.45578949999999], [-22.9233385, -43.2492723], [-22.9033902, -43.17846970000001], [-22.9681457, -43.183966], [-23.0140988, -43.4675742], [-22.9537762, -43.19129650000001], [-22.9992305, -43.40508519999999], [-22.911237, -43.1759081], [-22.9219385, -43.2353733], [-22.9124164, -43.1666883], [-22.9031303, -43.2830114], [-22.9474791, -43.1831975], [-22.9024087, -43.1811066], [-22.9574415, -43.176208], [-22.9298424, -43.1777513], [-22.9845734, -43.2026622], [-22.870455, -43.3410831], [-22.9412594, -43.34463119999999], [-22.9890673, -43.3614967], [-22.8975716, -43.180642], [-22.8215742, -43.408192], [-22.9250863, -43.3609062], [-22.9271647, -43.34326189999999], [-22.9149532, -43.09479140000001], [-23.0011173, -43.3336704], [-23.0180754, -43.4788726], [-22.8739388, -43.3372739], [-22.8393943, -43.3108028], [-23.0102629, -43.4606111], [-22.8764928, -43.370831], [-22.9144468, -43.1667085], [-22.8836914, -43.2845608], [-22.9844728, -43.3665311], [-22.8057239, -43.2103308], [-22.7887249, -43.3108831], [-22.7894959, -43.2861486], [-22.8786423, -43.4682068], [-22.9014988, -43.2799205], [-22.8860505, -43.4027717], [-22.8249268, -43.3127757], [-22.9274502, -43.5748104], [-23.0125527, -43.4575148], [-22.9745703, -43.4142342], [-22.8266354, -43.0156016], [-22.9630126, -43.1742389], [-22.8660554, -43.2552268], [-22.9140008, -43.563634], [-22.8695378, -43.2474627], [-22.8329122, -43.32723]],\n",
       "                {&quot;blur&quot;: 15, &quot;maxZoom&quot;: 18, &quot;minOpacity&quot;: 0.5, &quot;radius&quot;: 30}\n",
       "            ).addTo(map_9a752431e66ea979f4d973471b672365);\n",
       "        \n",
       "&lt;/script&gt;\n",
       "&lt;/html&gt;\" style=\"position:absolute;width:100%;height:100%;left:0;top:0;border:none !important;\" allowfullscreen webkitallowfullscreen mozallowfullscreen></iframe></div></div>"
      ],
      "text/plain": [
       "<folium.folium.Map at 0x1e83324fc50>"
      ]
     },
     "execution_count": 198,
     "metadata": {},
     "output_type": "execute_result"
    }
   ],
   "source": [
    "map_calor = folium.Map(location=estado_coord, zoom_start=8, tiles=\"Cartodb dark_matter\",)\n",
    "\n",
    "HeatMap(mc_estado_coord, radius= 30).add_to(map_calor)\n",
    "\n",
    "map_calor"
   ]
  }
 ],
 "metadata": {
  "kernelspec": {
   "display_name": "Python 3",
   "language": "python",
   "name": "python3"
  },
  "language_info": {
   "codemirror_mode": {
    "name": "ipython",
    "version": 3
   },
   "file_extension": ".py",
   "mimetype": "text/x-python",
   "name": "python",
   "nbconvert_exporter": "python",
   "pygments_lexer": "ipython3",
   "version": "3.11.5"
  }
 },
 "nbformat": 4,
 "nbformat_minor": 2
}
