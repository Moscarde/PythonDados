{
 "cells": [
  {
   "cell_type": "markdown",
   "id": "84320f71",
   "metadata": {},
   "source": [
    "# Aula 4\n",
    "### Variaveis"
   ]
  },
  {
   "cell_type": "code",
   "execution_count": 1,
   "id": "32e0011f",
   "metadata": {},
   "outputs": [],
   "source": [
    "inteiro = int(5)\n",
    "flutuante_ou_decimal = float(1.5)\n",
    "string = str(\"codigo\")\n",
    "boleano = bool(True) #Capitalizado"
   ]
  },
  {
   "cell_type": "code",
   "execution_count": 2,
   "id": "841dab93",
   "metadata": {},
   "outputs": [
    {
     "name": "stdout",
     "output_type": "stream",
     "text": [
      "<class 'int'>\n",
      "5\n"
     ]
    }
   ],
   "source": [
    "#Verificando tipo de objeto\n",
    "print(type(inteiro))\n",
    "print(inteiro)"
   ]
  },
  {
   "cell_type": "code",
   "execution_count": 4,
   "id": "8e5753d5",
   "metadata": {},
   "outputs": [
    {
     "name": "stdout",
     "output_type": "stream",
     "text": [
      "<class 'str'>\n",
      "5\n",
      "False\n"
     ]
    }
   ],
   "source": [
    "#converter um tipo para outro\n",
    "inteiro_em_string = str(inteiro)\n",
    "print(type(inteiro_em_string))\n",
    "print(inteiro_em_string)\n",
    "\n",
    "print(inteiro_em_string == 5) #Vai dar False por que agora é uma string \"5\""
   ]
  },
  {
   "cell_type": "code",
   "execution_count": 7,
   "id": "ebed0ca7",
   "metadata": {},
   "outputs": [
    {
     "name": "stdout",
     "output_type": "stream",
     "text": [
      "A melhor empresa do Brasil é a Petrobras\n"
     ]
    }
   ],
   "source": [
    "#Como criar strings variaveis\n",
    "string_normal = \"A melhor empresa do Brasil é a Weg\"\n",
    "empresa = \"Petrobras\"\n",
    "\n",
    "string_variavel = f\"A melhor empresa do Brasil é a {empresa}\"\n",
    "print(string_variavel)"
   ]
  },
  {
   "cell_type": "markdown",
   "id": "ea9f1a16",
   "metadata": {},
   "source": [
    "### Desafios"
   ]
  },
  {
   "cell_type": "code",
   "execution_count": 9,
   "id": "31daa79e",
   "metadata": {},
   "outputs": [
    {
     "name": "stdout",
     "output_type": "stream",
     "text": [
      "21 <class 'str'>\n"
     ]
    }
   ],
   "source": [
    "phone = 21\n",
    "name = \"Gabriel\"\n",
    "weigth = 78.4\n",
    "studying = True\n",
    "\n",
    "phone = str(phone)\n",
    "\n",
    "print(phone, type(phone))\n"
   ]
  },
  {
   "cell_type": "code",
   "execution_count": 10,
   "id": "3a575500",
   "metadata": {},
   "outputs": [
    {
     "name": "stdout",
     "output_type": "stream",
     "text": [
      "O Gabriel é a pessoa mais rica do mundo. -sqn\n"
     ]
    }
   ],
   "source": [
    "print(f\"O {name} é a pessoa mais rica do mundo. -sqn\")"
   ]
  },
  {
   "cell_type": "code",
   "execution_count": null,
   "id": "a3a28bd1",
   "metadata": {},
   "outputs": [],
   "source": []
  }
 ],
 "metadata": {
  "kernelspec": {
   "display_name": "Python 3 (ipykernel)",
   "language": "python",
   "name": "python3"
  },
  "language_info": {
   "codemirror_mode": {
    "name": "ipython",
    "version": 3
   },
   "file_extension": ".py",
   "mimetype": "text/x-python",
   "name": "python",
   "nbconvert_exporter": "python",
   "pygments_lexer": "ipython3",
   "version": "3.11.5"
  }
 },
 "nbformat": 4,
 "nbformat_minor": 5
}
