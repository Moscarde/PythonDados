{
 "cells": [
  {
   "cell_type": "markdown",
   "metadata": {},
   "source": [
    "# Aula 13"
   ]
  },
  {
   "cell_type": "code",
   "execution_count": 1,
   "metadata": {},
   "outputs": [],
   "source": [
    "#criar dicionários\n",
    "\n",
    "dicionario_vazio = {}\n",
    "dicionario_povoado = dict({'nome': 'Gabriel', 'sobrenome': 'Moscarde'})\n",
    "dicionario_numerico = {1: 'Gabriel', 2: 'Laura', 3: 'Nicolas'}\n",
    "dicionario_com_listas = {'empresas_novo_mercado': ['Weg', 'Renner', 'Vale'],\n",
    "                        'empresas_em_outro_seguimento': ['Petrobras', 'Alpargatas']}\n",
    "dicionario_empresas_na_carteira = {True: ['Pão de açucar', 'Guararapes']}                        "
   ]
  },
  {
   "cell_type": "code",
   "execution_count": 5,
   "metadata": {},
   "outputs": [
    {
     "name": "stdout",
     "output_type": "stream",
     "text": [
      "Laura\n",
      "Moscarde\n",
      "['Weg', 'Renner', 'Vale']\n",
      "Petrobras\n"
     ]
    }
   ],
   "source": [
    "#pegando itens dentro dos dicionários\n",
    "\n",
    "print(dicionario_numerico[2])\n",
    "print(dicionario_povoado.get('sobrenome'))\n",
    "print(dicionario_com_listas['empresas_novo_mercado'])\n",
    "print(dicionario_com_listas.get('empresas_em_outro_seguimento')[0])\n"
   ]
  },
  {
   "cell_type": "code",
   "execution_count": 6,
   "metadata": {},
   "outputs": [
    {
     "name": "stdout",
     "output_type": "stream",
     "text": [
      "{'Curso': 'Python', 'Modulo': 2, 'Aula': 13}\n"
     ]
    }
   ],
   "source": [
    "#adicionar elementos em um dicionario\n",
    "\n",
    "dicionario_vazio['Curso'] = 'Python'\n",
    "dicionario_vazio.update({'Modulo': 2, 'Aula': 13})\n",
    "\n",
    "print(dicionario_vazio)"
   ]
  },
  {
   "cell_type": "code",
   "execution_count": 7,
   "metadata": {},
   "outputs": [
    {
     "name": "stdout",
     "output_type": "stream",
     "text": [
      "{'Modulo': 2, 'Aula': 13}\n"
     ]
    }
   ],
   "source": [
    "#removendo dados de um dicionario\n",
    "\n",
    "dicionario_vazio.pop('Curso')\n",
    "\n",
    "print(dicionario_vazio)"
   ]
  },
  {
   "cell_type": "code",
   "execution_count": 10,
   "metadata": {},
   "outputs": [
    {
     "name": "stdout",
     "output_type": "stream",
     "text": [
      "             WEG3  PCAR3\n",
      "2023-10-03  50.10  20.05\n",
      "2023-10-04  49.09  19.06\n",
      "2023-10-05  30.06  21.39\n"
     ]
    }
   ],
   "source": [
    "#aplicabilidades dicionário\n",
    "\n",
    "import pandas as pd\n",
    "\n",
    "#tabela de cotações\n",
    "dicionario_cotacoes = {'WEG3': [50.10, 49.09, 30.06], 'PCAR3': [20.05, 19.06, 21.39]}\n",
    "\n",
    "tabela_cotacoes = pd.DataFrame(data = dicionario_cotacoes,\n",
    "index=pd.date_range(start='2023-10-03', end='2023-10-05'))\n",
    "\n",
    "print(tabela_cotacoes)"
   ]
  },
  {
   "cell_type": "code",
   "execution_count": 12,
   "metadata": {},
   "outputs": [
    {
     "name": "stdout",
     "output_type": "stream",
     "text": [
      "Novo mercado\n"
     ]
    }
   ],
   "source": [
    "#caracteristicas de um objeto\n",
    "weg = {'Nome': 'Weg', 'Segmento de listagem': 'Novo mercado'}\n",
    "\n",
    "print(weg['Segmento de listagem'])"
   ]
  },
  {
   "cell_type": "markdown",
   "metadata": {},
   "source": [
    "## Desafios"
   ]
  },
  {
   "cell_type": "code",
   "execution_count": 20,
   "metadata": {},
   "outputs": [
    {
     "name": "stdout",
     "output_type": "stream",
     "text": [
      "Dados da empresa Farpas:\n",
      "CNPJ: 23071001190\n",
      "Codigo de negociação: FARP3\n",
      "Ano de fundação: 2015\n",
      "\n",
      "Deseja adquirir: [S] para SIM ou [N] para NÃO\n",
      "\n",
      "comprado\n",
      "{'nome': 'Farpas', 'cnpj': 23071001190, 'codigo_de_negociacao': 'FARP3', 'fundacao': 2015, 'seguimento_de_listagem': 'Varejo', 'p_l': 21, 'roe': 31, 'possui_na_carteira': True}\n"
     ]
    }
   ],
   "source": [
    "empresa = {'nome': 'Farpas', 'cnpj': 23071001190, 'codigo_de_negociacao': 'FARP3', 'fundacao': 2015, 'seguimento_de_listagem': 'Varejo', 'p_l': 21, 'roe': 31}\n",
    "\n",
    "print(f'''Dados da empresa {empresa['nome']}:\n",
    "CNPJ: {empresa['cnpj']}\n",
    "Codigo de negociação: {empresa['codigo_de_negociacao']}\n",
    "Ano de fundação: {empresa['fundacao']}\n",
    "\n",
    "Deseja adquirir: [S] para SIM ou [N] para NÃO\n",
    "''')\n",
    "\n",
    "comprou = input('')\n",
    "if comprou == 'S' or comprou == 's':\n",
    "    print('comprado')\n",
    "    empresa['possui_na_carteira'] = True\n",
    "elif comprou == 'N' or comprou == 'n':\n",
    "    print('não comprou')\n",
    "else:\n",
    "    print('Comando nao correspondente')\n",
    "\n",
    "print(empresa)"
   ]
  },
  {
   "cell_type": "code",
   "execution_count": null,
   "metadata": {},
   "outputs": [],
   "source": []
  },
  {
   "cell_type": "code",
   "execution_count": null,
   "metadata": {},
   "outputs": [],
   "source": []
  }
 ],
 "metadata": {
  "kernelspec": {
   "display_name": "Python 3",
   "language": "python",
   "name": "python3"
  },
  "language_info": {
   "codemirror_mode": {
    "name": "ipython",
    "version": 3
   },
   "file_extension": ".py",
   "mimetype": "text/x-python",
   "name": "python",
   "nbconvert_exporter": "python",
   "pygments_lexer": "ipython3",
   "version": "3.11.5"
  },
  "orig_nbformat": 4
 },
 "nbformat": 4,
 "nbformat_minor": 2
}
