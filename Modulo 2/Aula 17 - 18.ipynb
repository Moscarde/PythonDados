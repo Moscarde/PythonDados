{
 "cells": [
  {
   "cell_type": "markdown",
   "metadata": {},
   "source": [
    "# Aula 17 - 18\n"
   ]
  },
  {
   "cell_type": "code",
   "execution_count": 6,
   "metadata": {},
   "outputs": [],
   "source": [
    "import time\n",
    "import pandas as pd\n",
    "import datetime\n"
   ]
  },
  {
   "cell_type": "code",
   "execution_count": 7,
   "metadata": {},
   "outputs": [
    {
     "name": "stdout",
     "output_type": "stream",
     "text": [
      "WEG\n",
      "VALE\n",
      "PETROBRAS\n"
     ]
    }
   ],
   "source": [
    "# loop simples em uma lista\n",
    "\n",
    "lista_empresas = ['Weg', 'Vale', 'Petrobras']\n",
    "\n",
    "for empresa in lista_empresas:\n",
    "    print(empresa.upper())\n",
    "    time.sleep(.5)\n",
    "\n"
   ]
  },
  {
   "cell_type": "code",
   "execution_count": 8,
   "metadata": {},
   "outputs": [
    {
     "name": "stdout",
     "output_type": "stream",
     "text": [
      "[0, 1, 2]\n",
      "Weg\n",
      "Vale\n",
      "Petrobras\n"
     ]
    }
   ],
   "source": [
    "#loop em um range\n",
    "\n",
    "print(list(range(3)))\n",
    "\n",
    "for i in range(0, 3):\n",
    "    print(lista_empresas[i])"
   ]
  },
  {
   "cell_type": "code",
   "execution_count": 9,
   "metadata": {},
   "outputs": [
    {
     "name": "stdout",
     "output_type": "stream",
     "text": [
      "  Nome empresa  Cotação\n",
      "0          Weg       20\n",
      "1         Vale       30\n",
      "2    Petrobras       45\n"
     ]
    }
   ],
   "source": [
    "#por que usar range\n",
    "#itera indexes\n",
    "\n",
    "lista_empresas = ['Weg', 'Vale', 'Petrobras']\n",
    "lista_cotacoes = [20, 30, 45]\n",
    "lista_dicionarios = []\n",
    "\n",
    "for i in range(3):\n",
    "    lista_dicionarios.append(pd.DataFrame({'Nome empresa': lista_empresas[i], 'Cotação': lista_cotacoes[i]}, index=[i]))\n",
    "\n",
    "tabela = pd.concat(lista_dicionarios)\n",
    "print(tabela)"
   ]
  },
  {
   "cell_type": "code",
   "execution_count": 10,
   "metadata": {},
   "outputs": [
    {
     "name": "stdout",
     "output_type": "stream",
     "text": [
      "  Nome empresa  Cotação\n",
      "0          Weg       20\n",
      "1         Vale       30\n",
      "2    Petrobras       45\n"
     ]
    }
   ],
   "source": [
    "#enumerate usa os dois mundos\n",
    "\n",
    "\n",
    "lista_empresas = ['Weg', 'Vale', 'Petrobras']\n",
    "lista_cotacoes = [20, 30, 45]\n",
    "lista_dicionarios = []\n",
    "\n",
    "for indice, cotacao in enumerate(lista_cotacoes):\n",
    "    lista_dicionarios.append(pd.DataFrame(\n",
    "        {'Nome empresa': lista_empresas[indice], 'Cotação': cotacao}, \n",
    "        index=[indice]))\n",
    "\n",
    "tabela = pd.concat(lista_dicionarios)\n",
    "print(tabela)\n"
   ]
  },
  {
   "cell_type": "markdown",
   "metadata": {},
   "source": [
    "## While"
   ]
  },
  {
   "cell_type": "code",
   "execution_count": 11,
   "metadata": {},
   "outputs": [
    {
     "name": "stdout",
     "output_type": "stream",
     "text": [
      "O programa está rodando há 00 segundos\n",
      "O programa está rodando há 05 segundos\n"
     ]
    },
    {
     "ename": "KeyboardInterrupt",
     "evalue": "",
     "output_type": "error",
     "traceback": [
      "\u001b[1;31m---------------------------------------------------------------------------\u001b[0m",
      "\u001b[1;31mKeyboardInterrupt\u001b[0m                         Traceback (most recent call last)",
      "\u001b[1;32mc:\\Users\\Gabriel\\Python Dados\\Modulo 2\\Aula 17 - 18.ipynb Célula 8\u001b[0m line \u001b[0;36m8\n\u001b[0;32m      <a href='vscode-notebook-cell:/c%3A/Users/Gabriel/Python%20Dados/Modulo%202/Aula%2017%20-%2018.ipynb#X12sZmlsZQ%3D%3D?line=4'>5</a>\u001b[0m tempo_rodando \u001b[39m=\u001b[39m datetime\u001b[39m.\u001b[39mdatetime\u001b[39m.\u001b[39mnow() \u001b[39m-\u001b[39m tempo\n\u001b[0;32m      <a href='vscode-notebook-cell:/c%3A/Users/Gabriel/Python%20Dados/Modulo%202/Aula%2017%20-%2018.ipynb#X12sZmlsZQ%3D%3D?line=5'>6</a>\u001b[0m \u001b[39mprint\u001b[39m(\u001b[39mf\u001b[39m\u001b[39m\"\u001b[39m\u001b[39mO programa está rodando há \u001b[39m\u001b[39m{\u001b[39;00m\u001b[39mstr\u001b[39m(tempo_rodando)\u001b[39m.\u001b[39msplit(\u001b[39m'\u001b[39m\u001b[39m.\u001b[39m\u001b[39m'\u001b[39m)[\u001b[39m0\u001b[39m][\u001b[39m-\u001b[39m\u001b[39m2\u001b[39m:]\u001b[39m}\u001b[39;00m\u001b[39m segundos\u001b[39m\u001b[39m\"\u001b[39m)\n\u001b[1;32m----> <a href='vscode-notebook-cell:/c%3A/Users/Gabriel/Python%20Dados/Modulo%202/Aula%2017%20-%2018.ipynb#X12sZmlsZQ%3D%3D?line=7'>8</a>\u001b[0m time\u001b[39m.\u001b[39;49msleep(\u001b[39m5\u001b[39;49m)\n",
      "\u001b[1;31mKeyboardInterrupt\u001b[0m: "
     ]
    }
   ],
   "source": [
    "# while infinito\n",
    "tempo = datetime.datetime.now()\n",
    "\n",
    "while True:\n",
    "    tempo_rodando = datetime.datetime.now() - tempo\n",
    "    print(f\"O programa está rodando há {str(tempo_rodando).split('.')[0][-2:]} segundos\")\n",
    "\n",
    "    time.sleep(5)"
   ]
  },
  {
   "cell_type": "code",
   "execution_count": 12,
   "metadata": {},
   "outputs": [
    {
     "name": "stdout",
     "output_type": "stream",
     "text": [
      "20\n",
      "30\n"
     ]
    }
   ],
   "source": [
    "# while com parador\n",
    "lista_cotacoes = [20, 30, 45]\n",
    "contador = 0\n",
    "\n",
    "while lista_cotacoes[contador] < 35:\n",
    "    print(lista_cotacoes[contador])\n",
    "    contador += 1"
   ]
  },
  {
   "cell_type": "markdown",
   "metadata": {},
   "source": [
    "## Desafios"
   ]
  },
  {
   "cell_type": "code",
   "execution_count": 15,
   "metadata": {},
   "outputs": [
    {
     "name": "stdout",
     "output_type": "stream",
     "text": [
      "[13.0, 44.0, 23.0, 14.0, 4.0]\n",
      "A maior cotacao inserida foi: 44.0\n",
      "A menor cotacao inserida foi: 4.0\n"
     ]
    }
   ],
   "source": [
    "#lendo cotacoes\n",
    "cotacoes_usuario = []\n",
    "for i in range(5):\n",
    "    cotacoes_usuario.append(float(input('Digite uma cotacao: ')))\n",
    "\n",
    "\n",
    "print(cotacoes_usuario)\n",
    "print(f'A maior cotacao inserida foi: {max(cotacoes_usuario)}')\n",
    "print(f'A menor cotacao inserida foi: {min(cotacoes_usuario)}')\n"
   ]
  },
  {
   "cell_type": "code",
   "execution_count": 2,
   "metadata": {},
   "outputs": [
    {
     "name": "stdout",
     "output_type": "stream",
     "text": [
      "Seja bem vindo...\n",
      "Cadastros finalizados\n",
      "[{'nome': 'Weg', 'p_l': 23, 'roe': 3.4}]\n"
     ]
    }
   ],
   "source": [
    "#adicionar a carteiras\n",
    "\n",
    "print('Seja bem vindo...')\n",
    "\n",
    "nova_carteira = True\n",
    "carteira = []\n",
    "while nova_carteira:\n",
    "    nome = input('Digite o nome da empresa: ').title()\n",
    "    p_l = int(input('Digite o P/L da empresa: '))\n",
    "    roe = float(input('Digite o ROE da empresa: '))\n",
    "\n",
    "    carteira.append({'nome': nome, 'p_l': p_l, 'roe': roe})\n",
    "\n",
    "    deseja_continuar = input('Deseja cadastrar mais empresas: [S/N]').upper()\n",
    "\n",
    "    if deseja_continuar != 'N' and deseja_continuar != 'S':\n",
    "        invalido = True\n",
    "        \n",
    "        while invalido:\n",
    "            deseja_continuar = input('Por favor, digite um comando válido!: [S/N] ').upper()\n",
    "\n",
    "            if deseja_continuar == 'N' or deseja_continuar == 'S':\n",
    "                break\n",
    "\n",
    "\n",
    "    if deseja_continuar == 'N':\n",
    "        print('Cadastros finalizados')\n",
    "        break\n",
    "\n",
    "    elif deseja_continuar == 'S':\n",
    "        print('Iniciando novo Cadastro')\n",
    "        nova_carteira = True\n",
    "\n",
    "    \n",
    "print(carteira)\n",
    "\n",
    "\n",
    "\n",
    "\n",
    "    "
   ]
  },
  {
   "cell_type": "code",
   "execution_count": null,
   "metadata": {},
   "outputs": [],
   "source": []
  },
  {
   "cell_type": "code",
   "execution_count": 26,
   "metadata": {},
   "outputs": [
    {
     "name": "stdout",
     "output_type": "stream",
     "text": [
      "Você possui 3 empresas em sua carteira\n",
      "A media do P/L é 33.333333333333336\n",
      "A media do ROE é 0.6\n",
      "A empresa com menor P/L é a Alpa\n"
     ]
    }
   ],
   "source": [
    "print(f'Você possui {len(carteira)} empresas em sua carteira')\n",
    "\n",
    "carteira_p_l = []\n",
    "carteira_roe = []\n",
    "for empresa in carteira:\n",
    "    carteira_p_l.append(empresa['p_l'])\n",
    "    carteira_roe.append(empresa['roe'])\n",
    "\n",
    "media_p_l = sum(carteira_p_l) / len(carteira_p_l)\n",
    "media_roe = sum(carteira_roe) / len(carteira_roe)\n",
    "\n",
    "print('A media do P/L é', media_p_l)\n",
    "print('A media do ROE é', media_roe)\n",
    "print('A empresa com menor P/L é a', carteira[tuple(carteira_p_l).index(min(carteira_p_l))]['nome'])\n",
    "\n",
    "if len(carteira) < 3:\n",
    "    print('A sua carteira está muito concentrada em poucos ativos')\n",
    "\n",
    "\n",
    "\n",
    "\n",
    "\n"
   ]
  },
  {
   "cell_type": "markdown",
   "metadata": {},
   "source": [
    "### Resposta da Aula"
   ]
  },
  {
   "cell_type": "code",
   "execution_count": 27,
   "metadata": {},
   "outputs": [
    {
     "name": "stdout",
     "output_type": "stream",
     "text": [
      "A maior cotação digitada foi R$50.0 e a menor foi R$10.0\n"
     ]
    }
   ],
   "source": [
    "maior = 0\n",
    "menor = 0\n",
    "\n",
    "for i in range(0, 5):\n",
    "\n",
    "    cotacao = float(input('Digite uma cotação: '))\n",
    "\n",
    "    if i == 0:\n",
    "        menor = cotacao\n",
    "        maior = cotacao\n",
    "\n",
    "    else:\n",
    "        if cotacao > maior:\n",
    "            maior = cotacao\n",
    "        if cotacao < menor:\n",
    "            menor = cotacao\n",
    "\n",
    "print(f\"A maior cotação digitada foi R${maior} e a menor foi R${menor}\")\n",
    "    "
   ]
  },
  {
   "cell_type": "markdown",
   "metadata": {},
   "source": []
  }
 ],
 "metadata": {
  "kernelspec": {
   "display_name": "Python 3",
   "language": "python",
   "name": "python3"
  },
  "language_info": {
   "codemirror_mode": {
    "name": "ipython",
    "version": 3
   },
   "file_extension": ".py",
   "mimetype": "text/x-python",
   "name": "python",
   "nbconvert_exporter": "python",
   "pygments_lexer": "ipython3",
   "version": "3.11.5"
  },
  "orig_nbformat": 4
 },
 "nbformat": 4,
 "nbformat_minor": 2
}
