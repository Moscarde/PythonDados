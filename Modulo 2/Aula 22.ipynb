{
 "cells": [
  {
   "cell_type": "markdown",
   "metadata": {},
   "source": [
    "# Aula 22"
   ]
  },
  {
   "cell_type": "code",
   "execution_count": null,
   "metadata": {},
   "outputs": [],
   "source": [
    "#vamos supor que você tem uma lista\n",
    "\n",
    "lista_codigos_negociacao = ['WEGE3', 'PETR4', 'PETR3', 'PCAR3', 'ALPA4']\n",
    "\n",
    "#como selecionar todos os itens da lista que são açoes ON (terminadas em 3)"
   ]
  },
  {
   "cell_type": "code",
   "execution_count": null,
   "metadata": {},
   "outputs": [],
   "source": [
    "lista_codigos_on = []\n",
    "\n",
    "for ticker in lista_codigos_negociacao:\n",
    "    if '3' in ticker:\n",
    "        lista_codigos_on.append(ticker)\n",
    "\n",
    "print(lista_codigos_on)"
   ]
  },
  {
   "cell_type": "markdown",
   "metadata": {},
   "source": [
    "### list comprehension\n",
    "### compreensão de lista"
   ]
  },
  {
   "cell_type": "code",
   "execution_count": null,
   "metadata": {},
   "outputs": [],
   "source": [
    "#forma prática\n",
    "lista_codigos_on = [ticker for ticker in lista_codigos_negociacao if '3' in ticker]\n",
    "#                   ação ~> for loop ~> condição (se necessário)\n",
    "lista_codigos_on"
   ]
  },
  {
   "cell_type": "code",
   "execution_count": null,
   "metadata": {},
   "outputs": [],
   "source": [
    "#como deixar todos os codigos em letra minuscula\n",
    "\n",
    "minusculo_on = [ticker.lower() for ticker in lista_codigos_negociacao if '3' in ticker]\n",
    "minusculo_todos = [ticker.lower() for ticker in lista_codigos_negociacao]\n",
    "\n",
    "print(minusculo_on)\n",
    "print(minusculo_todos)"
   ]
  },
  {
   "cell_type": "markdown",
   "metadata": {},
   "source": [
    "### Filter\n",
    "- Passa um lambda com condicional\n",
    "- Caso retorne True, é adicionado a lista"
   ]
  },
  {
   "cell_type": "code",
   "execution_count": null,
   "metadata": {},
   "outputs": [],
   "source": [
    "#filter é uma opção para filtrar listas\n",
    "\n",
    "lista_codigos_negociacao = ['WEGE3', 'PETR4', 'PETR3', 'PCAR3', 'ALPA4']\n",
    "lista_restrita = ['WEGE3', 'PCAR3']\n",
    "\n",
    "nova_lista_codigos = list(filter(lambda ticker: ticker not in lista_restrita, lista_codigos_negociacao))\n",
    "#                           filter(lambda filtro, lista_base)\n",
    "\n",
    "print(nova_lista_codigos)"
   ]
  },
  {
   "cell_type": "markdown",
   "metadata": {},
   "source": [
    "### Map\n",
    "- Passa uma ação para ser executado em todos"
   ]
  },
  {
   "cell_type": "code",
   "execution_count": null,
   "metadata": {},
   "outputs": [],
   "source": [
    "#comando map serve para aplicar alguma funcao a todos os itens de uma lista\n",
    "\n",
    "lista_numeros = [9, 8, 3, 4]\n",
    "\n",
    "#converter todos os números para string\n",
    "\n",
    "lista_string_numeros = list(map(lambda x: str(x), lista_numeros))\n",
    "\n",
    "print(lista_string_numeros)"
   ]
  },
  {
   "cell_type": "code",
   "execution_count": null,
   "metadata": {},
   "outputs": [],
   "source": [
    "#somar dois a todos os numeros\n",
    "\n",
    "lista_somando_dois = list(map(lambda x: x+2, lista_numeros))\n",
    "\n",
    "print(lista_somando_dois)"
   ]
  },
  {
   "cell_type": "markdown",
   "metadata": {},
   "source": [
    "## Desafios"
   ]
  },
  {
   "cell_type": "code",
   "execution_count": 25,
   "metadata": {},
   "outputs": [
    {
     "name": "stdout",
     "output_type": "stream",
     "text": [
      "lista_base [2, 4, 5, 6, 10]\n",
      "Lista de numeros maiores que 5: [6, 10]\n",
      "Lista de numeros em float: [2.0, 4.0, 5.0, 6.0, 10.0]\n",
      "Lista de tickers iniciados com P ['PETR4', 'PETR3', 'PCAR3']\n"
     ]
    }
   ],
   "source": [
    "lista_base = [2, 4, 5, 6, 10]\n",
    "print('lista_base', lista_base)\n",
    "\n",
    "lista_filtrada = list(filter(lambda x: x>5, lista_base))\n",
    "print('Lista de numeros maiores que 5:', lista_filtrada)\n",
    "\n",
    "lista_convertida = list(map(lambda x: float(x), lista_base))\n",
    "print('Lista de numeros em float:', lista_convertida)\n",
    "\n",
    "lista_tickers = ['WEGE3', 'PETR4', 'PETR3', 'PCAR3', 'ALPA4']\n",
    "\n",
    "#filter + lambda\n",
    "lista_tickers_iniciados_com_p = list(filter(lambda ticker: ticker.startswith('P'), lista_tickers))\n",
    "\n",
    "#list comprehension\n",
    "lista_tickers_iniciados_com_p = [ticker for ticker in lista_tickers if ticker.startswith('P')]\n",
    "\n",
    "print('Lista de tickers iniciados com P', lista_tickers_iniciados_com_p)\n"
   ]
  },
  {
   "cell_type": "code",
   "execution_count": null,
   "metadata": {},
   "outputs": [],
   "source": []
  }
 ],
 "metadata": {
  "kernelspec": {
   "display_name": "Python 3",
   "language": "python",
   "name": "python3"
  },
  "language_info": {
   "codemirror_mode": {
    "name": "ipython",
    "version": 3
   },
   "file_extension": ".py",
   "mimetype": "text/x-python",
   "name": "python",
   "nbconvert_exporter": "python",
   "pygments_lexer": "ipython3",
   "version": "3.11.5"
  },
  "orig_nbformat": 4
 },
 "nbformat": 4,
 "nbformat_minor": 2
}
