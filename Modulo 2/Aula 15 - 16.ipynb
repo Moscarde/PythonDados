{
 "cells": [
  {
   "cell_type": "markdown",
   "metadata": {},
   "source": [
    "# Aula 15 - 16"
   ]
  },
  {
   "cell_type": "code",
   "execution_count": 1,
   "metadata": {},
   "outputs": [],
   "source": [
    "#condicionais\n",
    "\n",
    "#banco de dados\n",
    "\n",
    "weg = {\"Ticker\" : 'WEGE3', 'Lucro': 1700, 'Seguimento de listagem': 'Novo mercado', 'ROE': 0.20}\n",
    "vale = {\"Ticker\" : 'VALE3', 'Lucro': 21700, 'Seguimento de listagem': 'Novo mercado', 'ROE': 0.19}\n",
    "petrobras = {\"Ticker\" : ['PETR3', 'PETR4'], 'Lucro': 6700, 'Seguimento de listagem': 'Nivel 2', 'ROE': 0.15}\n",
    "tranqueira_fc = {\"Ticker\" : 'TRNQ3', 'Lucro': -20000, 'Seguimento de listagem': 'Tradicional', 'ROE': 0.02}"
   ]
  },
  {
   "cell_type": "code",
   "execution_count": 18,
   "metadata": {},
   "outputs": [],
   "source": [
    "empresa_escolhida = str(input('Escolha uma empresa entre Weg, Petrobras e Vale: ')).lower()"
   ]
  },
  {
   "cell_type": "code",
   "execution_count": 19,
   "metadata": {},
   "outputs": [
    {
     "name": "stdout",
     "output_type": "stream",
     "text": [
      "Por favor, digite uma empresa válida!\n"
     ]
    }
   ],
   "source": [
    "if empresa_escolhida == 'weg':\n",
    "    porcentagem_roe = \"{:.0%}\".format(weg['ROE'])\n",
    "    print(f\"O lucro da Weg é R${weg['Lucro']}, seu codigo de negociação é {weg['Ticker']}, e o ROE da empresa é de {porcentagem_roe} \")\n",
    "elif empresa_escolhida == 'vale':\n",
    "    porcentagem_roe = \"{:.0%}\".format(vale['ROE'])\n",
    "    print(f\"O lucro da vale é R${vale['Lucro']}, seu codigo de negociação é {vale['Ticker']}, e o ROE da empresa é de {porcentagem_roe} \")\n",
    "elif empresa_escolhida == 'petrobras':\n",
    "    porcentagem_roe = \"{:.0%}\".format(petrobras['ROE'])\n",
    "    print(f\"O lucro da petrobras é R${petrobras['Lucro']}, seu codigo de negociação é {petrobras['Ticker']}, e o ROE da empresa é de {porcentagem_roe} \")\n",
    "elif empresa_escolhida == 'tranqueira':\n",
    "    porcentagem_roe = \"{:.0%}\".format(tranqueira_fc['ROE'])\n",
    "    print(f\"O lucro da tranqueira_fc é R${tranqueira_fc['Lucro']}, seu codigo de negociação é {tranqueira_fc['Ticker']}, e o ROE da empresa é de {porcentagem_roe} \")\n",
    "\n",
    "else:\n",
    "    print('Por favor, digite uma empresa válida!')"
   ]
  },
  {
   "cell_type": "markdown",
   "metadata": {},
   "source": [
    "## Desafios"
   ]
  },
  {
   "cell_type": "code",
   "execution_count": 22,
   "metadata": {},
   "outputs": [
    {
     "name": "stdout",
     "output_type": "stream",
     "text": [
      "Código invalido!\n"
     ]
    }
   ],
   "source": [
    "codigo_de_negociacao = str(input('Digite um código de negociação: '))\n",
    "\n",
    "if codigo_de_negociacao.endswith('3'):\n",
    "    print('Código ON')\n",
    "elif codigo_de_negociacao.endswith('4'):\n",
    "    print('Código PN')\n",
    "elif codigo_de_negociacao.endswith('11'):\n",
    "    print('Código UNIT')\n",
    "\n",
    "else:\n",
    "    print('Código invalido!')"
   ]
  },
  {
   "cell_type": "code",
   "execution_count": 24,
   "metadata": {},
   "outputs": [
    {
     "name": "stdout",
     "output_type": "stream",
     "text": [
      "ROE bem avaliado\n"
     ]
    }
   ],
   "source": [
    "#empresa\n",
    "nome = input('Digite o nome da empresa: ')\n",
    "roe = float(input('Digite o roe da empresa: '))\n",
    "preco_lucro = float(input('Digite o preco / lucro da empresa: '))\n",
    "\n",
    "if preco_lucro < 0:\n",
    "    print(f'Cuidado, a empresa {nome} está trabalhando no prejuizo!')\n",
    "\n",
    "if roe > 15:\n",
    "    print('ROE bem avaliado')\n",
    "\n",
    "if roe > 20 and preco_lucro < 10 and preco_lucro > 0:\n",
    "    print('Condição ideal para compra!')\n",
    "\n"
   ]
  },
  {
   "cell_type": "code",
   "execution_count": null,
   "metadata": {},
   "outputs": [],
   "source": []
  },
  {
   "cell_type": "code",
   "execution_count": null,
   "metadata": {},
   "outputs": [],
   "source": []
  }
 ],
 "metadata": {
  "kernelspec": {
   "display_name": "Python 3",
   "language": "python",
   "name": "python3"
  },
  "language_info": {
   "codemirror_mode": {
    "name": "ipython",
    "version": 3
   },
   "file_extension": ".py",
   "mimetype": "text/x-python",
   "name": "python",
   "nbconvert_exporter": "python",
   "pygments_lexer": "ipython3",
   "version": "3.11.5"
  },
  "orig_nbformat": 4
 },
 "nbformat": 4,
 "nbformat_minor": 2
}
