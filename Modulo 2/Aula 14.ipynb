{
 "cells": [
  {
   "cell_type": "markdown",
   "metadata": {},
   "source": [
    "# Aula 14"
   ]
  },
  {
   "cell_type": "code",
   "execution_count": 19,
   "metadata": {},
   "outputs": [],
   "source": [
    "import re"
   ]
  },
  {
   "cell_type": "code",
   "execution_count": 1,
   "metadata": {},
   "outputs": [],
   "source": [
    "texto = 'esse é o curso python'"
   ]
  },
  {
   "cell_type": "code",
   "execution_count": 2,
   "metadata": {},
   "outputs": [
    {
     "name": "stdout",
     "output_type": "stream",
     "text": [
      "21\n"
     ]
    }
   ],
   "source": [
    "#tamanho do texto\n",
    "\n",
    "print(len(texto))"
   ]
  },
  {
   "cell_type": "code",
   "execution_count": 3,
   "metadata": {},
   "outputs": [
    {
     "name": "stdout",
     "output_type": "stream",
     "text": [
      "esse é o curso python e eu sou um ótimo aluno\n"
     ]
    }
   ],
   "source": [
    "#juntando strings\n",
    "\n",
    "print(texto + ' e eu sou um ótimo aluno')"
   ]
  },
  {
   "cell_type": "code",
   "execution_count": 4,
   "metadata": {},
   "outputs": [
    {
     "name": "stdout",
     "output_type": "stream",
     "text": [
      "esse é o curso Python!\n"
     ]
    }
   ],
   "source": [
    "#substituindo texto\n",
    "\n",
    "texto_novo = texto.replace('python', 'Python!')\n",
    "print(texto_novo)"
   ]
  },
  {
   "cell_type": "code",
   "execution_count": 6,
   "metadata": {},
   "outputs": [
    {
     "name": "stdout",
     "output_type": "stream",
     "text": [
      "1\n"
     ]
    }
   ],
   "source": [
    "#contagem\n",
    "\n",
    "print(texto.count('curso'))"
   ]
  },
  {
   "cell_type": "code",
   "execution_count": 7,
   "metadata": {},
   "outputs": [
    {
     "name": "stdout",
     "output_type": "stream",
     "text": [
      "False\n"
     ]
    }
   ],
   "source": [
    "#a string comeca com esse?\n",
    "\n",
    "print(texto.startswith('curso'))"
   ]
  },
  {
   "cell_type": "code",
   "execution_count": 10,
   "metadata": {},
   "outputs": [
    {
     "name": "stdout",
     "output_type": "stream",
     "text": [
      "True\n"
     ]
    }
   ],
   "source": [
    "#a string termina com python\n",
    "\n",
    "print(texto_novo.endswith('Python!'))"
   ]
  },
  {
   "cell_type": "code",
   "execution_count": 13,
   "metadata": {},
   "outputs": [
    {
     "name": "stdout",
     "output_type": "stream",
     "text": [
      "e\n",
      "esse\n",
      "n\n",
      " é o curso python\n"
     ]
    }
   ],
   "source": [
    "#selecionando strings\n",
    "#funcionamento igual ao de listas\n",
    "\n",
    "print(texto[0])\n",
    "print(texto[0:4])\n",
    "print(texto[-1])\n",
    "print(texto[4:])\n"
   ]
  },
  {
   "cell_type": "code",
   "execution_count": 17,
   "metadata": {},
   "outputs": [
    {
     "name": "stdout",
     "output_type": "stream",
     "text": [
      "ESSE É O CURSO PYTHON\n",
      "esse é o curso python\n",
      "Esse É O Curso Python\n",
      "False\n",
      "True\n"
     ]
    }
   ],
   "source": [
    "#letras maiusculas\n",
    "\n",
    "print(texto.upper())\n",
    "print(texto.lower())\n",
    "print(texto.title())\n",
    "\n",
    "texto_1 = 'Python'\n",
    "texto_2 = 'python'\n",
    "\n",
    "print(texto_1 == texto_2)\n",
    "print(texto_1 == texto_2.title())"
   ]
  },
  {
   "cell_type": "code",
   "execution_count": 22,
   "metadata": {},
   "outputs": [
    {
     "name": "stdout",
     "output_type": "stream",
     "text": [
      "['gab@email.com', 'laura@outmail.com', 'nick@gmail.com']\n"
     ]
    }
   ],
   "source": [
    "#regex\n",
    "\n",
    "bloco_texto = ''' gabriel gab@email.com laura laura@outmail.com nicolas nick@gmail.com'''\n",
    "\n",
    "padrao = r'[A-Z0-9._%+-]+@[A-Z0-9.-]+\\.[A-Z]{2,4}'\n",
    "expressao_regular = re.compile(padrao, flags = re.IGNORECASE)\n",
    "\n",
    "print(expressao_regular.findall(bloco_texto))"
   ]
  },
  {
   "cell_type": "code",
   "execution_count": 23,
   "metadata": {},
   "outputs": [
    {
     "name": "stdout",
     "output_type": "stream",
     "text": [
      "Seu email é inválido\n"
     ]
    }
   ],
   "source": [
    "#validar email\n",
    "\n",
    "email = str(input('Digite seu e-mail: '))\n",
    "\n",
    "if re.fullmatch(expressao_regular, email):\n",
    "    print('Seu email é valido!')\n",
    "else:\n",
    "    print('Seu email é inválido')"
   ]
  },
  {
   "cell_type": "markdown",
   "metadata": {},
   "source": [
    "# Desafios"
   ]
  },
  {
   "cell_type": "code",
   "execution_count": 24,
   "metadata": {},
   "outputs": [
    {
     "name": "stdout",
     "output_type": "stream",
     "text": [
      "A primeira letra é o: T\n",
      "A ultima letra é o: e\n",
      "Tamanho da palavra: 5\n",
      "Nome em letra maiuscula: TESTE\n",
      "Nome capitalizado : Teste\n",
      "\n"
     ]
    }
   ],
   "source": [
    "empresa = input('Digite o nome da empresa: ')\n",
    "\n",
    "print(f'''A primeira letra é o: {empresa[0]}\n",
    "A ultima letra é o: {empresa[-1]}\n",
    "Tamanho da palavra: {len(empresa)}\n",
    "Nome em letra maiuscula: {empresa.upper()}\n",
    "Nome capitalizado : {empresa.title()}\n",
    "''')"
   ]
  },
  {
   "cell_type": "code",
   "execution_count": 26,
   "metadata": {},
   "outputs": [
    {
     "name": "stdout",
     "output_type": "stream",
     "text": [
      "celular invalido!\n"
     ]
    }
   ],
   "source": [
    "celular = input('Digite o numero do celular')\n",
    "\n",
    "padrao = r'([0-9]{2,3})?([0-9]{2})([0-9]{4,5})([0-9]{4})'\n",
    "\n",
    "expressao_regular = re.compile(padrao)\n",
    "\n",
    "if re.fullmatch(expressao_regular, celular):\n",
    "    print('celular valido!')\n",
    "else:\n",
    "    print('celular invalido!')\n"
   ]
  },
  {
   "cell_type": "code",
   "execution_count": null,
   "metadata": {},
   "outputs": [],
   "source": []
  },
  {
   "cell_type": "code",
   "execution_count": null,
   "metadata": {},
   "outputs": [],
   "source": []
  }
 ],
 "metadata": {
  "kernelspec": {
   "display_name": "Python 3",
   "language": "python",
   "name": "python3"
  },
  "language_info": {
   "codemirror_mode": {
    "name": "ipython",
    "version": 3
   },
   "file_extension": ".py",
   "mimetype": "text/x-python",
   "name": "python",
   "nbconvert_exporter": "python",
   "pygments_lexer": "ipython3",
   "version": "3.11.5"
  },
  "orig_nbformat": 4
 },
 "nbformat": 4,
 "nbformat_minor": 2
}
