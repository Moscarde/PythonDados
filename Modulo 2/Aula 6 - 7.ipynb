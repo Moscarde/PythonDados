{
 "cells": [
  {
   "cell_type": "markdown",
   "id": "018203a6",
   "metadata": {},
   "source": [
    "## Aula 6 - 7\n",
    "- Operadores Matemáticos"
   ]
  },
  {
   "cell_type": "code",
   "execution_count": 2,
   "id": "7497b426",
   "metadata": {},
   "outputs": [
    {
     "name": "stdout",
     "output_type": "stream",
     "text": [
      "Digite um número inteiro: 2\n",
      "Digite um número inteiro: 4\n",
      "\n",
      " A soma dos dois números é 6\n",
      "\n",
      "A multiplicação dos dois números é 8\n",
      "\n",
      "A divisão dos dois números é 0.5\n",
      "\n",
      "O primeiro numero elevado ao segundo é 16\n",
      "\n",
      "O raiz quadrada do 1 numero é 1.4142135623730951\n",
      "\n",
      "O raiz quadrada do 2 numero é 2.0\n",
      "\n",
      "A divisao inteira é 0 e o resto é 2\n",
      "\n",
      "\n"
     ]
    }
   ],
   "source": [
    "numero = int(input('Digite um número inteiro: '))\n",
    "numero2 = int(input('Digite um número inteiro: '))\n",
    "\n",
    "soma = numero +  numero2\n",
    "multiplicar = numero * numero2\n",
    "dividir = numero / numero2\n",
    "elevar = numero ** numero2\n",
    "raiz = numero ** (1/2)\n",
    "raiz2 = numero2 ** (1/2)\n",
    "dividir_inteiro = numero // numero2\n",
    "resto = numero % numero2\n",
    "\n",
    "print('')\n",
    "print(f''' A soma dos dois números é {soma}\\n\n",
    "A multiplicação dos dois números é {multiplicar}\\n\n",
    "A divisão dos dois números é {dividir}\\n\n",
    "O primeiro numero elevado ao segundo é {elevar}\\n\n",
    "O raiz quadrada do 1 numero é {raiz}\\n\n",
    "O raiz quadrada do 2 numero é {raiz2}\\n\n",
    "A divisao inteira é {dividir_inteiro} e o resto é {resto}\n",
    "\n",
    "''')"
   ]
  },
  {
   "cell_type": "code",
   "execution_count": 3,
   "id": "05123d83",
   "metadata": {},
   "outputs": [
    {
     "name": "stdout",
     "output_type": "stream",
     "text": [
      "TesteTesteTeste\n"
     ]
    }
   ],
   "source": [
    "#É possivel multiplicar strings\n",
    "string = 'Teste'\n",
    "string_multiplicada = string * 3\n",
    "print(string_multiplicada)"
   ]
  },
  {
   "cell_type": "markdown",
   "id": "417cbc60",
   "metadata": {},
   "source": [
    "# Desafios\n"
   ]
  },
  {
   "cell_type": "code",
   "execution_count": 8,
   "id": "8c5fc4fb",
   "metadata": {},
   "outputs": [
    {
     "name": "stdout",
     "output_type": "stream",
     "text": [
      "Digite o ticker da empresa: WEG\n",
      "Digite a cotação da empresa: 20\n",
      "Caso a empresa suba 100%, a cotacao será de 40.0.\n",
      "Caso a empresa caia 50%, a cotacao será de 10.0\n"
     ]
    }
   ],
   "source": [
    "#07\n",
    "empresa = input(\"Digite o ticker da empresa: \")\n",
    "cotacao = float(input(\"Digite a cotação da empresa: \"))\n",
    "\n",
    "valor_dobrado_da_empresa = cotacao * 2\n",
    "caiu_50 = cotacao / 2\n",
    "\n",
    "print(f\"Caso a empresa suba 100%, a cotacao será de {valor_dobrado_da_empresa}.\")\n",
    "print(f'Caso a empresa caia 50%, a cotacao será de {caiu_50}')"
   ]
  },
  {
   "cell_type": "code",
   "execution_count": 7,
   "id": "543d1653",
   "metadata": {},
   "outputs": [
    {
     "name": "stdout",
     "output_type": "stream",
     "text": [
      "Digite um número: 16\n",
      " O dobro = 32\n",
      "A raiz quadrada = 4.0\n",
      "Elevado ao quadrado = 256\n",
      "Dividido por dois = 8.0\n",
      "Antecessor = 15\n",
      "Sucessor = 17\n",
      "\n"
     ]
    }
   ],
   "source": [
    "#08\n",
    "numero = int(input(\"Digite um número: \"))\n",
    "print(f''' O dobro = {numero * 2}\n",
    "A raiz quadrada = {numero ** (1/2)}\n",
    "Elevado ao quadrado = {numero ** 2}\n",
    "Dividido por dois = {numero /2}\n",
    "Antecessor = {numero - 1}\n",
    "Sucessor = {numero + 1}\n",
    "''')"
   ]
  },
  {
   "cell_type": "code",
   "execution_count": null,
   "id": "8ca15e00",
   "metadata": {},
   "outputs": [],
   "source": []
  }
 ],
 "metadata": {
  "kernelspec": {
   "display_name": "Python 3 (ipykernel)",
   "language": "python",
   "name": "python3"
  },
  "language_info": {
   "codemirror_mode": {
    "name": "ipython",
    "version": 3
   },
   "file_extension": ".py",
   "mimetype": "text/x-python",
   "name": "python",
   "nbconvert_exporter": "python",
   "pygments_lexer": "ipython3",
   "version": "3.11.5"
  }
 },
 "nbformat": 4,
 "nbformat_minor": 5
}
