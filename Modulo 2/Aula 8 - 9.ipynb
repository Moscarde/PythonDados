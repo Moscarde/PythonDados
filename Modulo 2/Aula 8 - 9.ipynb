{
 "cells": [
  {
   "cell_type": "markdown",
   "id": "04ed3b56",
   "metadata": {},
   "source": [
    "# Aula 9"
   ]
  },
  {
   "cell_type": "code",
   "execution_count": 21,
   "id": "41ae53cb",
   "metadata": {},
   "outputs": [],
   "source": [
    "import random\n",
    "from random import choice"
   ]
  },
  {
   "cell_type": "code",
   "execution_count": 2,
   "id": "6ef57882",
   "metadata": {},
   "outputs": [
    {
     "name": "stdout",
     "output_type": "stream",
     "text": [
      "0.30059364453841286\n"
     ]
    }
   ],
   "source": [
    "valor_entre_0_e_1 = random.random()\n",
    "print(valor_entre_0_e_1)"
   ]
  },
  {
   "cell_type": "code",
   "execution_count": 3,
   "id": "8c1ae580",
   "metadata": {},
   "outputs": [
    {
     "name": "stdout",
     "output_type": "stream",
     "text": [
      "12.698573192019138\n"
     ]
    }
   ],
   "source": [
    "valor_decimal_de_igual_probabilidade_entre_valores = random.uniform(10, 100)\n",
    "print(valor_decimal_de_igual_probabilidade_entre_valores)"
   ]
  },
  {
   "cell_type": "code",
   "execution_count": 6,
   "id": "a9a080cf",
   "metadata": {},
   "outputs": [
    {
     "name": "stdout",
     "output_type": "stream",
     "text": [
      "37\n"
     ]
    }
   ],
   "source": [
    "valor_decimal_de_igual_probabilidade_entre_valores = random.randint(10, 100)\n",
    "print(valor_decimal_de_igual_probabilidade_entre_valores)"
   ]
  },
  {
   "cell_type": "code",
   "execution_count": 20,
   "id": "dd3f32da",
   "metadata": {},
   "outputs": [
    {
     "name": "stdout",
     "output_type": "stream",
     "text": [
      "11.447330309767441\n"
     ]
    }
   ],
   "source": [
    "                    #(média, desvio padrao)\n",
    "valor_dist_normal = random.gauss(10, 30)\n",
    "print(valor_dist_normal)\n"
   ]
  },
  {
   "cell_type": "code",
   "execution_count": 24,
   "id": "54c0f232",
   "metadata": {},
   "outputs": [
    {
     "name": "stdout",
     "output_type": "stream",
     "text": [
      "LREN3\n"
     ]
    }
   ],
   "source": [
    "#sorteio\n",
    "#importando a função direto\n",
    "\n",
    "tickers = ['WEGE3', 'PCAR3', 'LREN3']\n",
    "empresa_escolhida = choice(tickers)\n",
    "print(empresa_escolhida)"
   ]
  },
  {
   "cell_type": "markdown",
   "id": "87284537",
   "metadata": {},
   "source": [
    "# Desafios"
   ]
  },
  {
   "cell_type": "code",
   "execution_count": 26,
   "id": "b77b1eb7",
   "metadata": {},
   "outputs": [
    {
     "name": "stdout",
     "output_type": "stream",
     "text": [
      "Coroa\n"
     ]
    }
   ],
   "source": [
    "#09\n",
    "cara_coroa = ['Cara', 'Coroa']\n",
    "resultado = choice(cara_coroa)\n",
    "print(resultado)"
   ]
  },
  {
   "cell_type": "code",
   "execution_count": 28,
   "id": "25d574fd",
   "metadata": {},
   "outputs": [
    {
     "name": "stdout",
     "output_type": "stream",
     "text": [
      "A nota da sua prova foi 2\n"
     ]
    }
   ],
   "source": [
    "nota = random.randint(0, 10)\n",
    "print(f'A nota da sua prova foi {nota}')"
   ]
  },
  {
   "cell_type": "code",
   "execution_count": null,
   "id": "9ca994cb",
   "metadata": {},
   "outputs": [],
   "source": []
  }
 ],
 "metadata": {
  "kernelspec": {
   "display_name": "Python 3 (ipykernel)",
   "language": "python",
   "name": "python3"
  },
  "language_info": {
   "codemirror_mode": {
    "name": "ipython",
    "version": 3
   },
   "file_extension": ".py",
   "mimetype": "text/x-python",
   "name": "python",
   "nbconvert_exporter": "python",
   "pygments_lexer": "ipython3",
   "version": "3.11.5"
  }
 },
 "nbformat": 4,
 "nbformat_minor": 5
}
