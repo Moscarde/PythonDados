{
 "cells": [
  {
   "cell_type": "markdown",
   "metadata": {},
   "source": [
    "# Aula 19 - 20"
   ]
  },
  {
   "cell_type": "code",
   "execution_count": 2,
   "metadata": {},
   "outputs": [
    {
     "name": "stdout",
     "output_type": "stream",
     "text": [
      "12\n",
      "14\n"
     ]
    }
   ],
   "source": [
    "#funcao\n",
    "\n",
    "numero_digitado = int(input('Digite um numero: '))\n",
    "\n",
    "def soma_numeros(numero, soma = 2):\n",
    "    numero_somado = numero + soma\n",
    "\n",
    "    return numero_somado\n",
    "\n",
    "novo_numero = soma_numeros(numero = numero_digitado)\n",
    "novo_numero2 = soma_numeros(numero = numero_digitado, soma = 4)\n",
    "\n",
    "print(novo_numero)\n",
    "print(novo_numero2)"
   ]
  },
  {
   "cell_type": "code",
   "execution_count": 3,
   "metadata": {},
   "outputs": [
    {
     "name": "stdout",
     "output_type": "stream",
     "text": [
      "1.5\n",
      "150.000000%\n"
     ]
    }
   ],
   "source": [
    "def calcula_rentabilidade(valor_inicial, valor_final):\n",
    "    rentabilidade = valor_final/valor_inicial - 1\n",
    "    print(rentabilidade)\n",
    "    rentabilidade_em_porcentagem = \"{:2%}\".format(rentabilidade)\n",
    "\n",
    "    return rentabilidade_em_porcentagem\n",
    "\n",
    "valor_inicial = float(input('Digite a cotacao inicial: '))\n",
    "valor_final = float(input('Digite a cotacao final: '))\n",
    "\n",
    "rentabilidade = calcula_rentabilidade(valor_inicial = valor_inicial, valor_final = valor_final)\n",
    "\n",
    "print(rentabilidade)"
   ]
  },
  {
   "cell_type": "code",
   "execution_count": 4,
   "metadata": {},
   "outputs": [
    {
     "name": "stdout",
     "output_type": "stream",
     "text": [
      "2.0\n",
      "2.0\n"
     ]
    }
   ],
   "source": [
    "#funcoes lambda\n",
    "\n",
    "def calcular_desconto_20_por_cento(preco):\n",
    "    return preco*0.2\n",
    "\n",
    "calcular_desconto_lambda = lambda x: x * 0.2\n",
    "\n",
    "desconto = calcular_desconto_20_por_cento(10)\n",
    "desconto2 = calcular_desconto_lambda(10)\n",
    "\n",
    "print(desconto)\n",
    "print(desconto2)"
   ]
  },
  {
   "cell_type": "code",
   "execution_count": 5,
   "metadata": {},
   "outputs": [
    {
     "name": "stdout",
     "output_type": "stream",
     "text": [
      "[2.0, 4.0, 6.0, 8.0]\n",
      "[2.0, 4.0, 6.0, 8.0]\n"
     ]
    }
   ],
   "source": [
    "#aplicacao pratica\n",
    "\n",
    "precos = [10, 20, 30, 40]\n",
    "\n",
    "precos_com_desconto = list(map(calcular_desconto_20_por_cento, precos))\n",
    "print(precos_com_desconto)\n",
    "\n",
    "precos_com_desconto_lambda = list(map(lambda x: x * 0.2, precos))\n",
    "print(precos_com_desconto_lambda)"
   ]
  },
  {
   "cell_type": "markdown",
   "metadata": {},
   "source": [
    "### Desafios"
   ]
  },
  {
   "cell_type": "code",
   "execution_count": 9,
   "metadata": {},
   "outputs": [
    {
     "name": "stdout",
     "output_type": "stream",
     "text": [
      "73.4\n"
     ]
    }
   ],
   "source": [
    "#celcius para fahrenheit\n",
    "# (x * 9/5) + 32\n",
    "\n",
    "\n",
    "converter_para_fahrenheit = lambda x: (x * 9/5) + 32\n",
    "\n",
    "print(\n",
    "    converter_para_fahrenheit(\n",
    "        int(input('Digite uma temperatura em graus Celcius: '))))\n"
   ]
  },
  {
   "cell_type": "code",
   "execution_count": 7,
   "metadata": {},
   "outputs": [
    {
     "name": "stdout",
     "output_type": "stream",
     "text": [
      "[30, 10, 40, 50, 46, 60, 75]\n"
     ]
    }
   ],
   "source": [
    "# rendimento diario\n",
    "\n",
    "nova_cotacao = True\n",
    "cotacoes = []\n",
    "\n",
    "while nova_cotacao:\n",
    "    nova_entrada = input('Digite uma cotação: ')\n",
    "\n",
    "    if nova_entrada.isnumeric() == False:\n",
    "        print('Digite apenas numeros!')\n",
    "        pass\n",
    "\n",
    "    else:\n",
    "        cotacoes.append(int(nova_entrada))\n",
    "\n",
    "    deseja_continuar = input('Deseja continuar: [S/N]').upper()\n",
    "\n",
    "    if deseja_continuar != 'N' and deseja_continuar != 'S':\n",
    "        invalido = True\n",
    "        \n",
    "        while invalido:\n",
    "            deseja_continuar = input('Por favor, digite um comando válido!: [S/N] ').upper()\n",
    "\n",
    "            if deseja_continuar == 'N' or deseja_continuar == 'S':\n",
    "                break\n",
    "    \n",
    "    if deseja_continuar == 'N':\n",
    "        nova_cotacao = False\n",
    "        break\n",
    "\n",
    "    elif deseja_continuar == 'S':\n",
    "        pass\n",
    "\n",
    "\n",
    "print(cotacoes)\n",
    "\n"
   ]
  },
  {
   "cell_type": "code",
   "execution_count": 15,
   "metadata": {},
   "outputs": [
    {
     "name": "stdout",
     "output_type": "stream",
     "text": [
      "Retorno dia 1: -66.666667%\n",
      "Retorno dia 2: 300.000000%\n",
      "Retorno dia 3: 25.000000%\n",
      "Retorno dia 4: -8.000000%\n",
      "Retorno dia 5: 30.434783%\n",
      "Retorno dia 6: 25.000000%\n"
     ]
    }
   ],
   "source": [
    "if len(cotacoes) <= 1:\n",
    "    print(\"Não é possivel calcular retornos com apenas uma cotação\")\n",
    "\n",
    "\n",
    "def calcula_rentabilidade(valor_inicial, valor_final):\n",
    "    rentabilidade = valor_final/valor_inicial - 1\n",
    "    rentabilidade_em_porcentagem = \"{:2%}\".format(rentabilidade)\n",
    "\n",
    "    return rentabilidade_em_porcentagem\n",
    "\n",
    "for index, cotacao in enumerate(cotacoes):\n",
    "    if (len(cotacoes) - index) >= 2:\n",
    "        dia = index + 1\n",
    "        cotacao_passada = cotacoes[index]\n",
    "        cotacao_atual = cotacoes[index + 1]\n",
    "        print(f\"Retorno dia {dia}: {calcula_rentabilidade(cotacao_passada, cotacao_atual)}\")\n",
    "\n"
   ]
  },
  {
   "cell_type": "code",
   "execution_count": null,
   "metadata": {},
   "outputs": [],
   "source": []
  },
  {
   "cell_type": "code",
   "execution_count": null,
   "metadata": {},
   "outputs": [],
   "source": []
  }
 ],
 "metadata": {
  "kernelspec": {
   "display_name": "Python 3",
   "language": "python",
   "name": "python3"
  },
  "language_info": {
   "codemirror_mode": {
    "name": "ipython",
    "version": 3
   },
   "file_extension": ".py",
   "mimetype": "text/x-python",
   "name": "python",
   "nbconvert_exporter": "python",
   "pygments_lexer": "ipython3",
   "version": "3.11.5"
  },
  "orig_nbformat": 4
 },
 "nbformat": 4,
 "nbformat_minor": 2
}
