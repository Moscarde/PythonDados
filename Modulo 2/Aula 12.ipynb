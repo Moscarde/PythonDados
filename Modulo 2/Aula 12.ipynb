{
 "cells": [
  {
   "cell_type": "markdown",
   "metadata": {},
   "source": [
    "# Aula 12"
   ]
  },
  {
   "cell_type": "code",
   "execution_count": 12,
   "metadata": {},
   "outputs": [
    {
     "name": "stdout",
     "output_type": "stream",
     "text": [
      "{'renner', 'c&a', 'weg', 'SLC Agricola'}\n",
      "{8, 1, 4, 5}\n"
     ]
    }
   ],
   "source": [
    "set_teste = {'weg', 'renner', 'c&a', 'SLC Agricola'}\n",
    "print(set_teste)\n",
    "\n",
    "set_numero = {1, 4, 5, 8}\n",
    "print(set_numero)"
   ]
  },
  {
   "cell_type": "code",
   "execution_count": 13,
   "metadata": {},
   "outputs": [
    {
     "name": "stdout",
     "output_type": "stream",
     "text": [
      "['renner', 'weg']\n"
     ]
    }
   ],
   "source": [
    "#remover duplicatas\n",
    "#sets nao permitem itens duplicados\n",
    "\n",
    "lista_duplicada = ['renner', 'renner', 'weg', 'weg']\n",
    "\n",
    "lista_unica = list(set(lista_duplicada))\n",
    "\n",
    "print(lista_unica)"
   ]
  },
  {
   "cell_type": "code",
   "execution_count": 14,
   "metadata": {},
   "outputs": [
    {
     "name": "stdout",
     "output_type": "stream",
     "text": [
      "{8, 1, 4, 5}\n",
      "{1, 4, 5, 8, 10}\n",
      "{1, 4, 5, 8, 10, 20, 25, 60}\n",
      "{1, 4, 5, 8, 10, 20, 25, 60}\n"
     ]
    }
   ],
   "source": [
    "#adicionando um ou mais elementos a sets\n",
    "print(set_numero)\n",
    "set_numero.add(10)\n",
    "print(set_numero)\n",
    "\n",
    "set_numero.update([20, 25, 60])\n",
    "print(set_numero)\n",
    "\n",
    "#inserindo um numero duplicado\n",
    "set_numero.add(10)\n",
    "print(set_numero)"
   ]
  },
  {
   "cell_type": "code",
   "execution_count": 15,
   "metadata": {},
   "outputs": [
    {
     "name": "stdout",
     "output_type": "stream",
     "text": [
      "{4, 5, 8, 10, 20, 25, 60}\n"
     ]
    }
   ],
   "source": [
    "#removendo elementos\n",
    "\n",
    "set_numero.discard(1)\n",
    "print(set_numero)"
   ]
  },
  {
   "cell_type": "markdown",
   "metadata": {},
   "source": [
    "## Operações matematicas\n",
    "- Uniao\n",
    "- Interseção\n",
    "- Diferença"
   ]
  },
  {
   "cell_type": "code",
   "execution_count": 16,
   "metadata": {},
   "outputs": [],
   "source": [
    "meu_set = {1, 2, 3, 4, 5, 6, 7}\n",
    "meu_set_2 = {5, 6, 7, 8, 9}"
   ]
  },
  {
   "cell_type": "code",
   "execution_count": 17,
   "metadata": {},
   "outputs": [
    {
     "name": "stdout",
     "output_type": "stream",
     "text": [
      "{1, 2, 3, 4, 5, 6, 7, 8, 9}\n",
      "{1, 2, 3, 4, 5, 6, 7, 8, 9}\n"
     ]
    }
   ],
   "source": [
    "#Uniao\n",
    "\n",
    "print(meu_set | meu_set_2)\n",
    "print(meu_set.union(meu_set_2))"
   ]
  },
  {
   "cell_type": "code",
   "execution_count": 18,
   "metadata": {},
   "outputs": [
    {
     "name": "stdout",
     "output_type": "stream",
     "text": [
      "{5, 6, 7}\n",
      "{5, 6, 7}\n"
     ]
    }
   ],
   "source": [
    "#Interseção - Elementos presentes nos dois ao mesmo tempo\n",
    "\n",
    "print(meu_set & meu_set_2)\n",
    "print(meu_set.intersection(meu_set_2))"
   ]
  },
  {
   "cell_type": "code",
   "execution_count": 19,
   "metadata": {},
   "outputs": [
    {
     "name": "stdout",
     "output_type": "stream",
     "text": [
      "{1, 2, 3, 4}\n",
      "{1, 2, 3, 4}\n"
     ]
    }
   ],
   "source": [
    "#Diferença - Só está presente no primeiro set\n",
    "\n",
    "print(meu_set - meu_set_2)\n",
    "print(meu_set.difference(meu_set_2))"
   ]
  },
  {
   "cell_type": "markdown",
   "metadata": {},
   "source": [
    "## Desafio"
   ]
  },
  {
   "cell_type": "code",
   "execution_count": 23,
   "metadata": {},
   "outputs": [
    {
     "name": "stdout",
     "output_type": "stream",
     "text": [
      "Olá, digite o nome de 3 empresas para a primeira carteira\n",
      "Olá, digite o nome de 3 empresas para a segunda carteira\n",
      "A diferença entra a carteira 1 e 2 são as ações set()\n",
      "A intersecao entra a carteira 1 e 2 são as ações {'Gab', 'Eu'}\n",
      "A uniao entra a carteira 1 e 2 são as ações {'Gab', 'Han', 'Eu'}\n"
     ]
    }
   ],
   "source": [
    "#Carteira 1\n",
    "print('Olá, digite o nome de 3 empresas para a primeira carteira')\n",
    "\n",
    "carteira_1 = set()\n",
    "for i in range(3):\n",
    "    carteira_1.add(input('Digite o nome da empresa: '))\n",
    "\n",
    "\n",
    "#Carteira 2\n",
    "print('Olá, digite o nome de 3 empresas para a segunda carteira')\n",
    "\n",
    "carteira_2 = set()\n",
    "for i in range(3):\n",
    "    carteira_2.add(input('Digite o nome da empresa: '))\n",
    "\n",
    "\n",
    "diferenca = carteira_1.difference(carteira_2)\n",
    "intersecao = carteira_1.intersection(carteira_2)\n",
    "uniao = carteira_1.union(carteira_2)\n",
    "\n",
    "print(f'A diferença entra a carteira 1 e 2 são as ações {diferenca}')\n",
    "print(f'A intersecao entra a carteira 1 e 2 são as ações {intersecao}')\n",
    "print(f'A uniao entra a carteira 1 e 2 são as ações {uniao}')"
   ]
  },
  {
   "cell_type": "code",
   "execution_count": null,
   "metadata": {},
   "outputs": [],
   "source": []
  }
 ],
 "metadata": {
  "kernelspec": {
   "display_name": "Python 3",
   "language": "python",
   "name": "python3"
  },
  "language_info": {
   "codemirror_mode": {
    "name": "ipython",
    "version": 3
   },
   "file_extension": ".py",
   "mimetype": "text/x-python",
   "name": "python",
   "nbconvert_exporter": "python",
   "pygments_lexer": "ipython3",
   "version": "3.11.5"
  },
  "orig_nbformat": 4
 },
 "nbformat": 4,
 "nbformat_minor": 2
}
