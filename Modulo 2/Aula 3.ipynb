{
 "cells": [
  {
   "cell_type": "code",
   "execution_count": 2,
   "id": "f92c8844",
   "metadata": {},
   "outputs": [
    {
     "name": "stdout",
     "output_type": "stream",
     "text": [
      "2\n"
     ]
    }
   ],
   "source": [
    "# Comentário inline\n",
    "\n",
    "'''\n",
    "Comentário \n",
    "em\n",
    "bloco\n",
    "'''\n",
    "\n",
    "a = 2\n",
    "print(a)"
   ]
  },
  {
   "cell_type": "markdown",
   "id": "daf56f41",
   "metadata": {},
   "source": [
    "# Celula Markdown\n",
    "- Formatação markdown"
   ]
  },
  {
   "cell_type": "code",
   "execution_count": 3,
   "id": "b076a1ce",
   "metadata": {},
   "outputs": [],
   "source": [
    "# Celula em código"
   ]
  },
  {
   "cell_type": "code",
   "execution_count": null,
   "id": "2951858d",
   "metadata": {},
   "outputs": [],
   "source": []
  }
 ],
 "metadata": {
  "kernelspec": {
   "display_name": "Python 3 (ipykernel)",
   "language": "python",
   "name": "python3"
  },
  "language_info": {
   "codemirror_mode": {
    "name": "ipython",
    "version": 3
   },
   "file_extension": ".py",
   "mimetype": "text/x-python",
   "name": "python",
   "nbconvert_exporter": "python",
   "pygments_lexer": "ipython3",
   "version": "3.11.5"
  }
 },
 "nbformat": 4,
 "nbformat_minor": 5
}
