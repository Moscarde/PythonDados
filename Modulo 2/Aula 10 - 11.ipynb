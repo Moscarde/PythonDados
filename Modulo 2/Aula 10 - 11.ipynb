{
 "cells": [
  {
   "cell_type": "markdown",
   "id": "970638f3",
   "metadata": {},
   "source": [
    "# Aula 10 - 11"
   ]
  },
  {
   "cell_type": "code",
   "execution_count": 29,
   "id": "9415fbca",
   "metadata": {},
   "outputs": [
    {
     "name": "stdout",
     "output_type": "stream",
     "text": [
      "['Weg', 'Raia', 'Vale', 'Lojas Renner']\n"
     ]
    }
   ],
   "source": [
    "lista_base = ['Weg', 'Raia', 'Vale', 'Lojas Renner']\n",
    "lista_base = list(['Weg', 'Raia', 'Vale', 'Lojas Renner'])\n",
    "print(lista_base)"
   ]
  },
  {
   "cell_type": "code",
   "execution_count": 30,
   "id": "efd1fe1f",
   "metadata": {},
   "outputs": [],
   "source": [
    "lista_vazia = []\n",
    "lista_tipos_diferentes = ['flamengo', 8, 'campeonatos']"
   ]
  },
  {
   "cell_type": "code",
   "execution_count": 31,
   "id": "a25cc8d5",
   "metadata": {},
   "outputs": [
    {
     "name": "stdout",
     "output_type": "stream",
     "text": [
      "1 2 3 \n",
      "4 5 6 \n",
      "7 8 9 \n"
     ]
    }
   ],
   "source": [
    "lista_dentro_de_lista = [[1, 2, 3], [4, 5, 6], [7, 8, 9]] #Matriz 3x3\n",
    "\n",
    "for lista in lista_dentro_de_lista:\n",
    "    for item in lista:\n",
    "        print(item, end=' ')\n",
    "    print()"
   ]
  },
  {
   "cell_type": "markdown",
   "id": "ca64767d",
   "metadata": {},
   "source": [
    "## Manipulacao de listas"
   ]
  },
  {
   "cell_type": "code",
   "execution_count": 32,
   "id": "9e42c2e9",
   "metadata": {},
   "outputs": [
    {
     "name": "stdout",
     "output_type": "stream",
     "text": [
      "['compra tudo', 'vende um pouco', 'vende sua casa pra comprar', 'compra devagar', 'vende rapido ou vai quebrar', 'compra mais']\n"
     ]
    }
   ],
   "source": [
    "lista_sinais = []\n",
    "\n",
    "# .append adiciona no final da lista\n",
    "lista_sinais.append('compra tudo')\n",
    "lista_sinais.append('vende um pouco')\n",
    "lista_sinais.append('vende sua casa pra comprar')\n",
    "lista_sinais.append('compra devagar')\n",
    "lista_sinais.append('vende rapido ou vai quebrar')\n",
    "lista_sinais.append('compra mais')\n",
    "\n",
    "print(lista_sinais)"
   ]
  },
  {
   "cell_type": "code",
   "execution_count": 33,
   "id": "1a1f2cc7",
   "metadata": {},
   "outputs": [
    {
     "name": "stdout",
     "output_type": "stream",
     "text": [
      "compra tudo\n",
      "vende um pouco\n",
      "compra mais\n",
      "[1, 2, 3]\n",
      "1\n"
     ]
    }
   ],
   "source": [
    "#Selecionando elementos na lista\n",
    "\n",
    "print(lista_sinais[0])\n",
    "print(lista_sinais[1])\n",
    "print(lista_sinais[-1]) #ultimo elemento\n",
    "\n",
    "print(lista_dentro_de_lista[0])\n",
    "print(lista_dentro_de_lista[0][0])"
   ]
  },
  {
   "cell_type": "code",
   "execution_count": 34,
   "id": "209541db",
   "metadata": {},
   "outputs": [
    {
     "name": "stdout",
     "output_type": "stream",
     "text": [
      "['compra tudo', 'vende um pouco']\n",
      "['vende um pouco', 'vende sua casa pra comprar', 'compra devagar', 'vende rapido ou vai quebrar', 'compra mais']\n",
      "['compra tudo', 'vende um pouco', 'vende sua casa pra comprar']\n",
      "['vende rapido ou vai quebrar', 'compra mais']\n"
     ]
    }
   ],
   "source": [
    "#Selecionando vários elementos\n",
    "\n",
    "print(lista_sinais[0:2]) #Aberto no 2\n",
    "print(lista_sinais[1: ]) \n",
    "print(lista_sinais[:3]) \n",
    "print(lista_sinais[-2:]) \n"
   ]
  },
  {
   "cell_type": "code",
   "execution_count": 35,
   "id": "be225bb0",
   "metadata": {},
   "outputs": [
    {
     "name": "stdout",
     "output_type": "stream",
     "text": [
      "['compra tudo', 'vende um pouco', 'vende sua casa pra comprar', 'compra devagar', 'vende rapido ou vai quebrar', 'compra mais']\n",
      "['vende', 'vende um pouco', 'vende sua casa pra comprar', 'compra devagar', 'vende rapido ou vai quebrar', 'compra mais']\n"
     ]
    }
   ],
   "source": [
    "#Alterando elementos\n",
    "print(lista_sinais)\n",
    "lista_sinais[0] = 'vende'\n",
    "print(lista_sinais)"
   ]
  },
  {
   "cell_type": "code",
   "execution_count": 36,
   "id": "e2852a74",
   "metadata": {},
   "outputs": [
    {
     "name": "stdout",
     "output_type": "stream",
     "text": [
      "['vende', 'vende um pouco', 'compra até acabar o caixa', 'vende sua casa pra comprar', 'compra devagar', 'vende rapido ou vai quebrar', 'compra mais']\n"
     ]
    }
   ],
   "source": [
    "#Inserindo Elementos em uma posição escolhida\n",
    "#            .insert(index, elemento) \n",
    "lista_sinais.insert(2, 'compra até acabar o caixa')\n",
    "print(lista_sinais)"
   ]
  },
  {
   "cell_type": "code",
   "execution_count": 37,
   "id": "0624c881",
   "metadata": {},
   "outputs": [
    {
     "name": "stdout",
     "output_type": "stream",
     "text": [
      "['vende', 'vende um pouco', 'vende sua casa pra comprar', 'compra devagar', 'vende rapido ou vai quebrar', 'compra mais']\n",
      "['vende um pouco', 'vende sua casa pra comprar', 'compra devagar', 'vende rapido ou vai quebrar', 'compra mais']\n"
     ]
    }
   ],
   "source": [
    "#Removendo elementos em uma posição escolhida\n",
    "\n",
    "#Por elemento\n",
    "lista_sinais.remove('compra até acabar o caixa')\n",
    "print(lista_sinais)\n",
    "\n",
    "#Por posição\n",
    "del lista_sinais[0]\n",
    "print(lista_sinais)\n"
   ]
  },
  {
   "cell_type": "code",
   "execution_count": 38,
   "id": "bc9c6d99",
   "metadata": {},
   "outputs": [
    {
     "name": "stdout",
     "output_type": "stream",
     "text": [
      "True False\n"
     ]
    }
   ],
   "source": [
    "#Verificando se um elemento está na lista\n",
    "\n",
    "verificando = \"compra devagar\" in lista_sinais\n",
    "verificando2 = \"compra devagar\" not in lista_sinais\n",
    "\n",
    "print(verificando, verificando2)"
   ]
  },
  {
   "cell_type": "code",
   "execution_count": 39,
   "id": "051330eb",
   "metadata": {},
   "outputs": [
    {
     "name": "stdout",
     "output_type": "stream",
     "text": [
      "[1, 2, 3, 4, 5, 6]\n"
     ]
    }
   ],
   "source": [
    "#Junção de listas\n",
    "lista_1 = [1, 2, 3]\n",
    "lista_2 = [4, 5, 6]\n",
    "\n",
    "lista_final = lista_1 + lista_2\n",
    "\n",
    "print(lista_final)"
   ]
  },
  {
   "cell_type": "code",
   "execution_count": 40,
   "id": "592ab4be",
   "metadata": {},
   "outputs": [
    {
     "name": "stdout",
     "output_type": "stream",
     "text": [
      "[56, 40, 1, 75, 20]\n",
      "[1, 20, 40, 56, 75]\n",
      "[75, 56, 40, 20, 1]\n"
     ]
    }
   ],
   "source": [
    "#Ordenação em lista\n",
    "\n",
    "lista_desordenada = [56, 40, 1, 75, 20]\n",
    "print(lista_desordenada)\n",
    "\n",
    "lista_ordenada_crescente = sorted(lista_desordenada)\n",
    "print(lista_ordenada_crescente)\n",
    "\n",
    "lista_ordenada_decrescente = sorted(lista_desordenada, reverse=True)\n",
    "print(lista_ordenada_decrescente)"
   ]
  },
  {
   "cell_type": "code",
   "execution_count": 41,
   "id": "60b62989",
   "metadata": {},
   "outputs": [
    {
     "name": "stdout",
     "output_type": "stream",
     "text": [
      "5\n"
     ]
    }
   ],
   "source": [
    "#Extraindo o tamanho\n",
    "print(len(lista_desordenada))"
   ]
  },
  {
   "cell_type": "code",
   "execution_count": 43,
   "id": "8b2e7567",
   "metadata": {},
   "outputs": [
    {
     "name": "stdout",
     "output_type": "stream",
     "text": [
      "75\n",
      "1\n",
      "38.4\n"
     ]
    }
   ],
   "source": [
    "print(max(lista_desordenada))\n",
    "print(min(lista_desordenada))\n",
    "print(sum(lista_desordenada) / len(lista_desordenada))"
   ]
  },
  {
   "cell_type": "markdown",
   "id": "37cc46d9",
   "metadata": {},
   "source": [
    "## Tuplas"
   ]
  },
  {
   "cell_type": "code",
   "execution_count": 46,
   "id": "bc7f6d65",
   "metadata": {},
   "outputs": [
    {
     "name": "stdout",
     "output_type": "stream",
     "text": [
      "4\n",
      "2\n",
      "0\n"
     ]
    }
   ],
   "source": [
    "tupla = (2, 4, 5, 2, 3)\n",
    "\n",
    "print(tupla[1])\n",
    "print(tupla.count(2)) #retorna a quantidade de x que o elemento se repete na tupla\n",
    "print(tupla.index(2)) #retorna o index do elemento"
   ]
  },
  {
   "cell_type": "code",
   "execution_count": 47,
   "id": "f00c753a",
   "metadata": {},
   "outputs": [
    {
     "name": "stdout",
     "output_type": "stream",
     "text": [
      "5\n"
     ]
    }
   ],
   "source": [
    "#Tamanho da coleção\n",
    "print(len(tupla))"
   ]
  },
  {
   "cell_type": "markdown",
   "id": "9dc741f0",
   "metadata": {},
   "source": [
    "## Desafios"
   ]
  },
  {
   "cell_type": "code",
   "execution_count": 53,
   "id": "e6ac5a92",
   "metadata": {},
   "outputs": [
    {
     "name": "stdout",
     "output_type": "stream",
     "text": [
      "Digite o nome de 4 empresas\n",
      "\n",
      "Digite o nome da empresa: \n",
      "Digite o nome da empresa: \n",
      "Digite o nome da empresa: \n",
      "Digite o nome da empresa: \n",
      "Digite o lucro da empresa Vale\n",
      "Digite o lucro da empresa Weg\n",
      "Digite o lucro da empresa Totvs\n",
      "Digite o lucro da empresa MMPaletes\n"
     ]
    }
   ],
   "source": [
    "empresas = []\n",
    "\n",
    "print('Digite o nome de 4 empresas\\n')\n",
    "for i in range(4):\n",
    "    empresa = input(print('Digite o nome da empresa: '))\n",
    "    empresas.append(empresa)\n",
    "\n",
    "\n",
    "dicionario = {}\n",
    "for item in empresas:\n",
    "    preco = input(print(f'Digite o lucro da empresa {item}'))\n",
    "    dicionario[item] = preco\n",
    "\n"
   ]
  },
  {
   "cell_type": "code",
   "execution_count": 54,
   "id": "fbf371b1",
   "metadata": {},
   "outputs": [
    {
     "name": "stdout",
     "output_type": "stream",
     "text": [
      "{'Vale': '10', 'Weg': '30', 'Totvs': '5', 'MMPaletes': '1000'}\n"
     ]
    }
   ],
   "source": [
    "print(dicionario)"
   ]
  },
  {
   "cell_type": "code",
   "execution_count": null,
   "id": "693cef19",
   "metadata": {},
   "outputs": [],
   "source": []
  }
 ],
 "metadata": {
  "kernelspec": {
   "display_name": "Python 3 (ipykernel)",
   "language": "python",
   "name": "python3"
  },
  "language_info": {
   "codemirror_mode": {
    "name": "ipython",
    "version": 3
   },
   "file_extension": ".py",
   "mimetype": "text/x-python",
   "name": "python",
   "nbconvert_exporter": "python",
   "pygments_lexer": "ipython3",
   "version": "3.11.5"
  }
 },
 "nbformat": 4,
 "nbformat_minor": 5
}
