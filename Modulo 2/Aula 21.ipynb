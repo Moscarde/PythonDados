{
 "cells": [
  {
   "cell_type": "markdown",
   "metadata": {},
   "source": [
    "# Aula 21"
   ]
  },
  {
   "cell_type": "code",
   "execution_count": 3,
   "metadata": {},
   "outputs": [
    {
     "ename": "ValueError",
     "evalue": "could not convert string to float: 'awd'",
     "output_type": "error",
     "traceback": [
      "\u001b[1;31m---------------------------------------------------------------------------\u001b[0m",
      "\u001b[1;31mValueError\u001b[0m                                Traceback (most recent call last)",
      "\u001b[1;32mc:\\Users\\Gabriel\\Python Dados\\Modulo 2\\Aula 21.ipynb Célula 2\u001b[0m line \u001b[0;36m3\n\u001b[0;32m      <a href='vscode-notebook-cell:/c%3A/Users/Gabriel/Python%20Dados/Modulo%202/Aula%2021.ipynb#X14sZmlsZQ%3D%3D?line=0'>1</a>\u001b[0m \u001b[39m#calculadora\u001b[39;00m\n\u001b[1;32m----> <a href='vscode-notebook-cell:/c%3A/Users/Gabriel/Python%20Dados/Modulo%202/Aula%2021.ipynb#X14sZmlsZQ%3D%3D?line=2'>3</a>\u001b[0m numero1 \u001b[39m=\u001b[39m \u001b[39mfloat\u001b[39;49m(\u001b[39minput\u001b[39;49m(\u001b[39m'\u001b[39;49m\u001b[39mDigite um número:\u001b[39;49m\u001b[39m'\u001b[39;49m))\n\u001b[0;32m      <a href='vscode-notebook-cell:/c%3A/Users/Gabriel/Python%20Dados/Modulo%202/Aula%2021.ipynb#X14sZmlsZQ%3D%3D?line=3'>4</a>\u001b[0m numero2 \u001b[39m=\u001b[39m \u001b[39mfloat\u001b[39m(\u001b[39minput\u001b[39m(\u001b[39m'\u001b[39m\u001b[39mDigite outro número:\u001b[39m\u001b[39m'\u001b[39m))\n\u001b[0;32m      <a href='vscode-notebook-cell:/c%3A/Users/Gabriel/Python%20Dados/Modulo%202/Aula%2021.ipynb#X14sZmlsZQ%3D%3D?line=5'>6</a>\u001b[0m divisao \u001b[39m=\u001b[39m numero1 \u001b[39m/\u001b[39m numero2\n",
      "\u001b[1;31mValueError\u001b[0m: could not convert string to float: 'awd'"
     ]
    }
   ],
   "source": [
    "#calculadora\n",
    "\n",
    "numero1 = float(input('Digite um número:'))\n",
    "numero2 = float(input('Digite outro número:'))\n",
    "\n",
    "divisao = numero1 / numero2\n",
    "\n",
    "print(f'A divisão entre o 1 e o 2 numero é: {divisao}')"
   ]
  },
  {
   "cell_type": "code",
   "execution_count": 5,
   "metadata": {},
   "outputs": [
    {
     "name": "stdout",
     "output_type": "stream",
     "text": [
      "Não é possivel dividir por zero!\n",
      "Obrigado por participar!\n"
     ]
    }
   ],
   "source": [
    "#calculadora 2 \n",
    "\n",
    "try:\n",
    "    numero1 = float(input('Digite um número:'))\n",
    "    numero2 = float(input('Digite outro número:'))\n",
    "\n",
    "    divisao = numero1 / numero2\n",
    "\n",
    "except ZeroDivisionError:\n",
    "    print('Não é possivel dividir por zero!')\n",
    "\n",
    "except ValueError:\n",
    "    print('Número digitado é invalido!')\n",
    "\n",
    "else:\n",
    "    print(f'A divisão entre o 1 e o 2 numero é: {divisao}')\n",
    "\n",
    "finally:\n",
    "    print('Obrigado por participar!')"
   ]
  },
  {
   "cell_type": "code",
   "execution_count": 7,
   "metadata": {},
   "outputs": [
    {
     "name": "stdout",
     "output_type": "stream",
     "text": [
      "A divisão entre o 1 e o 2 numero é: 0.5\n"
     ]
    }
   ],
   "source": [
    "#calculadora 3 - retornando erros como ojeto\n",
    "\n",
    "try:\n",
    "    numero1 = float(input('Digite um número:'))\n",
    "    numero2 = float(input('Digite outro número:'))\n",
    "\n",
    "    divisao = numero1 / numero2\n",
    "\n",
    "except Exception as erro:\n",
    "    print(f'Ocorreu um erro do tipo {erro.__class__}')\n",
    "\n",
    "else:\n",
    "    print(f'A divisão entre o 1 e o 2 numero é: {divisao}')\n"
   ]
  },
  {
   "cell_type": "markdown",
   "metadata": {},
   "source": [
    "### Desafio"
   ]
  },
  {
   "cell_type": "code",
   "execution_count": 8,
   "metadata": {},
   "outputs": [
    {
     "name": "stdout",
     "output_type": "stream",
     "text": [
      "Ocorreu um erro do tipo <class 'ValueError'>\n"
     ]
    }
   ],
   "source": [
    "try:\n",
    "    nome = str(input('Digite seu nome: ')).title()\n",
    "    idade = int(input('Digite sua idade'))\n",
    "\n",
    "    print(f'{nome} será muito bom em python quando tiver {idade + 3} anos!')\n",
    "\n",
    "except Exception as erro:\n",
    "    print(f'Ocorreu um erro do tipo {erro.__class__}')\n",
    "\n",
    "else:\n",
    "    print('Siga os estudos para avançar')\n",
    "\n"
   ]
  },
  {
   "cell_type": "code",
   "execution_count": null,
   "metadata": {},
   "outputs": [],
   "source": []
  }
 ],
 "metadata": {
  "kernelspec": {
   "display_name": "Python 3",
   "language": "python",
   "name": "python3"
  },
  "language_info": {
   "codemirror_mode": {
    "name": "ipython",
    "version": 3
   },
   "file_extension": ".py",
   "mimetype": "text/x-python",
   "name": "python",
   "nbconvert_exporter": "python",
   "pygments_lexer": "ipython3",
   "version": "3.11.5"
  },
  "orig_nbformat": 4
 },
 "nbformat": 4,
 "nbformat_minor": 2
}
