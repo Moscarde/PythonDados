{
 "cells": [
  {
   "cell_type": "markdown",
   "id": "b34379a3",
   "metadata": {},
   "source": [
    "## Aula 5\n",
    "- Inputs"
   ]
  },
  {
   "cell_type": "code",
   "execution_count": 1,
   "id": "e42bf872",
   "metadata": {},
   "outputs": [
    {
     "name": "stdout",
     "output_type": "stream",
     "text": [
      "Digite seu timeBotafogo\n",
      "Botafogo é o maior time do mundo!\n"
     ]
    }
   ],
   "source": [
    "time = input('Digite seu time: ')\n",
    "print(f'{time} é o maior time do mundo!')"
   ]
  },
  {
   "cell_type": "code",
   "execution_count": 3,
   "id": "bc4aaf96",
   "metadata": {},
   "outputs": [
    {
     "name": "stdout",
     "output_type": "stream",
     "text": [
      "Digite um numero: 2\n",
      "4\n"
     ]
    }
   ],
   "source": [
    "#Realizando operações com inputs\n",
    "\n",
    "numero_digitado = input('Digite um numero: ')\n",
    "numero_final = int(numero_digitado) + 2\n",
    "\n",
    "print(numero_final)"
   ]
  },
  {
   "cell_type": "markdown",
   "id": "ec53616c",
   "metadata": {},
   "source": [
    "## Desafios"
   ]
  },
  {
   "cell_type": "code",
   "execution_count": 4,
   "id": "99f8e786",
   "metadata": {},
   "outputs": [
    {
     "name": "stdout",
     "output_type": "stream",
     "text": [
      "Digite um nome: Gabriel\n",
      "Gabriel é a pessoa mais rica do mundo!\n",
      "Digite um numero para multiplicar por 2: 4\n",
      "O número digitado vezes 2 é igual a: 8\n"
     ]
    }
   ],
   "source": [
    "nome = input('Digite um nome: ')\n",
    "print(f'{nome} é a pessoa mais rica do mundo!')\n",
    "\n",
    "numero = int(input('Digite um numero para multiplicar por 2: '))\n",
    "print(f'O número digitado vezes 2 é igual a: {numero * 2}')"
   ]
  },
  {
   "cell_type": "code",
   "execution_count": null,
   "id": "8ce41877",
   "metadata": {},
   "outputs": [],
   "source": []
  }
 ],
 "metadata": {
  "kernelspec": {
   "display_name": "Python 3 (ipykernel)",
   "language": "python",
   "name": "python3"
  },
  "language_info": {
   "codemirror_mode": {
    "name": "ipython",
    "version": 3
   },
   "file_extension": ".py",
   "mimetype": "text/x-python",
   "name": "python",
   "nbconvert_exporter": "python",
   "pygments_lexer": "ipython3",
   "version": "3.11.5"
  }
 },
 "nbformat": 4,
 "nbformat_minor": 5
}
