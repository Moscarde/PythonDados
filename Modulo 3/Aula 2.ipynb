{
 "cells": [
  {
   "cell_type": "markdown",
   "id": "a092bad5",
   "metadata": {},
   "source": [
    "# NumPy"
   ]
  },
  {
   "cell_type": "code",
   "execution_count": 36,
   "id": "0c7602a4",
   "metadata": {},
   "outputs": [],
   "source": [
    "import numpy as np"
   ]
  },
  {
   "cell_type": "code",
   "execution_count": 37,
   "id": "9bdbf387",
   "metadata": {},
   "outputs": [
    {
     "data": {
      "text/plain": [
       "array([1, 2, 3, 4])"
      ]
     },
     "execution_count": 37,
     "metadata": {},
     "output_type": "execute_result"
    }
   ],
   "source": [
    "#criando vetores a partir de uma lista ou tupla\n",
    "\n",
    "lista = [1, 2, 3, 4]\n",
    "tupla = (1, 2, 3, 4)\n",
    "\n",
    "array_a_partir_de_lista = np.array(lista)\n",
    "array_a_partir_de_tupla = np.array(tupla)\n",
    "\n",
    "array_a_partir_de_lista\n",
    "\n",
    "\n"
   ]
  },
  {
   "cell_type": "code",
   "execution_count": 38,
   "id": "b8a708b2",
   "metadata": {},
   "outputs": [
    {
     "data": {
      "text/plain": [
       "(array([0, 1, 2, 3, 4, 5, 6, 7, 8, 9]),\n",
       " array([10, 20, 30, 40, 50, 60, 70, 80, 90]))"
      ]
     },
     "execution_count": 38,
     "metadata": {},
     "output_type": "execute_result"
    }
   ],
   "source": [
    "#usando um range\n",
    "array_simples = np.arange(10)\n",
    "array_sequencial = np.arange(10, 100, 10)\n",
    "#np.arange(inicio, fim, frequencia)\n",
    "\n",
    "array_simples, array_sequencial"
   ]
  },
  {
   "cell_type": "code",
   "execution_count": 39,
   "id": "5c130d37",
   "metadata": {},
   "outputs": [
    {
     "data": {
      "text/plain": [
       "(array([0., 0., 0., 0., 0.]), array([1., 1., 1., 1., 1.]))"
      ]
     },
     "execution_count": 39,
     "metadata": {},
     "output_type": "execute_result"
    }
   ],
   "source": [
    "#criando arrays de zeros ou ums\n",
    "\n",
    "vetor_zero = np.zeros(5)\n",
    "vetor_um = np.ones(5)\n",
    "\n",
    "vetor_zero, vetor_um"
   ]
  },
  {
   "cell_type": "code",
   "execution_count": 40,
   "id": "e5b1a0d7",
   "metadata": {},
   "outputs": [
    {
     "name": "stdout",
     "output_type": "stream",
     "text": [
      "[[0.67151465 0.81617294]\n",
      " [0.91012378 0.90598101]\n",
      " [0.26200885 0.6662051 ]]\n",
      "[6 6 3]\n",
      "[4.15307184 4.65103345 1.73916698]\n"
     ]
    }
   ],
   "source": [
    "#criando vetores aleatórios\n",
    "\n",
    "vetor_aleatorio_entre_0_1 = np.random.rand(3, 2)\n",
    "#vetor_aleatorio_entre_0_1 = np.random.rand(QUANT_VETORES, TAMANHO)\n",
    "print(vetor_aleatorio_entre_0_1)\n",
    "\n",
    "vetor_aleatorio_inteiro = np.random.randint(low = 3, high=7, size=3, )\n",
    "print(vetor_aleatorio_inteiro)\n",
    "\n",
    "vetor_aleatorio_com_negativos = np.random.uniform(low = -3, high=7, size=3)\n",
    "print(vetor_aleatorio_com_negativos)\n"
   ]
  },
  {
   "cell_type": "code",
   "execution_count": 41,
   "metadata": {},
   "outputs": [
    {
     "data": {
      "text/plain": [
       "(array([[1, 2, 3],\n",
       "        [4, 5, 6]]),\n",
       " array([[1, 2, 3],\n",
       "        [4, 5, 6],\n",
       "        [7, 8, 9]]))"
      ]
     },
     "execution_count": 41,
     "metadata": {},
     "output_type": "execute_result"
    }
   ],
   "source": [
    "#criando arrays bi ou tridimensionais\n",
    "\n",
    "lista1 = [1, 2, 3]\n",
    "lista2 = [4, 5, 6]\n",
    "lista3 = [7, 8, 9]\n",
    "\n",
    "array2d = np.array([lista1, lista2])\n",
    "array3d = np.array([lista1, lista2, lista3])\n",
    "\n",
    "array2d, array3d"
   ]
  },
  {
   "cell_type": "code",
   "execution_count": 42,
   "id": "fe55983b",
   "metadata": {},
   "outputs": [
    {
     "data": {
      "text/plain": [
       "matrix([[20, 30],\n",
       "        [90, 80]])"
      ]
     },
     "execution_count": 42,
     "metadata": {},
     "output_type": "execute_result"
    }
   ],
   "source": [
    "#criando matrizes\n",
    "matriz = np.matrix([[20, 30], [90, 80]])\n",
    "\n",
    "matriz"
   ]
  },
  {
   "cell_type": "code",
   "execution_count": 43,
   "metadata": {},
   "outputs": [
    {
     "name": "stdout",
     "output_type": "stream",
     "text": [
      "[1, 1, 1, 1, 2, 2, 2, 2]\n",
      "[3 3 3 3]\n"
     ]
    }
   ],
   "source": [
    "#lista x numpy array\n",
    "\n",
    "lista_1 = [1, 1, 1, 1]\n",
    "lista_2 = [2, 2, 2, 2]\n",
    "\n",
    "print(lista_1 + lista_2)\n",
    "\n",
    "print(np.array(lista_1) + np.array(lista_2))"
   ]
  },
  {
   "cell_type": "code",
   "execution_count": 59,
   "id": "4cbc7d79",
   "metadata": {},
   "outputs": [
    {
     "name": "stdout",
     "output_type": "stream",
     "text": [
      "2.4227977999980794\n",
      "2.701516900007846\n",
      "0.02621009999711532\n",
      "Os vetores são 103.07159836494993 vezes mais rápidos\n"
     ]
    }
   ],
   "source": [
    "#teste lista x array numpy\n",
    "\n",
    "range_test = 1000\n",
    "X = range(range_test)\n",
    "Y = range(range_test)\n",
    "#logica propria\n",
    "lista_test = [numero + Y[index] for numero, index in enumerate(X)]\n",
    "#logica aula\n",
    "lista_test = [X[i] + Y[i] for i in range(len(X))]\n",
    "\n",
    "\n",
    "import timeit\n",
    "\n",
    "tempo_proprio = timeit.timeit('''X = range(100000); Y = range(100000); [numero + Y[index] for numero, index in enumerate(X)] ''', number=100)\n",
    "tempo_aula = timeit.timeit('''X = range(100000); Y = range(100000); [X[i] + Y[i] for i in range(len(X))] ''', number=100)\n",
    "tempo_array = timeit.timeit('''X = np.arange(100000); Y = np.arange(100000); X + Y ''',\n",
    "number=100,\n",
    "setup=\"import numpy as np\")\n",
    "\n",
    "print(tempo_proprio)\n",
    "print(tempo_aula)\n",
    "print(tempo_array)\n",
    "\n",
    "print(f'Os vetores são {tempo_aula/tempo_array} vezes mais rápidos')\n",
    "\n",
    "\n",
    "\n"
   ]
  },
  {
   "cell_type": "markdown",
   "id": "cb4d1d9d",
   "metadata": {},
   "source": [
    "# Desafios"
   ]
  },
  {
   "cell_type": "code",
   "execution_count": 64,
   "id": "ac69f8fe",
   "metadata": {},
   "outputs": [
    {
     "name": "stdout",
     "output_type": "stream",
     "text": [
      "Bem vindo, digite 3 cotações!\n",
      "Ocorreu um erro: could not convert string to float: 'awd'\n",
      "[15. 12. 13.]\n"
     ]
    }
   ],
   "source": [
    "print('Bem vindo, digite 3 cotações!')\n",
    "cotacoes_lista = []\n",
    "try:\n",
    "    for i in range(3):\n",
    "        cotacoes_lista.append(float(input('Digite a cotação: ')))\n",
    "except Exception as erro:\n",
    "    print('Ocorreu um erro:', erro)\n",
    "else:\n",
    "    cotacoes_array = np.array(cotacoes_lista)\n",
    "\n",
    "print(cotacoes_array)\n"
   ]
  },
  {
   "cell_type": "code",
   "execution_count": 66,
   "id": "5f02c940",
   "metadata": {},
   "outputs": [],
   "source": [
    "\n",
    "array_sequencial = np.arange(int(input('Digite o valor minimo')), int(input('Digite o valor máximo')))\n",
    "print(array_sequencial)"
   ]
  },
  {
   "cell_type": "code",
   "execution_count": 83,
   "id": "ec7a9cab",
   "metadata": {},
   "outputs": [
    {
     "name": "stdout",
     "output_type": "stream",
     "text": [
      "[56, 28, 29, 19, 40, 8]\n",
      "A chance de ganhar é de: 0.29398218772522855\n"
     ]
    }
   ],
   "source": [
    "lista_numeros = []\n",
    "lista_numeros.append(np.random.randint(low = 0, high=60, size= 1)[0])\n",
    "\n",
    "while len(lista_numeros) < 6:\n",
    "    numero_aleatorio = np.random.randint(low = 0, high=60, size= 1)[0]\n",
    "\n",
    "    if numero_aleatorio not in lista_numeros:\n",
    "        lista_numeros.append(numero_aleatorio)\n",
    "    \n",
    "print(lista_numeros)\n",
    "print(f'A chance de ganhar é de:', np.random.rand(1)[0])"
   ]
  }
 ],
 "metadata": {
  "kernelspec": {
   "display_name": "Python 3 (ipykernel)",
   "language": "python",
   "name": "python3"
  },
  "language_info": {
   "codemirror_mode": {
    "name": "ipython",
    "version": 3
   },
   "file_extension": ".py",
   "mimetype": "text/x-python",
   "name": "python",
   "nbconvert_exporter": "python",
   "pygments_lexer": "ipython3",
   "version": "3.11.5"
  }
 },
 "nbformat": 4,
 "nbformat_minor": 5
}
