{
 "cells": [
  {
   "cell_type": "markdown",
   "id": "a092bad5",
   "metadata": {},
   "source": [
    "# NumPy"
   ]
  },
  {
   "cell_type": "code",
   "execution_count": 3,
   "id": "0c7602a4",
   "metadata": {},
   "outputs": [],
   "source": [
    "import numpy as np"
   ]
  },
  {
   "cell_type": "code",
   "execution_count": 5,
   "id": "07957467",
   "metadata": {},
   "outputs": [
    {
     "name": "stdout",
     "output_type": "stream",
     "text": [
      "[0 1 2 3 4 5 6 7 8 9]\n",
      "40\n",
      "4\n",
      "10\n"
     ]
    }
   ],
   "source": [
    "array = np.arange(10)\n",
    "\n",
    "print(array)\n",
    "print(array.nbytes)\n",
    "print(array.itemsize)\n",
    "print(array.size)"
   ]
  },
  {
   "cell_type": "code",
   "execution_count": 9,
   "id": "b5874e76",
   "metadata": {},
   "outputs": [
    {
     "name": "stdout",
     "output_type": "stream",
     "text": [
      "2\n",
      "(2, 3)\n",
      "<class 'numpy.ndarray'>\n"
     ]
    }
   ],
   "source": [
    "array2d = np.array([[1, 2, 3], [1, 2, 3]])\n",
    "\n",
    "#numero de dimensoes\n",
    "print(array2d.ndim)\n",
    "print(array2d.shape)\n",
    "print(type(array2d))"
   ]
  },
  {
   "cell_type": "code",
   "execution_count": 10,
   "id": "6de54922",
   "metadata": {},
   "outputs": [
    {
     "name": "stdout",
     "output_type": "stream",
     "text": [
      "6\n",
      "2\n"
     ]
    }
   ],
   "source": [
    "#tamanho de vetor\n",
    "print(array2d.size)\n",
    "print(len(array2d))"
   ]
  }
 ],
 "metadata": {
  "kernelspec": {
   "display_name": "Python 3 (ipykernel)",
   "language": "python",
   "name": "python3"
  },
  "language_info": {
   "codemirror_mode": {
    "name": "ipython",
    "version": 3
   },
   "file_extension": ".py",
   "mimetype": "text/x-python",
   "name": "python",
   "nbconvert_exporter": "python",
   "pygments_lexer": "ipython3",
   "version": "3.11.5"
  }
 },
 "nbformat": 4,
 "nbformat_minor": 5
}
