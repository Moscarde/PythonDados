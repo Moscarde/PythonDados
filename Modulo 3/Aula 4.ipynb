{
 "cells": [
  {
   "cell_type": "markdown",
   "id": "a092bad5",
   "metadata": {},
   "source": [
    "# NumPy"
   ]
  },
  {
   "cell_type": "code",
   "execution_count": 2,
   "id": "0c7602a4",
   "metadata": {},
   "outputs": [],
   "source": [
    "import numpy as np"
   ]
  },
  {
   "cell_type": "code",
   "execution_count": 4,
   "id": "5370f377",
   "metadata": {},
   "outputs": [],
   "source": [
    "vetor = np.array([1, 2, 3, 4, 5, 6, 7, 8, 9])\n",
    "\n",
    "vetor2d = np.array([[1, 2, 3], [4, 5, 6], [7, 8, 9]])\n",
    "\n"
   ]
  },
  {
   "cell_type": "code",
   "execution_count": 7,
   "id": "2a1b33b7",
   "metadata": {},
   "outputs": [
    {
     "name": "stdout",
     "output_type": "stream",
     "text": [
      "1\n",
      "[1 2]\n",
      "9\n",
      "7\n",
      "2\n"
     ]
    }
   ],
   "source": [
    "#posicoes\n",
    "\n",
    "print(vetor[0])\n",
    "print(vetor[0:2])\n",
    "print(vetor[-1])\n",
    "print(vetor2d[2][0])\n",
    "print(vetor2d[0][1])"
   ]
  },
  {
   "cell_type": "code",
   "execution_count": 8,
   "id": "fa141b61",
   "metadata": {},
   "outputs": [
    {
     "name": "stdout",
     "output_type": "stream",
     "text": [
      "2\n",
      "(3, 3)\n"
     ]
    }
   ],
   "source": [
    "print(vetor2d.ndim)\n",
    "print(vetor2d.shape)"
   ]
  },
  {
   "cell_type": "code",
   "execution_count": 12,
   "id": "d3175223",
   "metadata": {},
   "outputs": [
    {
     "name": "stdout",
     "output_type": "stream",
     "text": [
      "[6 7 8 9]\n",
      "[2 4 6 8]\n",
      "[6 7]\n"
     ]
    }
   ],
   "source": [
    "#filtrando os dados\n",
    "\n",
    "maior_que_5 = vetor[vetor > 5]\n",
    "print(maior_que_5)\n",
    "\n",
    "somente_par = vetor[vetor % 2 == 0]\n",
    "print(somente_par)\n",
    "\n",
    "maior_que_3_menor_que_8 = vetor[(vetor > 5) & (vetor < 8)]\n",
    "print(maior_que_3_menor_que_8)"
   ]
  },
  {
   "cell_type": "code",
   "execution_count": 15,
   "id": "b156154b",
   "metadata": {},
   "outputs": [
    {
     "name": "stdout",
     "output_type": "stream",
     "text": [
      "[ 0.37339381 -0.85374375  0.40833956 -0.0984522  -0.6466993  -0.94563474\n",
      " -0.44882215 -0.58426757]\n",
      "Os retornos positivos são: [0.37339381 0.40833956]\n",
      "O primeiro retorno foi: 0.373393807592864\n",
      "O primeiro ultimo foi: -0.5842675686199625\n"
     ]
    }
   ],
   "source": [
    "dias = int(input('Digite a quantidade de dias: '))\n",
    "\n",
    "# lista = []\n",
    "# for i in range(dias):\n",
    "#     lista.append(np.random.uniform(low=-1, high=1, size= 1))\n",
    "\n",
    "# retornos = np.array(lista)\n",
    "\n",
    "retornos = np.random.uniform(-1, 1, dias)\n",
    "\n",
    "print(retornos)\n",
    "print('Os retornos positivos são:', retornos[retornos > 0])\n",
    "print('O primeiro retorno foi:', retornos[0])\n",
    "print('O primeiro ultimo foi:', retornos[-1])\n"
   ]
  }
 ],
 "metadata": {
  "kernelspec": {
   "display_name": "Python 3 (ipykernel)",
   "language": "python",
   "name": "python3"
  },
  "language_info": {
   "codemirror_mode": {
    "name": "ipython",
    "version": 3
   },
   "file_extension": ".py",
   "mimetype": "text/x-python",
   "name": "python",
   "nbconvert_exporter": "python",
   "pygments_lexer": "ipython3",
   "version": "3.11.5"
  }
 },
 "nbformat": 4,
 "nbformat_minor": 5
}
