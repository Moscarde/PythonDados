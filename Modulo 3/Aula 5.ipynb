{
 "cells": [
  {
   "cell_type": "markdown",
   "id": "a092bad5",
   "metadata": {},
   "source": [
    "# NumPy"
   ]
  },
  {
   "cell_type": "code",
   "execution_count": 2,
   "id": "0c7602a4",
   "metadata": {},
   "outputs": [],
   "source": [
    "import numpy as np"
   ]
  },
  {
   "cell_type": "code",
   "execution_count": 3,
   "id": "3b230a5d",
   "metadata": {},
   "outputs": [
    {
     "data": {
      "text/plain": [
       "array([20, 21, 22, 23, 24,  0,  1,  2,  3,  4,  5,  6,  7,  8,  9, 10, 11,\n",
       "       12, 13, 14])"
      ]
     },
     "execution_count": 3,
     "metadata": {},
     "output_type": "execute_result"
    }
   ],
   "source": [
    "#juntar dois arrays\n",
    "\n",
    "array1 = np.arange(20, 25)\n",
    "array2 = np.arange(15)\n",
    "\n",
    "array_completo = np.concatenate([array1, array2])\n",
    "\n",
    "array_completo"
   ]
  },
  {
   "cell_type": "code",
   "execution_count": 6,
   "id": "4b9c4d7c",
   "metadata": {},
   "outputs": [
    {
     "name": "stdout",
     "output_type": "stream",
     "text": [
      "[20 21 22 23 24] [ 0  1  2  3  4  5  6  7  8  9 10 11 12 13 14]\n"
     ]
    }
   ],
   "source": [
    "#separando em dois arrays\n",
    "# np.split(array_completo, [5]) ~> retorna dois arrays\n",
    "array_separado1, array_separado2 = np.split(array_completo, [5])\n",
    "\n",
    "print(array_separado1, array_separado2)"
   ]
  },
  {
   "cell_type": "code",
   "execution_count": 9,
   "id": "5a02bbfb",
   "metadata": {},
   "outputs": [
    {
     "name": "stdout",
     "output_type": "stream",
     "text": [
      "[  20   21   22   23   24   11   11    0    1    2    3    4    5    6\n",
      "    7    8    9   10   11   12   13   14 2000 2000 2000]\n"
     ]
    }
   ],
   "source": [
    "#colocando novos dados em array\n",
    "\n",
    "array_completo = np.append(array_completo, 2000) #adiciona ao final\n",
    "array_completo = np.insert(array_completo, 5, 11) #insere na pos\n",
    "print(array_completo)\n",
    "\n",
    "# comparando com listas\n",
    "# lista.append(elem)\n",
    "# array = np.append(array, elem)"
   ]
  },
  {
   "cell_type": "code",
   "execution_count": 12,
   "id": "d47d3fad",
   "metadata": {},
   "outputs": [
    {
     "name": "stdout",
     "output_type": "stream",
     "text": [
      "[  20   21   22   23   24   11   11    0    1    2    3    4    5    6\n",
      "    7    8    9   10   11   12   13   14 2000]\n",
      "[20 21 22 23 24 11 11  0  1  2  3  4  5  6  7  8  9 10 11 12 13 14]\n"
     ]
    }
   ],
   "source": [
    "#deletando dados de um array\n",
    "print(array_completo)\n",
    "array_completo = np.delete(array_completo, -1) #deletando o ultimo elemento\n",
    "print(array_completo)"
   ]
  },
  {
   "cell_type": "code",
   "execution_count": 13,
   "id": "2b5a1224",
   "metadata": {},
   "outputs": [
    {
     "data": {
      "text/plain": [
       "array([[0, 1, 2],\n",
       "       [3, 4, 5],\n",
       "       [6, 7, 8]])"
      ]
     },
     "execution_count": 13,
     "metadata": {},
     "output_type": "execute_result"
    }
   ],
   "source": [
    "#reshape\n",
    "array_3x3 = np.arange(9).reshape(3, 3) #metodo util para fazer regressao linear\n",
    "array_3x3"
   ]
  },
  {
   "cell_type": "code",
   "execution_count": 17,
   "id": "cc90e4e7",
   "metadata": {},
   "outputs": [
    {
     "name": "stdout",
     "output_type": "stream",
     "text": [
      "[ True  True  True  True  True  True  True  True  True False  True  True\n",
      "  True False]\n"
     ]
    },
    {
     "data": {
      "text/plain": [
       "array([ 0,  0,  0,  0,  0,  0,  0,  0,  0, 45,  0,  0,  0, 52])"
      ]
     },
     "execution_count": 17,
     "metadata": {},
     "output_type": "execute_result"
    }
   ],
   "source": [
    "#trocando números dentro de uma condição\n",
    "array_inicial = np.array([4, 4, 4, 4, 7, 6, 5, 32, 2, 45, 4, 34, 10, 52])\n",
    "\n",
    "#trocando todos os num menores que 40 por 0\n",
    "print(array_inicial<40) #[ True  True  True  True  True  True  True  True  True False  True  True True False]\n",
    "\n",
    "array_inicial[array_inicial < 40] = 0\n",
    "#define o valor declarado para cada elemento verdadeiro dentro da condição\n",
    "\n",
    "array_inicial"
   ]
  },
  {
   "cell_type": "code",
   "execution_count": 19,
   "id": "dfdeee2a",
   "metadata": {},
   "outputs": [
    {
     "name": "stdout",
     "output_type": "stream",
     "text": [
      "[ 2  4  4  4  4  4  5  6  7 10 32 34 45 52]\n",
      "[52 45 34 32 10  7  6  5  4  4  4  4  4  2]\n"
     ]
    }
   ],
   "source": [
    "#ordenando objetos dentro da lista\n",
    "\n",
    "array_desordenado = np.array([4, 4, 4, 4, 7, 6, 5, 32, 2, 45, 4, 34, 10, 52])\n",
    "array_crescente = np.sort(array_desordenado)\n",
    "array_decrescente = -np.sort(-array_desordenado)\n",
    "\n",
    "print(array_crescente)\n",
    "print(array_decrescente)"
   ]
  },
  {
   "cell_type": "markdown",
   "id": "5ef73358",
   "metadata": {},
   "source": [
    "### Desafios"
   ]
  },
  {
   "cell_type": "code",
   "execution_count": 36,
   "id": "44351b31",
   "metadata": {},
   "outputs": [
    {
     "name": "stdout",
     "output_type": "stream",
     "text": [
      "Lucros em ordem crescente: [30. 50. 90.]\n",
      "Lucros em ordem decrescente: [90. 50. 30.]\n"
     ]
    }
   ],
   "source": [
    "\n",
    "try:\n",
    "    lucros_empresas = np.array([])\n",
    "    lucros_empresas = np.append(lucros_empresas, int(input('Digite o lucro da Vale: ')))\n",
    "    lucros_empresas = np.append(lucros_empresas, int(input('Digite o lucro da Petro: ')))\n",
    "    lucros_empresas = np.append(lucros_empresas, int(input('Digite o lucro da Weg: ')))\n",
    "except ValueError:\n",
    "    print('Lucro inserido deve ser um número inteiro')\n",
    "\n",
    "else:\n",
    "    lucros_ordem_crescente = np.sort(lucros_empresas)\n",
    "    print('Lucros em ordem crescente:', lucros_ordem_crescente)\n",
    "    lucros_ordem_decrescente = -np.sort(-lucros_empresas)\n",
    "    print('Lucros em ordem decrescente:', lucros_ordem_decrescente)"
   ]
  },
  {
   "cell_type": "code",
   "execution_count": 38,
   "id": "ee27775d",
   "metadata": {},
   "outputs": [
    {
     "name": "stdout",
     "output_type": "stream",
     "text": [
      "Lucro das empresas, do maior pro menor: [19. 16. 10.]\n"
     ]
    }
   ],
   "source": [
    "#Gabarito aula\n",
    "empresas = np.array([\"Weg\", \"Vale\", \"Petro\"])\n",
    "array_lucros = np.array([])\n",
    "\n",
    "for empresa in empresas:\n",
    "    lucro = float(input(f'Digite o lucro da empresa {empresa}'))\n",
    "    array_lucros = np.append(array_lucros, lucro)\n",
    "\n",
    "array_lucros = -np.sort(-array_lucros)\n",
    "\n",
    "print(f'Lucro das empresas, do maior pro menor: {array_lucros}')"
   ]
  }
 ],
 "metadata": {
  "kernelspec": {
   "display_name": "Python 3 (ipykernel)",
   "language": "python",
   "name": "python3"
  },
  "language_info": {
   "codemirror_mode": {
    "name": "ipython",
    "version": 3
   },
   "file_extension": ".py",
   "mimetype": "text/x-python",
   "name": "python",
   "nbconvert_exporter": "python",
   "pygments_lexer": "ipython3",
   "version": "3.11.5"
  }
 },
 "nbformat": 4,
 "nbformat_minor": 5
}
