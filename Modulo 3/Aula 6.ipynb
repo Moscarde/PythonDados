{
 "cells": [
  {
   "cell_type": "markdown",
   "id": "a092bad5",
   "metadata": {},
   "source": [
    "# NumPy"
   ]
  },
  {
   "cell_type": "code",
   "execution_count": null,
   "id": "0c7602a4",
   "metadata": {},
   "outputs": [],
   "source": [
    "import numpy as np"
   ]
  },
  {
   "cell_type": "code",
   "execution_count": null,
   "id": "18e8b539",
   "metadata": {},
   "outputs": [],
   "source": [
    "#todas as operações funcionam com vetores\n",
    "\n",
    "array1 = np.array([1, 1, 1, 1])\n",
    "array2 = np.array([4, 5, 6, 7])\n",
    "array3 = np.array([1, 2])\n",
    "\n",
    "lista_normal = [1, 1, 1, 1]\n",
    "lista_normal2 = [4, 5, 6, 7]\n",
    "\n",
    "print(array1 + array2) #[5 6 7 8]\n",
    "print(lista_normal +lista_normal2) #[1, 1, 1, 1, 4, 5, 6, 7]\n"
   ]
  },
  {
   "cell_type": "code",
   "execution_count": null,
   "id": "68bd342b",
   "metadata": {},
   "outputs": [],
   "source": [
    "#para operar, os shapes dos arrays precisam ser iguais\n",
    "print(array1 + array3)"
   ]
  },
  {
   "cell_type": "code",
   "execution_count": null,
   "id": "c896cc15",
   "metadata": {},
   "outputs": [],
   "source": [
    "#Operaçoes para dentro do array ~> no elemento\n",
    "soma_a_todos_os_elementos = np.array([1, 1, 1, 1]) + 20\n",
    "array_crescente = np.arange(15)\n",
    "soma_a_todos_os_elementos2 = array_crescente + 20\n",
    "\n",
    "print(soma_a_todos_os_elementos)\n",
    "print(soma_a_todos_os_elementos2)\n"
   ]
  },
  {
   "cell_type": "code",
   "execution_count": null,
   "id": "8af158ca",
   "metadata": {},
   "outputs": [],
   "source": [
    "#operações\n",
    "array1 = np.array([1, 1, 1, 1])\n",
    "array2 = np.array([4, 5, 6, 7])\n",
    "array3 = np.array([1, 2])\n",
    "\n",
    "subtracao = array1 - array2\n",
    "divisao = array1 / array2\n",
    "multiplicacao = array1 * array2\n",
    "expondenciacao = array1 ** array2\n",
    "\n",
    "print(subtracao)\n",
    "print(divisao)\n",
    "print(multiplicacao)\n",
    "print(expondenciacao)\n"
   ]
  },
  {
   "cell_type": "code",
   "execution_count": null,
   "id": "2b9cbb48",
   "metadata": {},
   "outputs": [],
   "source": [
    "#operaçoes dentro do proprio vetor\n",
    "\n",
    "vetor = np.array([1, 4, -4, -1, 2])\n",
    "\n",
    "print(vetor)\n",
    "print('Soma', vetor.sum())\n",
    "print('n máximo', vetor.max())\n",
    "print('n minimo', vetor.min())\n",
    "print('valor absoluto', np.abs(vetor)) #valor absoluto, negativo ~> positivo"
   ]
  },
  {
   "cell_type": "code",
   "execution_count": null,
   "id": "afbbb289",
   "metadata": {},
   "outputs": [],
   "source": [
    "#estatisticas descritivas\n",
    "\n",
    "vetor = np.array([1, 20, -4, -12, 2000])\n",
    "\n",
    "media = np.mean(vetor)\n",
    "mediana = np.median(vetor)\n",
    "desvio_p = np.std(vetor)\n",
    "var = np.var(vetor)\n",
    "\n",
    "print('Vetor', vetor)\n",
    "print('Média', media)\n",
    "print('Mediana', mediana)\n",
    "print('Desvio Padrão', desvio_p)\n",
    "print('Variancia', var)"
   ]
  },
  {
   "cell_type": "code",
   "execution_count": null,
   "id": "40a12fd7",
   "metadata": {},
   "outputs": [],
   "source": [
    "#matriz de correlação\n",
    "\n",
    "vetor = np.array([1, 20, -4, -12, 10])\n",
    "vetor2 = np.array([5, 4, 3, -5, 4])\n",
    "vetor3 = np.array([2, 6, 7, -5, 1])\n",
    "\n",
    "print(np.corrcoef((vetor, vetor2, vetor3)))"
   ]
  },
  {
   "cell_type": "markdown",
   "id": "d4037621",
   "metadata": {},
   "source": [
    "### Desafio"
   ]
  },
  {
   "cell_type": "code",
   "execution_count": null,
   "id": "f9f9efe1",
   "metadata": {},
   "outputs": [],
   "source": [
    "carteira_de_rentabilidade = np.array([])\n",
    "\n",
    "nova_rentabilidade = True\n",
    "while nova_rentabilidade:\n",
    "    try:\n",
    "        rentabilidade = float(input('Digite uma rentabilidade: '))\n",
    "    except ValueError:\n",
    "        print(\"Valor digitado precisa ser ponto flutuante!\")\n",
    "    else:\n",
    "        carteira_de_rentabilidade = np.append(carteira_de_rentabilidade, rentabilidade)\n",
    "\n",
    "    \n",
    "    continuar = input('Deseja cadastrar mais rentabilidades? [S/N] ').upper()\n",
    "    while continuar != 'S' and continuar != 'N':\n",
    "        print(continuar)\n",
    "        continuar = input('Por favor, digite um comando válido: [S/N] ').upper()\n",
    "    if continuar == 'S':\n",
    "        nova_rentabilidade = True\n",
    "    elif continuar == 'N':\n",
    "        nova_rentabilidade = False\n",
    "    \n",
    "\n",
    "print(f'Carteira de rentabilidade: {carteira_de_rentabilidade}')"
   ]
  },
  {
   "cell_type": "code",
   "execution_count": 21,
   "id": "773bbf4d",
   "metadata": {},
   "outputs": [
    {
     "name": "stdout",
     "output_type": "stream",
     "text": [
      "A média de rentabilidade é: 63.33%\n",
      "O desvio padrão dos retornos é: 20.55%\n",
      "A mediana de retornos é: 60.00%\n",
      "O maior retorno é: 90.00%\n",
      "O menor retorno é: 40.00%\n"
     ]
    }
   ],
   "source": [
    "media = np.mean(carteira_de_rentabilidade)\n",
    "desvio_p = np.std(carteira_de_rentabilidade)\n",
    "mediana = np.median(carteira_de_rentabilidade)\n",
    "maior_retorno = np.max(carteira_de_rentabilidade)\n",
    "menor_retorno = np.min(carteira_de_rentabilidade)\n",
    "\n",
    "# Define the lambda function outside the print statement\n",
    "porcent = lambda x: \"{:.2%}\".format(x)\n",
    "\n",
    "# Use the lambda function inside the print statement\n",
    "print(f'''A média de rentabilidade é: {porcent(media)}\n",
    "O desvio padrão dos retornos é: {porcent(desvio_p)}\n",
    "A mediana de retornos é: {porcent(mediana)}\n",
    "O maior retorno é: {porcent(maior_retorno)}\n",
    "O menor retorno é: {porcent(menor_retorno)}''')"
   ]
  }
 ],
 "metadata": {
  "kernelspec": {
   "display_name": "Python 3 (ipykernel)",
   "language": "python",
   "name": "python3"
  },
  "language_info": {
   "codemirror_mode": {
    "name": "ipython",
    "version": 3
   },
   "file_extension": ".py",
   "mimetype": "text/x-python",
   "name": "python",
   "nbconvert_exporter": "python",
   "pygments_lexer": "ipython3",
   "version": "3.11.5"
  }
 },
 "nbformat": 4,
 "nbformat_minor": 5
}
