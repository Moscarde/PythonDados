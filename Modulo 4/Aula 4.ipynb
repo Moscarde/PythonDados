{
 "cells": [
  {
   "cell_type": "markdown",
   "id": "a092bad5",
   "metadata": {},
   "source": [
    "# Pandas"
   ]
  },
  {
   "cell_type": "code",
   "execution_count": 1,
   "id": "0c7602a4",
   "metadata": {},
   "outputs": [],
   "source": [
    "import pandas as pd\n"
   ]
  },
  {
   "cell_type": "code",
   "execution_count": 7,
   "id": "c1ad04ae",
   "metadata": {},
   "outputs": [
    {
     "data": {
      "text/html": [
       "<div>\n",
       "<style scoped>\n",
       "    .dataframe tbody tr th:only-of-type {\n",
       "        vertical-align: middle;\n",
       "    }\n",
       "\n",
       "    .dataframe tbody tr th {\n",
       "        vertical-align: top;\n",
       "    }\n",
       "\n",
       "    .dataframe thead th {\n",
       "        text-align: right;\n",
       "    }\n",
       "</style>\n",
       "<table border=\"1\" class=\"dataframe\">\n",
       "  <thead>\n",
       "    <tr style=\"text-align: right;\">\n",
       "      <th></th>\n",
       "      <th>moeda</th>\n",
       "      <th>price</th>\n",
       "      <th>data</th>\n",
       "    </tr>\n",
       "  </thead>\n",
       "  <tbody>\n",
       "    <tr>\n",
       "      <th>0</th>\n",
       "      <td>dolar/real</td>\n",
       "      <td>5.24</td>\n",
       "      <td>2014-01-05</td>\n",
       "    </tr>\n",
       "    <tr>\n",
       "      <th>1</th>\n",
       "      <td>libra/real</td>\n",
       "      <td>4.15</td>\n",
       "      <td>2014-01-05</td>\n",
       "    </tr>\n",
       "    <tr>\n",
       "      <th>2</th>\n",
       "      <td>dolar/real</td>\n",
       "      <td>5.26</td>\n",
       "      <td>2014-01-06</td>\n",
       "    </tr>\n",
       "    <tr>\n",
       "      <th>3</th>\n",
       "      <td>libra/real</td>\n",
       "      <td>4.23</td>\n",
       "      <td>2014-01-06</td>\n",
       "    </tr>\n",
       "  </tbody>\n",
       "</table>\n",
       "</div>"
      ],
      "text/plain": [
       "        moeda  price       data\n",
       "0  dolar/real   5.24 2014-01-05\n",
       "1  libra/real   4.15 2014-01-05\n",
       "2  dolar/real   5.26 2014-01-06\n",
       "3  libra/real   4.23 2014-01-06"
      ]
     },
     "execution_count": 7,
     "metadata": {},
     "output_type": "execute_result"
    }
   ],
   "source": [
    "df_cambio = pd.DataFrame({\n",
    "    \"moeda\": ['dolar/real', 'libra/real'] * 2,\n",
    "    \"price\": [5.24, 4.15, 5.26, 4.23],\n",
    "    \"data\": sorted(list(pd.date_range(\"1/5/2014\", periods= 2)) * 2)\n",
    "})\n",
    "#data tem um sorted pois o retorno da multiplicação vai adicionar uma nova lista ao fim\n",
    "\n",
    "df_cambio"
   ]
  },
  {
   "cell_type": "code",
   "execution_count": 8,
   "id": "96726e1f",
   "metadata": {},
   "outputs": [
    {
     "name": "stdout",
     "output_type": "stream",
     "text": [
      "Index(['moeda', 'price', 'data'], dtype='object')\n",
      "Index(['moeda', 'cotacao', 'data'], dtype='object')\n"
     ]
    },
    {
     "data": {
      "text/html": [
       "<div>\n",
       "<style scoped>\n",
       "    .dataframe tbody tr th:only-of-type {\n",
       "        vertical-align: middle;\n",
       "    }\n",
       "\n",
       "    .dataframe tbody tr th {\n",
       "        vertical-align: top;\n",
       "    }\n",
       "\n",
       "    .dataframe thead th {\n",
       "        text-align: right;\n",
       "    }\n",
       "</style>\n",
       "<table border=\"1\" class=\"dataframe\">\n",
       "  <thead>\n",
       "    <tr style=\"text-align: right;\">\n",
       "      <th></th>\n",
       "      <th>moeda</th>\n",
       "      <th>cotacao</th>\n",
       "      <th>data</th>\n",
       "    </tr>\n",
       "  </thead>\n",
       "  <tbody>\n",
       "    <tr>\n",
       "      <th>0</th>\n",
       "      <td>dolar/real</td>\n",
       "      <td>5.24</td>\n",
       "      <td>2014-01-05</td>\n",
       "    </tr>\n",
       "    <tr>\n",
       "      <th>1</th>\n",
       "      <td>libra/real</td>\n",
       "      <td>4.15</td>\n",
       "      <td>2014-01-05</td>\n",
       "    </tr>\n",
       "    <tr>\n",
       "      <th>2</th>\n",
       "      <td>dolar/real</td>\n",
       "      <td>5.26</td>\n",
       "      <td>2014-01-06</td>\n",
       "    </tr>\n",
       "    <tr>\n",
       "      <th>3</th>\n",
       "      <td>libra/real</td>\n",
       "      <td>4.23</td>\n",
       "      <td>2014-01-06</td>\n",
       "    </tr>\n",
       "  </tbody>\n",
       "</table>\n",
       "</div>"
      ],
      "text/plain": [
       "        moeda  cotacao       data\n",
       "0  dolar/real     5.24 2014-01-05\n",
       "1  libra/real     4.15 2014-01-05\n",
       "2  dolar/real     5.26 2014-01-06\n",
       "3  libra/real     4.23 2014-01-06"
      ]
     },
     "execution_count": 8,
     "metadata": {},
     "output_type": "execute_result"
    }
   ],
   "source": [
    "# como trocar o nome das colunas\n",
    "\n",
    "print(df_cambio.columns)\n",
    "df_cambio.columns =[\"moeda\", \"cotacao\", \"data\"]\n",
    "print(df_cambio.columns)\n",
    "\n",
    "df_cambio\n"
   ]
  },
  {
   "cell_type": "code",
   "execution_count": 10,
   "id": "5ebe9953",
   "metadata": {},
   "outputs": [
    {
     "name": "stdout",
     "output_type": "stream",
     "text": [
      "0    5.24\n",
      "1    4.15\n",
      "2    5.26\n",
      "3    4.23\n",
      "Name: cotacao, dtype: float64\n",
      "0    5.24\n",
      "1    4.15\n",
      "2    5.26\n",
      "3    4.23\n",
      "Name: cotacao, dtype: float64\n"
     ]
    }
   ],
   "source": [
    "#como selecionar colunas\n",
    "print(df_cambio['cotacao'])\n",
    "# ==\n",
    "print(df_cambio.cotacao)\n",
    "#retorna uma serie com o indice do dataframe e o valor da coluna\n",
    "\n"
   ]
  },
  {
   "cell_type": "code",
   "execution_count": 11,
   "id": "dc1f9b17",
   "metadata": {},
   "outputs": [
    {
     "name": "stdout",
     "output_type": "stream",
     "text": [
      "   cotacao       data\n",
      "0     5.24 2014-01-05\n",
      "1     4.15 2014-01-05\n",
      "2     5.26 2014-01-06\n",
      "3     4.23 2014-01-06\n"
     ]
    }
   ],
   "source": [
    "#selecionando 2 colunas\n",
    "print(df_cambio[['cotacao', 'data']])"
   ]
  },
  {
   "cell_type": "code",
   "execution_count": 12,
   "id": "8cba3af8",
   "metadata": {},
   "outputs": [
    {
     "name": "stdout",
     "output_type": "stream",
     "text": [
      "data\n",
      "2014-01-05    5.24\n",
      "2014-01-05    4.15\n",
      "2014-01-06    5.26\n",
      "2014-01-06    4.23\n",
      "Name: cotacao, dtype: float64\n"
     ]
    }
   ],
   "source": [
    "#vantagem da data como indice\n",
    "df_cambio = df_cambio.set_index(\"data\")\n",
    "\n",
    "#o filtro retorna o index data junto\n",
    "print(df_cambio['cotacao'])"
   ]
  },
  {
   "cell_type": "code",
   "execution_count": 14,
   "id": "74675bf8",
   "metadata": {},
   "outputs": [
    {
     "name": "stdout",
     "output_type": "stream",
     "text": [
      "                 moeda  cotacao\n",
      "data                           \n",
      "2014-01-05  libra/real     4.15\n",
      "2014-01-06  libra/real     4.23\n",
      "                 moeda  cotacao\n",
      "data                           \n",
      "2014-01-05  dolar/real     5.24\n",
      "2014-01-06  dolar/real     5.26\n"
     ]
    }
   ],
   "source": [
    "#selecionando colunas por condições\n",
    "#selecionando cotacoes menores que 5\n",
    "cambio_menor_que_5 = df_cambio[df_cambio['cotacao'] < 5]\n",
    "print(cambio_menor_que_5)\n",
    "\n",
    "#selecionando o cambio\n",
    "cambio_dolar = df_cambio[df_cambio['moeda'] == 'dolar/real']\n",
    "print(cambio_dolar)"
   ]
  },
  {
   "cell_type": "code",
   "execution_count": 18,
   "id": "77165474",
   "metadata": {},
   "outputs": [
    {
     "name": "stdout",
     "output_type": "stream",
     "text": [
      "                 moeda  cotacao\n",
      "data                           \n",
      "2014-01-06  dolar/real     5.26\n",
      "                 moeda  cotacao\n",
      "data                           \n",
      "2014-01-05  libra/real     4.15\n",
      "2014-01-06  dolar/real     5.26\n",
      "2014-01-06  libra/real     4.23\n",
      "                 moeda  cotacao\n",
      "data                           \n",
      "2014-01-05  libra/real     4.15\n"
     ]
    }
   ],
   "source": [
    "#selecionando mais de uma condicao\n",
    "#operadores & e |\n",
    "\n",
    "# moeda = dolar e cambio > 5.25\n",
    "cambio_dolar_e_maior_que_525 = df_cambio[(df_cambio['moeda'] == 'dolar/real') & (df_cambio['cotacao'] > 5.25)]\n",
    "\n",
    "print(cambio_dolar_e_maior_que_525)\n",
    "\n",
    "# moeda = libra ou cambio > 5.25\n",
    "cambio_libra_ou_maior_que_525 = df_cambio[(df_cambio['moeda'] == 'libra/real') | (df_cambio['cotacao'] > 5.25) ]\n",
    "print(cambio_libra_ou_maior_que_525)\n",
    "\n",
    "#filtrando pelo indice\n",
    "\n",
    "#libra no dia 5 de janeiro\n",
    "libra_5_jan = df_cambio[(df_cambio['moeda'] == 'libra/real') & (df_cambio.index == '2014-01-05')]\n",
    "print(libra_5_jan)"
   ]
  },
  {
   "cell_type": "markdown",
   "id": "81d8299e",
   "metadata": {},
   "source": [
    "### Desafio"
   ]
  },
  {
   "cell_type": "code",
   "execution_count": 19,
   "id": "c52ce2ed",
   "metadata": {},
   "outputs": [
    {
     "data": {
      "text/html": [
       "<div>\n",
       "<style scoped>\n",
       "    .dataframe tbody tr th:only-of-type {\n",
       "        vertical-align: middle;\n",
       "    }\n",
       "\n",
       "    .dataframe tbody tr th {\n",
       "        vertical-align: top;\n",
       "    }\n",
       "\n",
       "    .dataframe thead th {\n",
       "        text-align: right;\n",
       "    }\n",
       "</style>\n",
       "<table border=\"1\" class=\"dataframe\">\n",
       "  <thead>\n",
       "    <tr style=\"text-align: right;\">\n",
       "      <th></th>\n",
       "      <th>cotacoes</th>\n",
       "      <th>nomes</th>\n",
       "      <th>preco_sobre_lucro</th>\n",
       "      <th>volume</th>\n",
       "    </tr>\n",
       "    <tr>\n",
       "      <th>tickers</th>\n",
       "      <th></th>\n",
       "      <th></th>\n",
       "      <th></th>\n",
       "      <th></th>\n",
       "    </tr>\n",
       "  </thead>\n",
       "  <tbody>\n",
       "    <tr>\n",
       "      <th>WEGE3</th>\n",
       "      <td>20</td>\n",
       "      <td>Weg</td>\n",
       "      <td>25</td>\n",
       "      <td>5000</td>\n",
       "    </tr>\n",
       "    <tr>\n",
       "      <th>PETR3</th>\n",
       "      <td>30</td>\n",
       "      <td>Petro</td>\n",
       "      <td>6</td>\n",
       "      <td>1000</td>\n",
       "    </tr>\n",
       "    <tr>\n",
       "      <th>VALE3</th>\n",
       "      <td>40</td>\n",
       "      <td>Vale</td>\n",
       "      <td>12</td>\n",
       "      <td>4000</td>\n",
       "    </tr>\n",
       "    <tr>\n",
       "      <th>PETR4</th>\n",
       "      <td>12</td>\n",
       "      <td>Petro</td>\n",
       "      <td>7</td>\n",
       "      <td>7000</td>\n",
       "    </tr>\n",
       "    <tr>\n",
       "      <th>LREN3</th>\n",
       "      <td>35</td>\n",
       "      <td>Lojas Renner</td>\n",
       "      <td>25</td>\n",
       "      <td>1200</td>\n",
       "    </tr>\n",
       "  </tbody>\n",
       "</table>\n",
       "</div>"
      ],
      "text/plain": [
       "         cotacoes         nomes  preco_sobre_lucro  volume\n",
       "tickers                                                   \n",
       "WEGE3          20           Weg                 25    5000\n",
       "PETR3          30         Petro                  6    1000\n",
       "VALE3          40          Vale                 12    4000\n",
       "PETR4          12         Petro                  7    7000\n",
       "LREN3          35  Lojas Renner                 25    1200"
      ]
     },
     "execution_count": 19,
     "metadata": {},
     "output_type": "execute_result"
    }
   ],
   "source": [
    "#importando df\n",
    "#exercicio 36\n",
    "dict_desafio = {\n",
    "    \"tickers\" : [\"WEGE3\", \"PETR3\", \"VALE3\", \"PETR4\", \"LREN3\"],\n",
    "    \"cotacoes\": [20, 30, 40, 12, 35],\n",
    "    \"nomes\": ['Weg', 'Petro', 'Vale', 'Petro', 'Lojas Renner'],\n",
    "    \"preco_sobre_lucro\": [25, 6, 12, 7, 25],\n",
    "    \"volume\": [5000, 1000, 4000, 7000, 1200]\n",
    "    }\n",
    "\n",
    "dataframe_desafio = pd.DataFrame(dict_desafio, index= [1, 2, 3, 4, 5])\n",
    "dataframe_desafio = dataframe_desafio.set_index(\"tickers\")\n",
    "dataframe_desafio.columns = ['preco', 'nomes', 'preco_sobre_lucro', 'volume']\n",
    "dataframe_desafio"
   ]
  },
  {
   "cell_type": "code",
   "execution_count": 22,
   "id": "bd726cee",
   "metadata": {},
   "outputs": [
    {
     "data": {
      "text/html": [
       "<div>\n",
       "<style scoped>\n",
       "    .dataframe tbody tr th:only-of-type {\n",
       "        vertical-align: middle;\n",
       "    }\n",
       "\n",
       "    .dataframe tbody tr th {\n",
       "        vertical-align: top;\n",
       "    }\n",
       "\n",
       "    .dataframe thead th {\n",
       "        text-align: right;\n",
       "    }\n",
       "</style>\n",
       "<table border=\"1\" class=\"dataframe\">\n",
       "  <thead>\n",
       "    <tr style=\"text-align: right;\">\n",
       "      <th></th>\n",
       "      <th>preco</th>\n",
       "      <th>nomes</th>\n",
       "      <th>preco_sobre_lucro</th>\n",
       "      <th>volume</th>\n",
       "    </tr>\n",
       "    <tr>\n",
       "      <th>tickers</th>\n",
       "      <th></th>\n",
       "      <th></th>\n",
       "      <th></th>\n",
       "      <th></th>\n",
       "    </tr>\n",
       "  </thead>\n",
       "  <tbody>\n",
       "    <tr>\n",
       "      <th>WEGE3</th>\n",
       "      <td>20</td>\n",
       "      <td>Weg</td>\n",
       "      <td>25</td>\n",
       "      <td>5000</td>\n",
       "    </tr>\n",
       "    <tr>\n",
       "      <th>PETR3</th>\n",
       "      <td>30</td>\n",
       "      <td>Petro</td>\n",
       "      <td>6</td>\n",
       "      <td>1000</td>\n",
       "    </tr>\n",
       "    <tr>\n",
       "      <th>VALE3</th>\n",
       "      <td>40</td>\n",
       "      <td>Vale</td>\n",
       "      <td>12</td>\n",
       "      <td>4000</td>\n",
       "    </tr>\n",
       "    <tr>\n",
       "      <th>PETR4</th>\n",
       "      <td>12</td>\n",
       "      <td>Petro</td>\n",
       "      <td>7</td>\n",
       "      <td>7000</td>\n",
       "    </tr>\n",
       "    <tr>\n",
       "      <th>LREN3</th>\n",
       "      <td>35</td>\n",
       "      <td>Lojas Renner</td>\n",
       "      <td>25</td>\n",
       "      <td>1200</td>\n",
       "    </tr>\n",
       "  </tbody>\n",
       "</table>\n",
       "</div>"
      ],
      "text/plain": [
       "         preco         nomes  preco_sobre_lucro  volume\n",
       "tickers                                                \n",
       "WEGE3       20           Weg                 25    5000\n",
       "PETR3       30         Petro                  6    1000\n",
       "VALE3       40          Vale                 12    4000\n",
       "PETR4       12         Petro                  7    7000\n",
       "LREN3       35  Lojas Renner                 25    1200"
      ]
     },
     "execution_count": 22,
     "metadata": {},
     "output_type": "execute_result"
    }
   ],
   "source": [
    "#40\n",
    "dataframe_desafio.columns = ['preco', 'nomes', 'preco_sobre_lucro', 'volume']\n",
    "dataframe_desafio"
   ]
  },
  {
   "cell_type": "code",
   "execution_count": 23,
   "id": "76cdc66f",
   "metadata": {},
   "outputs": [
    {
     "name": "stdout",
     "output_type": "stream",
     "text": [
      "tickers\n",
      "WEGE3    20\n",
      "PETR3    30\n",
      "VALE3    40\n",
      "PETR4    12\n",
      "LREN3    35\n",
      "Name: preco, dtype: int64\n"
     ]
    }
   ],
   "source": [
    "#41\n",
    "df_desafio_preco = dataframe_desafio['preco']\n",
    "print(df_desafio_preco)"
   ]
  },
  {
   "cell_type": "code",
   "execution_count": 30,
   "id": "c9c6918e",
   "metadata": {},
   "outputs": [
    {
     "name": "stdout",
     "output_type": "stream",
     "text": [
      "         preco_sobre_lucro  volume\n",
      "tickers                           \n",
      "WEGE3                   25    5000\n",
      "PETR3                    6    1000\n",
      "VALE3                   12    4000\n",
      "PETR4                    7    7000\n",
      "LREN3                   25    1200\n"
     ]
    }
   ],
   "source": [
    "#42 ultimas duas colunas\n",
    "ultimas_2_colunas = dataframe_desafio[dataframe_desafio.columns[-2:]]\n",
    "print(ultimas_2_colunas)"
   ]
  },
  {
   "cell_type": "code",
   "execution_count": 32,
   "id": "e709f1eb",
   "metadata": {},
   "outputs": [
    {
     "data": {
      "text/html": [
       "<div>\n",
       "<style scoped>\n",
       "    .dataframe tbody tr th:only-of-type {\n",
       "        vertical-align: middle;\n",
       "    }\n",
       "\n",
       "    .dataframe tbody tr th {\n",
       "        vertical-align: top;\n",
       "    }\n",
       "\n",
       "    .dataframe thead th {\n",
       "        text-align: right;\n",
       "    }\n",
       "</style>\n",
       "<table border=\"1\" class=\"dataframe\">\n",
       "  <thead>\n",
       "    <tr style=\"text-align: right;\">\n",
       "      <th></th>\n",
       "      <th>preco</th>\n",
       "      <th>nomes</th>\n",
       "      <th>preco_sobre_lucro</th>\n",
       "      <th>volume</th>\n",
       "    </tr>\n",
       "    <tr>\n",
       "      <th>tickers</th>\n",
       "      <th></th>\n",
       "      <th></th>\n",
       "      <th></th>\n",
       "      <th></th>\n",
       "    </tr>\n",
       "  </thead>\n",
       "  <tbody>\n",
       "    <tr>\n",
       "      <th>PETR3</th>\n",
       "      <td>30</td>\n",
       "      <td>Petro</td>\n",
       "      <td>6</td>\n",
       "      <td>1000</td>\n",
       "    </tr>\n",
       "  </tbody>\n",
       "</table>\n",
       "</div>"
      ],
      "text/plain": [
       "         preco  nomes  preco_sobre_lucro  volume\n",
       "tickers                                         \n",
       "PETR3       30  Petro                  6    1000"
      ]
     },
     "execution_count": 32,
     "metadata": {},
     "output_type": "execute_result"
    }
   ],
   "source": [
    "#43 dados petrobras\n",
    "dataframe_desafio[dataframe_desafio.index == 'PETR3']"
   ]
  },
  {
   "cell_type": "code",
   "execution_count": 33,
   "id": "4e0f35b7",
   "metadata": {},
   "outputs": [
    {
     "data": {
      "text/html": [
       "<div>\n",
       "<style scoped>\n",
       "    .dataframe tbody tr th:only-of-type {\n",
       "        vertical-align: middle;\n",
       "    }\n",
       "\n",
       "    .dataframe tbody tr th {\n",
       "        vertical-align: top;\n",
       "    }\n",
       "\n",
       "    .dataframe thead th {\n",
       "        text-align: right;\n",
       "    }\n",
       "</style>\n",
       "<table border=\"1\" class=\"dataframe\">\n",
       "  <thead>\n",
       "    <tr style=\"text-align: right;\">\n",
       "      <th></th>\n",
       "      <th>preco</th>\n",
       "      <th>nomes</th>\n",
       "      <th>preco_sobre_lucro</th>\n",
       "      <th>volume</th>\n",
       "    </tr>\n",
       "    <tr>\n",
       "      <th>tickers</th>\n",
       "      <th></th>\n",
       "      <th></th>\n",
       "      <th></th>\n",
       "      <th></th>\n",
       "    </tr>\n",
       "  </thead>\n",
       "  <tbody>\n",
       "    <tr>\n",
       "      <th>PETR3</th>\n",
       "      <td>30</td>\n",
       "      <td>Petro</td>\n",
       "      <td>6</td>\n",
       "      <td>1000</td>\n",
       "    </tr>\n",
       "    <tr>\n",
       "      <th>VALE3</th>\n",
       "      <td>40</td>\n",
       "      <td>Vale</td>\n",
       "      <td>12</td>\n",
       "      <td>4000</td>\n",
       "    </tr>\n",
       "    <tr>\n",
       "      <th>PETR4</th>\n",
       "      <td>12</td>\n",
       "      <td>Petro</td>\n",
       "      <td>7</td>\n",
       "      <td>7000</td>\n",
       "    </tr>\n",
       "  </tbody>\n",
       "</table>\n",
       "</div>"
      ],
      "text/plain": [
       "         preco  nomes  preco_sobre_lucro  volume\n",
       "tickers                                         \n",
       "PETR3       30  Petro                  6    1000\n",
       "VALE3       40   Vale                 12    4000\n",
       "PETR4       12  Petro                  7    7000"
      ]
     },
     "execution_count": 33,
     "metadata": {},
     "output_type": "execute_result"
    }
   ],
   "source": [
    "#44 emp com PL menor que 20\n",
    "dataframe_desafio[dataframe_desafio['preco_sobre_lucro'] < 20]"
   ]
  },
  {
   "cell_type": "code",
   "execution_count": 34,
   "id": "f5490d28",
   "metadata": {},
   "outputs": [
    {
     "data": {
      "text/html": [
       "<div>\n",
       "<style scoped>\n",
       "    .dataframe tbody tr th:only-of-type {\n",
       "        vertical-align: middle;\n",
       "    }\n",
       "\n",
       "    .dataframe tbody tr th {\n",
       "        vertical-align: top;\n",
       "    }\n",
       "\n",
       "    .dataframe thead th {\n",
       "        text-align: right;\n",
       "    }\n",
       "</style>\n",
       "<table border=\"1\" class=\"dataframe\">\n",
       "  <thead>\n",
       "    <tr style=\"text-align: right;\">\n",
       "      <th></th>\n",
       "      <th>preco</th>\n",
       "      <th>nomes</th>\n",
       "      <th>preco_sobre_lucro</th>\n",
       "      <th>volume</th>\n",
       "    </tr>\n",
       "    <tr>\n",
       "      <th>tickers</th>\n",
       "      <th></th>\n",
       "      <th></th>\n",
       "      <th></th>\n",
       "      <th></th>\n",
       "    </tr>\n",
       "  </thead>\n",
       "  <tbody>\n",
       "    <tr>\n",
       "      <th>WEGE3</th>\n",
       "      <td>20</td>\n",
       "      <td>Weg</td>\n",
       "      <td>25</td>\n",
       "      <td>5000</td>\n",
       "    </tr>\n",
       "    <tr>\n",
       "      <th>VALE3</th>\n",
       "      <td>40</td>\n",
       "      <td>Vale</td>\n",
       "      <td>12</td>\n",
       "      <td>4000</td>\n",
       "    </tr>\n",
       "  </tbody>\n",
       "</table>\n",
       "</div>"
      ],
      "text/plain": [
       "         preco nomes  preco_sobre_lucro  volume\n",
       "tickers                                        \n",
       "WEGE3       20   Weg                 25    5000\n",
       "VALE3       40  Vale                 12    4000"
      ]
     },
     "execution_count": 34,
     "metadata": {},
     "output_type": "execute_result"
    }
   ],
   "source": [
    "#45 PL > 10 e volume > 2000\n",
    "dataframe_desafio[(dataframe_desafio['preco_sobre_lucro'] > 10) & (dataframe_desafio['volume'] > 2000)]"
   ]
  },
  {
   "cell_type": "code",
   "execution_count": 35,
   "id": "bd7b9ca1",
   "metadata": {},
   "outputs": [
    {
     "data": {
      "text/html": [
       "<div>\n",
       "<style scoped>\n",
       "    .dataframe tbody tr th:only-of-type {\n",
       "        vertical-align: middle;\n",
       "    }\n",
       "\n",
       "    .dataframe tbody tr th {\n",
       "        vertical-align: top;\n",
       "    }\n",
       "\n",
       "    .dataframe thead th {\n",
       "        text-align: right;\n",
       "    }\n",
       "</style>\n",
       "<table border=\"1\" class=\"dataframe\">\n",
       "  <thead>\n",
       "    <tr style=\"text-align: right;\">\n",
       "      <th></th>\n",
       "      <th>preco</th>\n",
       "      <th>nomes</th>\n",
       "      <th>preco_sobre_lucro</th>\n",
       "      <th>volume</th>\n",
       "    </tr>\n",
       "    <tr>\n",
       "      <th>tickers</th>\n",
       "      <th></th>\n",
       "      <th></th>\n",
       "      <th></th>\n",
       "      <th></th>\n",
       "    </tr>\n",
       "  </thead>\n",
       "  <tbody>\n",
       "    <tr>\n",
       "      <th>WEGE3</th>\n",
       "      <td>20</td>\n",
       "      <td>Weg</td>\n",
       "      <td>25</td>\n",
       "      <td>5000</td>\n",
       "    </tr>\n",
       "    <tr>\n",
       "      <th>PETR3</th>\n",
       "      <td>30</td>\n",
       "      <td>Petro</td>\n",
       "      <td>6</td>\n",
       "      <td>1000</td>\n",
       "    </tr>\n",
       "    <tr>\n",
       "      <th>VALE3</th>\n",
       "      <td>40</td>\n",
       "      <td>Vale</td>\n",
       "      <td>12</td>\n",
       "      <td>4000</td>\n",
       "    </tr>\n",
       "    <tr>\n",
       "      <th>PETR4</th>\n",
       "      <td>12</td>\n",
       "      <td>Petro</td>\n",
       "      <td>7</td>\n",
       "      <td>7000</td>\n",
       "    </tr>\n",
       "    <tr>\n",
       "      <th>LREN3</th>\n",
       "      <td>35</td>\n",
       "      <td>Lojas Renner</td>\n",
       "      <td>25</td>\n",
       "      <td>1200</td>\n",
       "    </tr>\n",
       "  </tbody>\n",
       "</table>\n",
       "</div>"
      ],
      "text/plain": [
       "         preco         nomes  preco_sobre_lucro  volume\n",
       "tickers                                                \n",
       "WEGE3       20           Weg                 25    5000\n",
       "PETR3       30         Petro                  6    1000\n",
       "VALE3       40          Vale                 12    4000\n",
       "PETR4       12         Petro                  7    7000\n",
       "LREN3       35  Lojas Renner                 25    1200"
      ]
     },
     "execution_count": 35,
     "metadata": {},
     "output_type": "execute_result"
    }
   ],
   "source": [
    "#46 preco >20 ou vol > 4000\n",
    "dataframe_desafio[(dataframe_desafio['preco'] > 20) | (dataframe_desafio['volume'] > 4000)]"
   ]
  }
 ],
 "metadata": {
  "kernelspec": {
   "display_name": "Python 3 (ipykernel)",
   "language": "python",
   "name": "python3"
  },
  "language_info": {
   "codemirror_mode": {
    "name": "ipython",
    "version": 3
   },
   "file_extension": ".py",
   "mimetype": "text/x-python",
   "name": "python",
   "nbconvert_exporter": "python",
   "pygments_lexer": "ipython3",
   "version": "3.11.5"
  }
 },
 "nbformat": 4,
 "nbformat_minor": 5
}
