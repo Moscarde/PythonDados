{
 "cells": [
  {
   "cell_type": "markdown",
   "id": "a092bad5",
   "metadata": {},
   "source": [
    "# Pandas"
   ]
  },
  {
   "cell_type": "code",
   "execution_count": 47,
   "id": "0c7602a4",
   "metadata": {},
   "outputs": [],
   "source": [
    "import pandas as pd\n"
   ]
  },
  {
   "cell_type": "code",
   "execution_count": 48,
   "id": "259686dd",
   "metadata": {},
   "outputs": [
    {
     "data": {
      "text/html": [
       "<div>\n",
       "<style scoped>\n",
       "    .dataframe tbody tr th:only-of-type {\n",
       "        vertical-align: middle;\n",
       "    }\n",
       "\n",
       "    .dataframe tbody tr th {\n",
       "        vertical-align: top;\n",
       "    }\n",
       "\n",
       "    .dataframe thead th {\n",
       "        text-align: right;\n",
       "    }\n",
       "</style>\n",
       "<table border=\"1\" class=\"dataframe\">\n",
       "  <thead>\n",
       "    <tr style=\"text-align: right;\">\n",
       "      <th></th>\n",
       "      <th>moeda</th>\n",
       "      <th>price</th>\n",
       "      <th>derivativo</th>\n",
       "    </tr>\n",
       "  </thead>\n",
       "  <tbody>\n",
       "    <tr>\n",
       "      <th>2014-01-05</th>\n",
       "      <td>dolar/real</td>\n",
       "      <td>5.24</td>\n",
       "      <td>DOLFT3</td>\n",
       "    </tr>\n",
       "    <tr>\n",
       "      <th>2014-01-05</th>\n",
       "      <td>libra/real</td>\n",
       "      <td>4.14</td>\n",
       "      <td>LIBFT3</td>\n",
       "    </tr>\n",
       "    <tr>\n",
       "      <th>2014-01-06</th>\n",
       "      <td>dolar/real</td>\n",
       "      <td>4.32</td>\n",
       "      <td>DOLFT3</td>\n",
       "    </tr>\n",
       "    <tr>\n",
       "      <th>2014-01-06</th>\n",
       "      <td>libra/real</td>\n",
       "      <td>4.56</td>\n",
       "      <td>LIBFT3</td>\n",
       "    </tr>\n",
       "    <tr>\n",
       "      <th>2014-01-07</th>\n",
       "      <td>dolar/real</td>\n",
       "      <td>5.13</td>\n",
       "      <td>DOLFT3</td>\n",
       "    </tr>\n",
       "    <tr>\n",
       "      <th>2014-01-07</th>\n",
       "      <td>libra/real</td>\n",
       "      <td>4.50</td>\n",
       "      <td>LIBFT3</td>\n",
       "    </tr>\n",
       "    <tr>\n",
       "      <th>2014-01-08</th>\n",
       "      <td>dolar/real</td>\n",
       "      <td>5.01</td>\n",
       "      <td>DOLFT3</td>\n",
       "    </tr>\n",
       "    <tr>\n",
       "      <th>2014-01-08</th>\n",
       "      <td>libra/real</td>\n",
       "      <td>4.93</td>\n",
       "      <td>LIBFT3</td>\n",
       "    </tr>\n",
       "  </tbody>\n",
       "</table>\n",
       "</div>"
      ],
      "text/plain": [
       "                 moeda  price derivativo\n",
       "2014-01-05  dolar/real   5.24     DOLFT3\n",
       "2014-01-05  libra/real   4.14     LIBFT3\n",
       "2014-01-06  dolar/real   4.32     DOLFT3\n",
       "2014-01-06  libra/real   4.56     LIBFT3\n",
       "2014-01-07  dolar/real   5.13     DOLFT3\n",
       "2014-01-07  libra/real   4.50     LIBFT3\n",
       "2014-01-08  dolar/real   5.01     DOLFT3\n",
       "2014-01-08  libra/real   4.93     LIBFT3"
      ]
     },
     "execution_count": 48,
     "metadata": {},
     "output_type": "execute_result"
    }
   ],
   "source": [
    "df_cambio = pd.DataFrame({\n",
    "    'moeda': ['dolar/real', 'libra/real'] * 4,\n",
    "    'price': [5.24, 4.14, 4.32, 4.56, 5.13, 4.50, 5.01, 4.93],\n",
    "    'derivativo': list(['DOLFT3', 'LIBFT3']) * 4},\n",
    "    index = sorted(list(pd.date_range(\"1/5/2014\", periods = 4)) * 2)\n",
    ")\n",
    "df_cambio"
   ]
  },
  {
   "cell_type": "markdown",
   "id": "40959377",
   "metadata": {},
   "source": [
    "- loc\n",
    "- iloc"
   ]
  },
  {
   "cell_type": "code",
   "execution_count": 49,
   "id": "e77928b1",
   "metadata": {},
   "outputs": [
    {
     "name": "stdout",
     "output_type": "stream",
     "text": [
      "                 moeda  price derivativo\n",
      "2014-01-05  dolar/real   5.24     DOLFT3\n",
      "2014-01-05  libra/real   4.14     LIBFT3\n",
      "                 moeda  price derivativo\n",
      "2014-01-05  dolar/real   5.24     DOLFT3\n",
      "2014-01-05  libra/real   4.14     LIBFT3\n",
      "2014-01-06  dolar/real   4.32     DOLFT3\n",
      "2014-01-06  libra/real   4.56     LIBFT3\n",
      "2014-01-07  dolar/real   5.13     DOLFT3\n",
      "2014-01-07  libra/real   4.50     LIBFT3\n"
     ]
    }
   ],
   "source": [
    "#loc serve para localizar através de nomes\n",
    "\n",
    "#um unico dia \n",
    "print(df_cambio.loc['2014-01-05'])\n",
    "\n",
    "#algum periodo de dias\n",
    "print(df_cambio.loc['2014-01-05': '2014-01-07'])\n"
   ]
  },
  {
   "cell_type": "code",
   "execution_count": 50,
   "id": "a0b0ed1d",
   "metadata": {},
   "outputs": [
    {
     "name": "stdout",
     "output_type": "stream",
     "text": [
      "2014-01-05    5.24\n",
      "2014-01-05    4.14\n",
      "Name: price, dtype: float64\n",
      "\n",
      "                 moeda derivativo\n",
      "2014-01-05  dolar/real     DOLFT3\n",
      "2014-01-05  libra/real     LIBFT3\n",
      "\n",
      "                 moeda derivativo\n",
      "2014-01-05  dolar/real     DOLFT3\n",
      "2014-01-05  libra/real     LIBFT3\n",
      "2014-01-06  dolar/real     DOLFT3\n",
      "2014-01-06  libra/real     LIBFT3\n",
      "2014-01-07  dolar/real     DOLFT3\n",
      "2014-01-07  libra/real     LIBFT3\n",
      "2014-01-08  dolar/real     DOLFT3\n",
      "2014-01-08  libra/real     LIBFT3\n",
      "\n"
     ]
    }
   ],
   "source": [
    "#filtrando a linha e a coluna \n",
    "print(df_cambio.loc['2014-01-05', 'price'])\n",
    "print('')\n",
    "\n",
    "#filtrando a linha e as colunas \n",
    "print(df_cambio.loc['2014-01-05', ['moeda', 'derivativo']])\n",
    "print('')\n",
    "\n",
    "# ':' filtra para todos os dados\n",
    "print(df_cambio.loc[:, ['moeda', 'derivativo']])\n",
    "print('')\n",
    "\n"
   ]
  },
  {
   "cell_type": "markdown",
   "id": "d094a59a",
   "metadata": {},
   "source": [
    "### loc x at\n",
    "    - at é igual ao loc, só que serve para localizar um único item.\n",
    "    - é mais otimizado, usado para loops\n",
    "    - at é mais usado para alterar valores unicos\n",
    "    - loc para alterar multiplos valores"
   ]
  },
  {
   "cell_type": "code",
   "execution_count": 51,
   "id": "b66e487c",
   "metadata": {},
   "outputs": [
    {
     "data": {
      "text/plain": [
       "2014-01-05    5.24\n",
       "2014-01-05    4.14\n",
       "Name: price, dtype: float64"
      ]
     },
     "execution_count": 51,
     "metadata": {},
     "output_type": "execute_result"
    }
   ],
   "source": [
    "\n",
    "\n",
    "df_cambio.at['2014-01-05', 'price']"
   ]
  },
  {
   "cell_type": "code",
   "execution_count": 52,
   "id": "4ed878e4",
   "metadata": {},
   "outputs": [
    {
     "data": {
      "text/html": [
       "<div>\n",
       "<style scoped>\n",
       "    .dataframe tbody tr th:only-of-type {\n",
       "        vertical-align: middle;\n",
       "    }\n",
       "\n",
       "    .dataframe tbody tr th {\n",
       "        vertical-align: top;\n",
       "    }\n",
       "\n",
       "    .dataframe thead th {\n",
       "        text-align: right;\n",
       "    }\n",
       "</style>\n",
       "<table border=\"1\" class=\"dataframe\">\n",
       "  <thead>\n",
       "    <tr style=\"text-align: right;\">\n",
       "      <th></th>\n",
       "      <th>moeda</th>\n",
       "      <th>price</th>\n",
       "      <th>derivativo</th>\n",
       "    </tr>\n",
       "  </thead>\n",
       "  <tbody>\n",
       "    <tr>\n",
       "      <th>2014-01-05</th>\n",
       "      <td>dolar/real</td>\n",
       "      <td>5.24</td>\n",
       "      <td>DOLFT3</td>\n",
       "    </tr>\n",
       "    <tr>\n",
       "      <th>2014-01-05</th>\n",
       "      <td>libra/real</td>\n",
       "      <td>4.14</td>\n",
       "      <td>LIBFT3</td>\n",
       "    </tr>\n",
       "    <tr>\n",
       "      <th>2014-01-06</th>\n",
       "      <td>dolar/real</td>\n",
       "      <td>4.32</td>\n",
       "      <td>DOLFT3</td>\n",
       "    </tr>\n",
       "    <tr>\n",
       "      <th>2014-01-06</th>\n",
       "      <td>libra/real</td>\n",
       "      <td>4.56</td>\n",
       "      <td>LIBFT3</td>\n",
       "    </tr>\n",
       "    <tr>\n",
       "      <th>2014-01-07</th>\n",
       "      <td>dolar/real</td>\n",
       "      <td>5.13</td>\n",
       "      <td>DOLFT3</td>\n",
       "    </tr>\n",
       "    <tr>\n",
       "      <th>2014-01-07</th>\n",
       "      <td>libra/real</td>\n",
       "      <td>4.50</td>\n",
       "      <td>LIBFT3</td>\n",
       "    </tr>\n",
       "    <tr>\n",
       "      <th>2014-01-08</th>\n",
       "      <td>dolar/real</td>\n",
       "      <td>5.01</td>\n",
       "      <td>DOLFT3</td>\n",
       "    </tr>\n",
       "    <tr>\n",
       "      <th>2014-01-08</th>\n",
       "      <td>libra/real</td>\n",
       "      <td>4.93</td>\n",
       "      <td>LIBFT3</td>\n",
       "    </tr>\n",
       "  </tbody>\n",
       "</table>\n",
       "</div>"
      ],
      "text/plain": [
       "                 moeda  price derivativo\n",
       "2014-01-05  dolar/real   5.24     DOLFT3\n",
       "2014-01-05  libra/real   4.14     LIBFT3\n",
       "2014-01-06  dolar/real   4.32     DOLFT3\n",
       "2014-01-06  libra/real   4.56     LIBFT3\n",
       "2014-01-07  dolar/real   5.13     DOLFT3\n",
       "2014-01-07  libra/real   4.50     LIBFT3\n",
       "2014-01-08  dolar/real   5.01     DOLFT3\n",
       "2014-01-08  libra/real   4.93     LIBFT3"
      ]
     },
     "execution_count": 52,
     "metadata": {},
     "output_type": "execute_result"
    }
   ],
   "source": [
    "df_cambio"
   ]
  },
  {
   "cell_type": "markdown",
   "id": "ad6fe417",
   "metadata": {
    "tags": [
     "parameters",
     "lol"
    ]
   },
   "source": [
    "### iloc\n",
    "    - serve para selecionar itens através de incies numericos\n",
    "    - parecido com o funcionamento das listas\n"
   ]
  },
  {
   "cell_type": "code",
   "execution_count": 53,
   "id": "212bd3a5",
   "metadata": {},
   "outputs": [
    {
     "name": "stdout",
     "output_type": "stream",
     "text": [
      "#primeira linha / todas colunas\n",
      "moeda         dolar/real\n",
      "price               5.24\n",
      "derivativo        DOLFT3\n",
      "Name: 2014-01-05 00:00:00, dtype: object\n",
      "\n",
      "#tres primeiras linhas / todas colunas\n",
      "                 moeda  price derivativo\n",
      "2014-01-05  dolar/real   5.24     DOLFT3\n",
      "2014-01-05  libra/real   4.14     LIBFT3\n",
      "2014-01-06  dolar/real   4.32     DOLFT3\n",
      "\n",
      "#todas as linhas primeira coluna\n",
      "2014-01-05    dolar/real\n",
      "2014-01-05    libra/real\n",
      "2014-01-06    dolar/real\n",
      "2014-01-06    libra/real\n",
      "2014-01-07    dolar/real\n",
      "2014-01-07    libra/real\n",
      "2014-01-08    dolar/real\n",
      "2014-01-08    libra/real\n",
      "Name: moeda, dtype: object\n",
      "\n",
      "#primeiro preco do cambio\n",
      "5.24\n",
      "\n"
     ]
    }
   ],
   "source": [
    "#.iloc[line, col]\n",
    "\n",
    "print('#primeira linha / todas colunas')\n",
    "print(df_cambio.iloc[0, :])\n",
    "print('')\n",
    "\n",
    "print('#tres primeiras linhas / todas colunas')\n",
    "print(df_cambio.iloc[:3, :])\n",
    "print('')\n",
    "\n",
    "print('#todas as linhas primeira coluna')\n",
    "print(df_cambio.iloc[:, 0])\n",
    "print('')\n",
    "\n",
    "\n",
    "print('#primeiro preco do cambio')\n",
    "print(df_cambio.iloc[0, 1])\n",
    "print('')\n",
    "#iloc com duas posicoes definidas (sem ser range) retornam valores unicos\n",
    "\n",
    "\n",
    "\n"
   ]
  },
  {
   "cell_type": "markdown",
   "id": "6e567c1d",
   "metadata": {},
   "source": [
    "### iloc x iat\n",
    "    - iloc pode filtrar por range\n",
    "    - iat só aceita valores inteiros\n",
    "    - É mais otimizado para loops"
   ]
  },
  {
   "cell_type": "code",
   "execution_count": 54,
   "id": "760630ea",
   "metadata": {},
   "outputs": [
    {
     "name": "stdout",
     "output_type": "stream",
     "text": [
      "df_cambio.iloc[0, 1]\n",
      "5.24\n",
      "\n",
      "df_cambio.iat[0, 1]\n",
      "5.24\n",
      "\n"
     ]
    }
   ],
   "source": [
    "print('df_cambio.iloc[0, 1]')\n",
    "print(df_cambio.iloc[0, 1])\n",
    "print('')\n",
    "\n",
    "print('df_cambio.iat[0, 1]')\n",
    "print(df_cambio.iat[0, 1])\n",
    "print('')"
   ]
  },
  {
   "cell_type": "markdown",
   "id": "c9edb1d5",
   "metadata": {},
   "source": [
    "    - Substituir dados com 'loc'"
   ]
  },
  {
   "cell_type": "code",
   "execution_count": 55,
   "id": "669338c2",
   "metadata": {},
   "outputs": [
    {
     "name": "stdout",
     "output_type": "stream",
     "text": [
      "                 moeda  price derivativo\n",
      "2014-01-05  dolar/real   5.24     DOLFT3\n",
      "2014-01-05  libra/real   4.14     LIBFT3\n",
      "2014-01-06  dolar/real   4.32     DOLFT3\n",
      "2014-01-06  libra/real   4.56     LIBFT3\n",
      "2014-01-07  dolar/real   5.13     DOLFT3\n",
      "2014-01-07  libra/real   4.50     LIBFT3\n",
      "2014-01-08  dolar/real   5.01     DOLFT3\n",
      "2014-01-08  libra/real   4.93     LIBFT3\n",
      "                 moeda  price derivativo\n",
      "2014-01-05  dolar/real   5.24     DOLFT4\n",
      "2014-01-05  libra/real   4.14     LIBFT3\n",
      "2014-01-06  dolar/real   4.32     DOLFT4\n",
      "2014-01-06  libra/real   4.56     LIBFT3\n",
      "2014-01-07  dolar/real   5.13     DOLFT4\n",
      "2014-01-07  libra/real   4.50     LIBFT3\n",
      "2014-01-08  dolar/real   5.01     DOLFT4\n",
      "2014-01-08  libra/real   4.93     LIBFT3\n",
      "ZONA\n",
      "ZONA\n",
      "                 moeda price derivativo\n",
      "2014-01-05        ZONA  ZONA       ZONA\n",
      "2014-01-05  libra/real  4.14     LIBFT3\n",
      "2014-01-06        ZONA  ZONA       ZONA\n",
      "2014-01-06  libra/real  4.56     LIBFT3\n",
      "2014-01-07        ZONA  ZONA       ZONA\n",
      "2014-01-07  libra/real   4.5     LIBFT3\n",
      "2014-01-08        ZONA  ZONA       ZONA\n",
      "2014-01-08  libra/real  4.93     LIBFT3\n"
     ]
    },
    {
     "name": "stderr",
     "output_type": "stream",
     "text": [
      "C:\\Users\\Gabriel\\AppData\\Local\\Temp\\ipykernel_14992\\1264014915.py:11: FutureWarning: Setting an item of incompatible dtype is deprecated and will raise in a future error of pandas. Value 'ZONA' has dtype incompatible with float64, please explicitly cast to a compatible dtype first.\n",
      "  df_cambio_teste.loc[df_cambio_teste['derivativo'] == \"DOLFT4\"] = \"ZONA\"\n"
     ]
    }
   ],
   "source": [
    "df_cambio_teste = df_cambio\n",
    "\n",
    "#se um ativo mudar o código de negociação?\n",
    "print(df_cambio_teste)\n",
    "\n",
    "df_cambio_teste.loc[df_cambio_teste['derivativo'] == \"DOLFT3\", 'derivativo'] = \"DOLFT4\"\n",
    "print(df_cambio_teste)\n",
    "\n",
    "#se nao passar uma \"celula\" exata, acontece de substituir todos os valores das outras colunas \n",
    "#que satisfaçam o condicional passado\n",
    "df_cambio_teste.loc[df_cambio_teste['derivativo'] == \"DOLFT4\"] = \"ZONA\"\n",
    "print(\"ZONA\")\n",
    "print(\"ZONA\")\n",
    "print(df_cambio_teste)\n"
   ]
  },
  {
   "cell_type": "markdown",
   "id": "3a6d645e",
   "metadata": {},
   "source": [
    "### Desafios"
   ]
  },
  {
   "cell_type": "code",
   "execution_count": 57,
   "id": "7798e080",
   "metadata": {},
   "outputs": [
    {
     "data": {
      "text/html": [
       "<div>\n",
       "<style scoped>\n",
       "    .dataframe tbody tr th:only-of-type {\n",
       "        vertical-align: middle;\n",
       "    }\n",
       "\n",
       "    .dataframe tbody tr th {\n",
       "        vertical-align: top;\n",
       "    }\n",
       "\n",
       "    .dataframe thead th {\n",
       "        text-align: right;\n",
       "    }\n",
       "</style>\n",
       "<table border=\"1\" class=\"dataframe\">\n",
       "  <thead>\n",
       "    <tr style=\"text-align: right;\">\n",
       "      <th></th>\n",
       "      <th>preco</th>\n",
       "      <th>nomes</th>\n",
       "      <th>preco_sobre_lucro</th>\n",
       "      <th>volume</th>\n",
       "    </tr>\n",
       "    <tr>\n",
       "      <th>tickers</th>\n",
       "      <th></th>\n",
       "      <th></th>\n",
       "      <th></th>\n",
       "      <th></th>\n",
       "    </tr>\n",
       "  </thead>\n",
       "  <tbody>\n",
       "    <tr>\n",
       "      <th>WEGE3</th>\n",
       "      <td>20</td>\n",
       "      <td>Weg</td>\n",
       "      <td>25</td>\n",
       "      <td>5000</td>\n",
       "    </tr>\n",
       "    <tr>\n",
       "      <th>PETR3</th>\n",
       "      <td>30</td>\n",
       "      <td>Petro</td>\n",
       "      <td>6</td>\n",
       "      <td>1000</td>\n",
       "    </tr>\n",
       "    <tr>\n",
       "      <th>VALE3</th>\n",
       "      <td>40</td>\n",
       "      <td>Vale</td>\n",
       "      <td>12</td>\n",
       "      <td>4000</td>\n",
       "    </tr>\n",
       "    <tr>\n",
       "      <th>PETR4</th>\n",
       "      <td>12</td>\n",
       "      <td>Petro</td>\n",
       "      <td>7</td>\n",
       "      <td>7000</td>\n",
       "    </tr>\n",
       "    <tr>\n",
       "      <th>LREN3</th>\n",
       "      <td>35</td>\n",
       "      <td>Lojas Renner</td>\n",
       "      <td>25</td>\n",
       "      <td>1200</td>\n",
       "    </tr>\n",
       "  </tbody>\n",
       "</table>\n",
       "</div>"
      ],
      "text/plain": [
       "         preco         nomes  preco_sobre_lucro  volume\n",
       "tickers                                                \n",
       "WEGE3       20           Weg                 25    5000\n",
       "PETR3       30         Petro                  6    1000\n",
       "VALE3       40          Vale                 12    4000\n",
       "PETR4       12         Petro                  7    7000\n",
       "LREN3       35  Lojas Renner                 25    1200"
      ]
     },
     "execution_count": 57,
     "metadata": {},
     "output_type": "execute_result"
    }
   ],
   "source": [
    "#base #36\n",
    "#exercicio 36\n",
    "dict_desafio = {\n",
    "    \"tickers\" : [\"WEGE3\", \"PETR3\", \"VALE3\", \"PETR4\", \"LREN3\"],\n",
    "    \"cotacoes\": [20, 30, 40, 12, 35],\n",
    "    \"nomes\": ['Weg', 'Petro', 'Vale', 'Petro', 'Lojas Renner'],\n",
    "    \"preco_sobre_lucro\": [25, 6, 12, 7, 25],\n",
    "    \"volume\": [5000, 1000, 4000, 7000, 1200]\n",
    "    }\n",
    "\n",
    "dataframe_desafio = pd.DataFrame(dict_desafio, index= [1, 2, 3, 4, 5])\n",
    "dataframe_desafio = dataframe_desafio.set_index(\"tickers\")\n",
    "dataframe_desafio.columns = ['preco', 'nomes', 'preco_sobre_lucro', 'volume']\n",
    "dataframe_desafio"
   ]
  },
  {
   "cell_type": "code",
   "execution_count": 63,
   "id": "da1ef93b",
   "metadata": {},
   "outputs": [
    {
     "name": "stdout",
     "output_type": "stream",
     "text": [
      "preco                  20\n",
      "nomes                 Weg\n",
      "preco_sobre_lucro      25\n",
      "volume               5000\n",
      "Name: WEGE3, dtype: object\n",
      "\n",
      "tickers\n",
      "WEGE3    20\n",
      "PETR3    30\n",
      "VALE3    40\n",
      "PETR4    12\n",
      "LREN3    35\n",
      "Name: preco, dtype: int64\n"
     ]
    }
   ],
   "source": [
    "#47 \n",
    "print(dataframe_desafio.loc['WEGE3'])\n",
    "print('')\n",
    "print(dataframe_desafio.loc[:, 'preco'])\n"
   ]
  },
  {
   "cell_type": "code",
   "execution_count": 75,
   "id": "7e7deedc",
   "metadata": {},
   "outputs": [
    {
     "name": "stdout",
     "output_type": "stream",
     "text": [
      "20\n",
      "\n",
      "20\n"
     ]
    }
   ],
   "source": [
    "#48 wege e preco com at e iat\n",
    "print(dataframe_desafio.at['WEGE3', 'preco'])\n",
    "print('')\n",
    "print(dataframe_desafio.iat[0, 0])\n"
   ]
  },
  {
   "cell_type": "code",
   "execution_count": 76,
   "id": "8b4ed76a",
   "metadata": {},
   "outputs": [
    {
     "data": {
      "text/html": [
       "<div>\n",
       "<style scoped>\n",
       "    .dataframe tbody tr th:only-of-type {\n",
       "        vertical-align: middle;\n",
       "    }\n",
       "\n",
       "    .dataframe tbody tr th {\n",
       "        vertical-align: top;\n",
       "    }\n",
       "\n",
       "    .dataframe thead th {\n",
       "        text-align: right;\n",
       "    }\n",
       "</style>\n",
       "<table border=\"1\" class=\"dataframe\">\n",
       "  <thead>\n",
       "    <tr style=\"text-align: right;\">\n",
       "      <th></th>\n",
       "      <th>preco</th>\n",
       "      <th>nomes</th>\n",
       "      <th>preco_sobre_lucro</th>\n",
       "      <th>volume</th>\n",
       "    </tr>\n",
       "    <tr>\n",
       "      <th>tickers</th>\n",
       "      <th></th>\n",
       "      <th></th>\n",
       "      <th></th>\n",
       "      <th></th>\n",
       "    </tr>\n",
       "  </thead>\n",
       "  <tbody>\n",
       "    <tr>\n",
       "      <th>WEGE3</th>\n",
       "      <td>20</td>\n",
       "      <td>Weg</td>\n",
       "      <td>25</td>\n",
       "      <td>5000</td>\n",
       "    </tr>\n",
       "    <tr>\n",
       "      <th>PETR3</th>\n",
       "      <td>30</td>\n",
       "      <td>Petro</td>\n",
       "      <td>6</td>\n",
       "      <td>1000</td>\n",
       "    </tr>\n",
       "  </tbody>\n",
       "</table>\n",
       "</div>"
      ],
      "text/plain": [
       "         preco  nomes  preco_sobre_lucro  volume\n",
       "tickers                                         \n",
       "WEGE3       20    Weg                 25    5000\n",
       "PETR3       30  Petro                  6    1000"
      ]
     },
     "execution_count": 76,
     "metadata": {},
     "output_type": "execute_result"
    }
   ],
   "source": [
    "#49 duas primeiras linhas de todas as colunas iloc\n",
    "dataframe_desafio.iloc[:2, :]"
   ]
  }
 ],
 "metadata": {
  "kernelspec": {
   "display_name": "Python 3 (ipykernel)",
   "language": "python",
   "name": "python3"
  },
  "language_info": {
   "codemirror_mode": {
    "name": "ipython",
    "version": 3
   },
   "file_extension": ".py",
   "mimetype": "text/x-python",
   "name": "python",
   "nbconvert_exporter": "python",
   "pygments_lexer": "ipython3",
   "version": "3.11.5"
  }
 },
 "nbformat": 4,
 "nbformat_minor": 5
}
