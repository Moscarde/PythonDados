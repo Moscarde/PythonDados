{
 "cells": [
  {
   "cell_type": "markdown",
   "id": "a092bad5",
   "metadata": {},
   "source": [
    "# Pandas"
   ]
  },
  {
   "cell_type": "code",
   "execution_count": 2,
   "id": "0c7602a4",
   "metadata": {},
   "outputs": [],
   "source": [
    "import pandas as pd\n",
    "import numpy as np"
   ]
  },
  {
   "cell_type": "code",
   "execution_count": 3,
   "id": "f805ce66",
   "metadata": {},
   "outputs": [],
   "source": [
    "def gerador_serie_historica(valor_inicial, volatilidade, periodos, dia_inicial, frequencia = 'M'):\n",
    "    vetor = [valor_inicial]\n",
    "\n",
    "    for i in range(periodos-1):\n",
    "        preco = vetor[i] * (1 + np.random.normal(0, volatilidade))\n",
    "\n",
    "        vetor.append(preco)\n",
    "\n",
    "    serie = pd.Series(vetor, index = pd.date_range(dia_inicial, periods= periodos, freq= frequencia))\n",
    "\n",
    "    return serie"
   ]
  },
  {
   "cell_type": "code",
   "execution_count": 11,
   "id": "66f8d2df",
   "metadata": {},
   "outputs": [
    {
     "name": "stdout",
     "output_type": "stream",
     "text": [
      "2023-08-31    20.000000\n",
      "2023-09-30    19.304368\n",
      "2023-10-31    18.733540\n",
      "2023-11-30    19.456995\n",
      "2023-12-31    20.379877\n",
      "Freq: M, dtype: float64\n"
     ]
    },
    {
     "data": {
      "text/plain": [
       "2023-10-31    5.000000\n",
       "2023-11-30    5.021592\n",
       "2023-12-31    4.939192\n",
       "2024-01-31    4.949980\n",
       "2024-02-29    4.884339\n",
       "Freq: M, dtype: float64"
      ]
     },
     "execution_count": 11,
     "metadata": {},
     "output_type": "execute_result"
    }
   ],
   "source": [
    "serie_euro = gerador_serie_historica(5, 0.01, 5, '2023-10-10')\n",
    "serie_cotacoes = gerador_serie_historica(20, 0.05, 5, '2023-8-10')\n",
    "\n",
    "print(serie_cotacoes)\n",
    "serie_euro\n"
   ]
  },
  {
   "cell_type": "markdown",
   "id": "e8694218",
   "metadata": {},
   "source": [
    "    - Operações entre series\n",
    "        - as operações são feitas com base nos índices"
   ]
  },
  {
   "cell_type": "code",
   "execution_count": 12,
   "id": "d1c891ce",
   "metadata": {},
   "outputs": [
    {
     "data": {
      "text/plain": [
       "2023-08-31           NaN\n",
       "2023-09-30           NaN\n",
       "2023-10-31     93.667698\n",
       "2023-11-30     97.705079\n",
       "2023-12-31    100.660133\n",
       "2024-01-31           NaN\n",
       "2024-02-29           NaN\n",
       "Freq: M, dtype: float64"
      ]
     },
     "execution_count": 12,
     "metadata": {},
     "output_type": "execute_result"
    }
   ],
   "source": [
    "serie_cotacoes_em_euro = serie_cotacoes * serie_euro\n",
    "serie_cotacoes_em_euro\n",
    "#Nan Ocorre pois nao tem os mesmos dados nas duas tabelas"
   ]
  },
  {
   "cell_type": "code",
   "execution_count": 14,
   "id": "93268b15",
   "metadata": {},
   "outputs": [
    {
     "data": {
      "text/html": [
       "<div>\n",
       "<style scoped>\n",
       "    .dataframe tbody tr th:only-of-type {\n",
       "        vertical-align: middle;\n",
       "    }\n",
       "\n",
       "    .dataframe tbody tr th {\n",
       "        vertical-align: top;\n",
       "    }\n",
       "\n",
       "    .dataframe thead th {\n",
       "        text-align: right;\n",
       "    }\n",
       "</style>\n",
       "<table border=\"1\" class=\"dataframe\">\n",
       "  <thead>\n",
       "    <tr style=\"text-align: right;\">\n",
       "      <th></th>\n",
       "      <th>cotacao</th>\n",
       "      <th>lucro_por_acao</th>\n",
       "    </tr>\n",
       "  </thead>\n",
       "  <tbody>\n",
       "    <tr>\n",
       "      <th>2023-01-31</th>\n",
       "      <td>20.000000</td>\n",
       "      <td>2.000000</td>\n",
       "    </tr>\n",
       "    <tr>\n",
       "      <th>2023-02-28</th>\n",
       "      <td>28.488315</td>\n",
       "      <td>2.959751</td>\n",
       "    </tr>\n",
       "    <tr>\n",
       "      <th>2023-03-31</th>\n",
       "      <td>59.082677</td>\n",
       "      <td>2.581095</td>\n",
       "    </tr>\n",
       "    <tr>\n",
       "      <th>2023-04-30</th>\n",
       "      <td>61.044346</td>\n",
       "      <td>1.717894</td>\n",
       "    </tr>\n",
       "    <tr>\n",
       "      <th>2023-05-31</th>\n",
       "      <td>79.261029</td>\n",
       "      <td>2.307181</td>\n",
       "    </tr>\n",
       "  </tbody>\n",
       "</table>\n",
       "</div>"
      ],
      "text/plain": [
       "              cotacao  lucro_por_acao\n",
       "2023-01-31  20.000000        2.000000\n",
       "2023-02-28  28.488315        2.959751\n",
       "2023-03-31  59.082677        2.581095\n",
       "2023-04-30  61.044346        1.717894\n",
       "2023-05-31  79.261029        2.307181"
      ]
     },
     "execution_count": 14,
     "metadata": {},
     "output_type": "execute_result"
    }
   ],
   "source": [
    "serie_lucro = gerador_serie_historica(2, 0.5, 5, '2023-01-01')\n",
    "serie_cotacoes = gerador_serie_historica(20, 0.5, 5, '2023-01-01')\n",
    "\n",
    "df = pd.DataFrame({\n",
    "    'cotacao': serie_cotacoes,\n",
    "    'lucro_por_acao': serie_lucro\n",
    "})\n",
    "df"
   ]
  },
  {
   "cell_type": "markdown",
   "id": "6ef9520e",
   "metadata": {},
   "source": [
    "    - criando coluna P/L"
   ]
  },
  {
   "cell_type": "code",
   "execution_count": 15,
   "id": "20d65084",
   "metadata": {},
   "outputs": [
    {
     "data": {
      "text/html": [
       "<div>\n",
       "<style scoped>\n",
       "    .dataframe tbody tr th:only-of-type {\n",
       "        vertical-align: middle;\n",
       "    }\n",
       "\n",
       "    .dataframe tbody tr th {\n",
       "        vertical-align: top;\n",
       "    }\n",
       "\n",
       "    .dataframe thead th {\n",
       "        text-align: right;\n",
       "    }\n",
       "</style>\n",
       "<table border=\"1\" class=\"dataframe\">\n",
       "  <thead>\n",
       "    <tr style=\"text-align: right;\">\n",
       "      <th></th>\n",
       "      <th>cotacao</th>\n",
       "      <th>lucro_por_acao</th>\n",
       "      <th>p_l</th>\n",
       "    </tr>\n",
       "  </thead>\n",
       "  <tbody>\n",
       "    <tr>\n",
       "      <th>2023-01-31</th>\n",
       "      <td>20.000000</td>\n",
       "      <td>2.000000</td>\n",
       "      <td>10.000000</td>\n",
       "    </tr>\n",
       "    <tr>\n",
       "      <th>2023-02-28</th>\n",
       "      <td>28.488315</td>\n",
       "      <td>2.959751</td>\n",
       "      <td>9.625241</td>\n",
       "    </tr>\n",
       "    <tr>\n",
       "      <th>2023-03-31</th>\n",
       "      <td>59.082677</td>\n",
       "      <td>2.581095</td>\n",
       "      <td>22.890543</td>\n",
       "    </tr>\n",
       "    <tr>\n",
       "      <th>2023-04-30</th>\n",
       "      <td>61.044346</td>\n",
       "      <td>1.717894</td>\n",
       "      <td>35.534402</td>\n",
       "    </tr>\n",
       "    <tr>\n",
       "      <th>2023-05-31</th>\n",
       "      <td>79.261029</td>\n",
       "      <td>2.307181</td>\n",
       "      <td>34.354053</td>\n",
       "    </tr>\n",
       "  </tbody>\n",
       "</table>\n",
       "</div>"
      ],
      "text/plain": [
       "              cotacao  lucro_por_acao        p_l\n",
       "2023-01-31  20.000000        2.000000  10.000000\n",
       "2023-02-28  28.488315        2.959751   9.625241\n",
       "2023-03-31  59.082677        2.581095  22.890543\n",
       "2023-04-30  61.044346        1.717894  35.534402\n",
       "2023-05-31  79.261029        2.307181  34.354053"
      ]
     },
     "execution_count": 15,
     "metadata": {},
     "output_type": "execute_result"
    }
   ],
   "source": [
    "df['p_l'] = df['cotacao'] / df['lucro_por_acao']\n",
    "\n",
    "df"
   ]
  },
  {
   "cell_type": "markdown",
   "id": "d7e44d8a",
   "metadata": {},
   "source": [
    "    - exemplos de outras operações\n"
   ]
  },
  {
   "cell_type": "code",
   "execution_count": 16,
   "id": "2cf34aae",
   "metadata": {},
   "outputs": [
    {
     "name": "stdout",
     "output_type": "stream",
     "text": [
      "2023-01-31     30.000000\n",
      "2023-02-28     38.113555\n",
      "2023-03-31     81.973220\n",
      "2023-04-30     96.578748\n",
      "2023-05-31    113.615082\n",
      "Freq: M, dtype: float64\n",
      "2023-01-31    10.000000\n",
      "2023-02-28    18.863074\n",
      "2023-03-31    36.192133\n",
      "2023-04-30    25.509944\n",
      "2023-05-31    44.906977\n",
      "Freq: M, dtype: float64\n",
      "2023-01-31     200.000000\n",
      "2023-02-28     274.206881\n",
      "2023-03-31    1352.434550\n",
      "2023-04-30    2169.174320\n",
      "2023-05-31    2722.937588\n",
      "Freq: M, dtype: float64\n",
      "2023-01-31    1.024000e+13\n",
      "2023-02-28    1.003500e+14\n",
      "2023-03-31    3.545562e+40\n",
      "2023-04-30    2.830366e+63\n",
      "2023-05-31    1.739392e+65\n",
      "Freq: M, dtype: float64\n"
     ]
    }
   ],
   "source": [
    "print(df['cotacao'] + df['p_l'])\n",
    "print(df['cotacao'] - df['p_l'])\n",
    "print(df['cotacao'] * df['p_l'])\n",
    "print(df['cotacao'] ** df['p_l'])"
   ]
  },
  {
   "cell_type": "markdown",
   "id": "7a40f273",
   "metadata": {},
   "source": [
    "    - Operações dentro de uma mesma coluna\n",
    "        - sum, mean, std, min, max, ...\n"
   ]
  },
  {
   "cell_type": "code",
   "execution_count": 18,
   "id": "52bf7763",
   "metadata": {},
   "outputs": [
    {
     "data": {
      "text/plain": [
       "14150.646505957957"
      ]
     },
     "execution_count": 18,
     "metadata": {},
     "output_type": "execute_result"
    }
   ],
   "source": [
    "#somar dados de uma coluna\n",
    "serie_lucro_trimestral = gerador_serie_historica(2000, 2, 4,\"2023-01-01\", frequencia= 'Q')\n",
    "\n",
    "lucro_anual = serie_lucro_trimestral.sum()\n",
    "lucro_anual"
   ]
  },
  {
   "cell_type": "code",
   "execution_count": 21,
   "id": "424b9ac3",
   "metadata": {},
   "outputs": [
    {
     "name": "stdout",
     "output_type": "stream",
     "text": [
      "2023-03-31     2000.000000\n",
      "2023-06-30    14642.268597\n",
      "2023-09-30    45457.311750\n",
      "2023-12-31     -464.531638\n",
      "Freq: Q-DEC, dtype: float64\n"
     ]
    },
    {
     "data": {
      "text/plain": [
       "2023-03-31     2000.000000\n",
       "2023-06-30    16642.268597\n",
       "2023-09-30    62099.580348\n",
       "2023-12-31    61635.048710\n",
       "Freq: Q-DEC, dtype: float64"
      ]
     },
     "execution_count": 21,
     "metadata": {},
     "output_type": "execute_result"
    }
   ],
   "source": [
    "#acumular valores de uma coluna com o indice\n",
    "serie_lucro_trimestral = gerador_serie_historica(2000, 2, 4,\"2023-01-01\", frequencia= 'Q')\n",
    "\n",
    "print(serie_lucro_trimestral)\n",
    "crescimento_lucros =  serie_lucro_trimestral.cumsum()\n",
    "crescimento_lucros"
   ]
  },
  {
   "cell_type": "code",
   "execution_count": 22,
   "id": "fa792b88",
   "metadata": {},
   "outputs": [
    {
     "data": {
      "text/html": [
       "<div>\n",
       "<style scoped>\n",
       "    .dataframe tbody tr th:only-of-type {\n",
       "        vertical-align: middle;\n",
       "    }\n",
       "\n",
       "    .dataframe tbody tr th {\n",
       "        vertical-align: top;\n",
       "    }\n",
       "\n",
       "    .dataframe thead th {\n",
       "        text-align: right;\n",
       "    }\n",
       "</style>\n",
       "<table border=\"1\" class=\"dataframe\">\n",
       "  <thead>\n",
       "    <tr style=\"text-align: right;\">\n",
       "      <th></th>\n",
       "      <th>preco</th>\n",
       "      <th>nomes</th>\n",
       "      <th>preco_sobre_lucro</th>\n",
       "      <th>volume</th>\n",
       "    </tr>\n",
       "    <tr>\n",
       "      <th>tickers</th>\n",
       "      <th></th>\n",
       "      <th></th>\n",
       "      <th></th>\n",
       "      <th></th>\n",
       "    </tr>\n",
       "  </thead>\n",
       "  <tbody>\n",
       "    <tr>\n",
       "      <th>WEGE3</th>\n",
       "      <td>20</td>\n",
       "      <td>Weg</td>\n",
       "      <td>25</td>\n",
       "      <td>5000</td>\n",
       "    </tr>\n",
       "    <tr>\n",
       "      <th>PETR3</th>\n",
       "      <td>30</td>\n",
       "      <td>Petro</td>\n",
       "      <td>6</td>\n",
       "      <td>1000</td>\n",
       "    </tr>\n",
       "    <tr>\n",
       "      <th>VALE3</th>\n",
       "      <td>40</td>\n",
       "      <td>Vale</td>\n",
       "      <td>12</td>\n",
       "      <td>4000</td>\n",
       "    </tr>\n",
       "    <tr>\n",
       "      <th>PETR4</th>\n",
       "      <td>12</td>\n",
       "      <td>Petro</td>\n",
       "      <td>7</td>\n",
       "      <td>7000</td>\n",
       "    </tr>\n",
       "    <tr>\n",
       "      <th>LREN3</th>\n",
       "      <td>35</td>\n",
       "      <td>Lojas Renner</td>\n",
       "      <td>25</td>\n",
       "      <td>1200</td>\n",
       "    </tr>\n",
       "  </tbody>\n",
       "</table>\n",
       "</div>"
      ],
      "text/plain": [
       "         preco         nomes  preco_sobre_lucro  volume\n",
       "tickers                                                \n",
       "WEGE3       20           Weg                 25    5000\n",
       "PETR3       30         Petro                  6    1000\n",
       "VALE3       40          Vale                 12    4000\n",
       "PETR4       12         Petro                  7    7000\n",
       "LREN3       35  Lojas Renner                 25    1200"
      ]
     },
     "execution_count": 22,
     "metadata": {},
     "output_type": "execute_result"
    }
   ],
   "source": [
    "#df base\n",
    "dict_desafio = {\n",
    "    \"tickers\" : [\"WEGE3\", \"PETR3\", \"VALE3\", \"PETR4\", \"LREN3\"],\n",
    "    \"cotacoes\": [20, 30, 40, 12, 35],\n",
    "    \"nomes\": ['Weg', 'Petro', 'Vale', 'Petro', 'Lojas Renner'],\n",
    "    \"preco_sobre_lucro\": [25, 6, 12, 7, 25],\n",
    "    \"volume\": [5000, 1000, 4000, 7000, 1200]\n",
    "    }\n",
    "\n",
    "df = pd.DataFrame(dict_desafio, index= [1, 2, 3, 4, 5])\n",
    "df = df.set_index(\"tickers\")\n",
    "df.columns = ['preco', 'nomes', 'preco_sobre_lucro', 'volume']\n",
    "df"
   ]
  },
  {
   "cell_type": "code",
   "execution_count": 23,
   "id": "d76e314a",
   "metadata": {},
   "outputs": [
    {
     "data": {
      "text/html": [
       "<div>\n",
       "<style scoped>\n",
       "    .dataframe tbody tr th:only-of-type {\n",
       "        vertical-align: middle;\n",
       "    }\n",
       "\n",
       "    .dataframe tbody tr th {\n",
       "        vertical-align: top;\n",
       "    }\n",
       "\n",
       "    .dataframe thead th {\n",
       "        text-align: right;\n",
       "    }\n",
       "</style>\n",
       "<table border=\"1\" class=\"dataframe\">\n",
       "  <thead>\n",
       "    <tr style=\"text-align: right;\">\n",
       "      <th></th>\n",
       "      <th>preco</th>\n",
       "      <th>nomes</th>\n",
       "      <th>preco_sobre_lucro</th>\n",
       "      <th>volume</th>\n",
       "      <th>lucro_por_acao</th>\n",
       "    </tr>\n",
       "    <tr>\n",
       "      <th>tickers</th>\n",
       "      <th></th>\n",
       "      <th></th>\n",
       "      <th></th>\n",
       "      <th></th>\n",
       "      <th></th>\n",
       "    </tr>\n",
       "  </thead>\n",
       "  <tbody>\n",
       "    <tr>\n",
       "      <th>WEGE3</th>\n",
       "      <td>20</td>\n",
       "      <td>Weg</td>\n",
       "      <td>25</td>\n",
       "      <td>5000</td>\n",
       "      <td>0.800000</td>\n",
       "    </tr>\n",
       "    <tr>\n",
       "      <th>PETR3</th>\n",
       "      <td>30</td>\n",
       "      <td>Petro</td>\n",
       "      <td>6</td>\n",
       "      <td>1000</td>\n",
       "      <td>5.000000</td>\n",
       "    </tr>\n",
       "    <tr>\n",
       "      <th>VALE3</th>\n",
       "      <td>40</td>\n",
       "      <td>Vale</td>\n",
       "      <td>12</td>\n",
       "      <td>4000</td>\n",
       "      <td>3.333333</td>\n",
       "    </tr>\n",
       "    <tr>\n",
       "      <th>PETR4</th>\n",
       "      <td>12</td>\n",
       "      <td>Petro</td>\n",
       "      <td>7</td>\n",
       "      <td>7000</td>\n",
       "      <td>1.714286</td>\n",
       "    </tr>\n",
       "    <tr>\n",
       "      <th>LREN3</th>\n",
       "      <td>35</td>\n",
       "      <td>Lojas Renner</td>\n",
       "      <td>25</td>\n",
       "      <td>1200</td>\n",
       "      <td>1.400000</td>\n",
       "    </tr>\n",
       "  </tbody>\n",
       "</table>\n",
       "</div>"
      ],
      "text/plain": [
       "         preco         nomes  preco_sobre_lucro  volume  lucro_por_acao\n",
       "tickers                                                                \n",
       "WEGE3       20           Weg                 25    5000        0.800000\n",
       "PETR3       30         Petro                  6    1000        5.000000\n",
       "VALE3       40          Vale                 12    4000        3.333333\n",
       "PETR4       12         Petro                  7    7000        1.714286\n",
       "LREN3       35  Lojas Renner                 25    1200        1.400000"
      ]
     },
     "execution_count": 23,
     "metadata": {},
     "output_type": "execute_result"
    }
   ],
   "source": [
    "#50 nova coluna lucro por acao\n",
    "df['lucro_por_acao'] = df['preco'] / df['preco_sobre_lucro']\n",
    "df"
   ]
  },
  {
   "cell_type": "code",
   "execution_count": 35,
   "id": "e06abe22",
   "metadata": {},
   "outputs": [
    {
     "data": {
      "text/html": [
       "<div>\n",
       "<style scoped>\n",
       "    .dataframe tbody tr th:only-of-type {\n",
       "        vertical-align: middle;\n",
       "    }\n",
       "\n",
       "    .dataframe tbody tr th {\n",
       "        vertical-align: top;\n",
       "    }\n",
       "\n",
       "    .dataframe thead th {\n",
       "        text-align: right;\n",
       "    }\n",
       "</style>\n",
       "<table border=\"1\" class=\"dataframe\">\n",
       "  <thead>\n",
       "    <tr style=\"text-align: right;\">\n",
       "      <th></th>\n",
       "      <th>preco</th>\n",
       "      <th>nomes</th>\n",
       "      <th>preco_sobre_lucro</th>\n",
       "      <th>volume</th>\n",
       "      <th>lucro_por_acao</th>\n",
       "      <th>preco_em_dolar</th>\n",
       "    </tr>\n",
       "    <tr>\n",
       "      <th>tickers</th>\n",
       "      <th></th>\n",
       "      <th></th>\n",
       "      <th></th>\n",
       "      <th></th>\n",
       "      <th></th>\n",
       "      <th></th>\n",
       "    </tr>\n",
       "  </thead>\n",
       "  <tbody>\n",
       "    <tr>\n",
       "      <th>WEGE3</th>\n",
       "      <td>20</td>\n",
       "      <td>Weg</td>\n",
       "      <td>25</td>\n",
       "      <td>5000</td>\n",
       "      <td>0.800000</td>\n",
       "      <td>3.809524</td>\n",
       "    </tr>\n",
       "    <tr>\n",
       "      <th>PETR3</th>\n",
       "      <td>30</td>\n",
       "      <td>Petro</td>\n",
       "      <td>6</td>\n",
       "      <td>1000</td>\n",
       "      <td>5.000000</td>\n",
       "      <td>5.714286</td>\n",
       "    </tr>\n",
       "    <tr>\n",
       "      <th>VALE3</th>\n",
       "      <td>40</td>\n",
       "      <td>Vale</td>\n",
       "      <td>12</td>\n",
       "      <td>4000</td>\n",
       "      <td>3.333333</td>\n",
       "      <td>7.619048</td>\n",
       "    </tr>\n",
       "    <tr>\n",
       "      <th>PETR4</th>\n",
       "      <td>12</td>\n",
       "      <td>Petro</td>\n",
       "      <td>7</td>\n",
       "      <td>7000</td>\n",
       "      <td>1.714286</td>\n",
       "      <td>2.285714</td>\n",
       "    </tr>\n",
       "    <tr>\n",
       "      <th>LREN3</th>\n",
       "      <td>35</td>\n",
       "      <td>Lojas Renner</td>\n",
       "      <td>25</td>\n",
       "      <td>1200</td>\n",
       "      <td>1.400000</td>\n",
       "      <td>6.666667</td>\n",
       "    </tr>\n",
       "  </tbody>\n",
       "</table>\n",
       "</div>"
      ],
      "text/plain": [
       "         preco         nomes  preco_sobre_lucro  volume  lucro_por_acao  \\\n",
       "tickers                                                                   \n",
       "WEGE3       20           Weg                 25    5000        0.800000   \n",
       "PETR3       30         Petro                  6    1000        5.000000   \n",
       "VALE3       40          Vale                 12    4000        3.333333   \n",
       "PETR4       12         Petro                  7    7000        1.714286   \n",
       "LREN3       35  Lojas Renner                 25    1200        1.400000   \n",
       "\n",
       "         preco_em_dolar  \n",
       "tickers                  \n",
       "WEGE3          3.809524  \n",
       "PETR3          5.714286  \n",
       "VALE3          7.619048  \n",
       "PETR4          2.285714  \n",
       "LREN3          6.666667  "
      ]
     },
     "execution_count": 35,
     "metadata": {},
     "output_type": "execute_result"
    }
   ],
   "source": [
    "#51 preco em dolar'-'\n",
    "dolar = 5.25\n",
    "df['preco_em_dolar'] = df['preco'] / dolar\n",
    "\n",
    "df"
   ]
  },
  {
   "cell_type": "code",
   "execution_count": 25,
   "id": "76a84cb8",
   "metadata": {},
   "outputs": [
    {
     "data": {
      "text/plain": [
       "18200"
      ]
     },
     "execution_count": 25,
     "metadata": {},
     "output_type": "execute_result"
    }
   ],
   "source": [
    "#52 volume negociado por todas as açoes\n",
    "volume_total = df['volume'].sum()\n",
    "volume_total"
   ]
  },
  {
   "cell_type": "code",
   "execution_count": 39,
   "id": "24a09a9f",
   "metadata": {},
   "outputs": [
    {
     "name": "stdout",
     "output_type": "stream",
     "text": [
      "Weg\n",
      "Petro\n"
     ]
    }
   ],
   "source": [
    "#53 acoes com maior e menor lucro\n",
    "menor_lucro = df.loc[df['lucro_por_acao'] == df['lucro_por_acao'].min()]\n",
    "nome_menor_lucro = menor_lucro.iat[0, 1]\n",
    "print(nome_menor_lucro)\n",
    "\n",
    "maior_lucro = df.loc[df['lucro_por_acao'] == df['lucro_por_acao'].max()]\n",
    "nome_maior_lucro = maior_lucro.iat[0, 1]\n",
    "print(nome_maior_lucro)\n",
    "\n",
    "\n",
    "\n",
    "\n",
    "# menor_lucro = df.loc[df['lucro_por_acao'].min(), 'lucro_por_acao']\n",
    "# print(menor_lucro)\n",
    "# maior_lucro = df.loc[df['lucro_por_acao'].max(), 'lucro_por_acao']\n",
    "# print(maior_lucro)\n"
   ]
  }
 ],
 "metadata": {
  "kernelspec": {
   "display_name": "Python 3 (ipykernel)",
   "language": "python",
   "name": "python3"
  },
  "language_info": {
   "codemirror_mode": {
    "name": "ipython",
    "version": 3
   },
   "file_extension": ".py",
   "mimetype": "text/x-python",
   "name": "python",
   "nbconvert_exporter": "python",
   "pygments_lexer": "ipython3",
   "version": "3.11.5"
  }
 },
 "nbformat": 4,
 "nbformat_minor": 5
}
