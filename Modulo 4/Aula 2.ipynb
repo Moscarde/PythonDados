{
 "cells": [
  {
   "cell_type": "markdown",
   "id": "a092bad5",
   "metadata": {},
   "source": [
    "# Pandas"
   ]
  },
  {
   "cell_type": "code",
   "execution_count": 316,
   "id": "0c7602a4",
   "metadata": {},
   "outputs": [],
   "source": [
    "import numpy as np\n",
    "import pandas as pd\n",
    "import matplotlib"
   ]
  },
  {
   "cell_type": "markdown",
   "id": "11242089",
   "metadata": {},
   "source": [
    "### Series"
   ]
  },
  {
   "cell_type": "code",
   "execution_count": 4,
   "id": "15f789ce",
   "metadata": {},
   "outputs": [
    {
     "name": "stdout",
     "output_type": "stream",
     "text": [
      "0    0.654744\n",
      "1    0.071571\n",
      "2   -0.468718\n",
      "3    0.434180\n",
      "4   -0.181013\n",
      "dtype: float64\n",
      "A    1.386014\n",
      "B   -0.752488\n",
      "C    0.952790\n",
      "D   -0.423664\n",
      "E    0.330658\n",
      "dtype: float64\n",
      "0    Python\n",
      "1       SQL\n",
      "2       VBA\n",
      "dtype: object\n"
     ]
    }
   ],
   "source": [
    "#Argumentos: listas / vetores\n",
    "#Series criam index automaticamente\n",
    "\n",
    "serie_inicial = pd.Series(np.random.randn(5))\n",
    "\n",
    "print(serie_inicial)\n",
    "\n",
    "serie_inicial_index_definido = pd.Series(np.random.randn(5), index= [\"A\", \"B\", \"C\", \"D\", \"E\"])\n",
    "print(serie_inicial_index_definido)\n",
    "\n",
    "serie_lista = pd.Series([\"Python\", \"SQL\", \"VBA\"])\n",
    "print(serie_lista)"
   ]
  },
  {
   "cell_type": "code",
   "execution_count": 10,
   "id": "462965ba",
   "metadata": {},
   "outputs": [
    {
     "name": "stdout",
     "output_type": "stream",
     "text": [
      "WEG3     20.20\n",
      "PETR4    19.28\n",
      "VALE3    64.90\n",
      "PETZ3    12.03\n",
      "dtype: float64\n",
      "20.2\n",
      "20.2\n"
     ]
    }
   ],
   "source": [
    "#A partir de dicionarios, criando series temporais\n",
    "\n",
    "dicionario_cotacoes = {\"WEG3\": 20.20, \"PETR4\": 19.28, \"VALE3\": 64.90, \"PETZ3\": 12.03}\n",
    "\n",
    "series_cotacoes = pd.Series(dicionario_cotacoes)\n",
    "\n",
    "print(series_cotacoes)\n",
    "\n",
    "print(series_cotacoes['WEG3'])\n",
    "#print(series_cotacoes[0]) #depreciado\n",
    "print(series_cotacoes.iloc[0])"
   ]
  },
  {
   "cell_type": "markdown",
   "id": "bd7e19b2",
   "metadata": {},
   "source": [
    "### DataFrames"
   ]
  },
  {
   "cell_type": "code",
   "execution_count": 15,
   "id": "95248581",
   "metadata": {},
   "outputs": [
    {
     "data": {
      "text/html": [
       "<div>\n",
       "<style scoped>\n",
       "    .dataframe tbody tr th:only-of-type {\n",
       "        vertical-align: middle;\n",
       "    }\n",
       "\n",
       "    .dataframe tbody tr th {\n",
       "        vertical-align: top;\n",
       "    }\n",
       "\n",
       "    .dataframe thead th {\n",
       "        text-align: right;\n",
       "    }\n",
       "</style>\n",
       "<table border=\"1\" class=\"dataframe\">\n",
       "  <thead>\n",
       "    <tr style=\"text-align: right;\">\n",
       "      <th></th>\n",
       "      <th>empresas</th>\n",
       "      <th>price</th>\n",
       "      <th>volume</th>\n",
       "    </tr>\n",
       "  </thead>\n",
       "  <tbody>\n",
       "    <tr>\n",
       "      <th>2019</th>\n",
       "      <td>Wege</td>\n",
       "      <td>20</td>\n",
       "      <td>1000</td>\n",
       "    </tr>\n",
       "    <tr>\n",
       "      <th>2020</th>\n",
       "      <td>Vale</td>\n",
       "      <td>30</td>\n",
       "      <td>4000</td>\n",
       "    </tr>\n",
       "    <tr>\n",
       "      <th>2021</th>\n",
       "      <td>Petro</td>\n",
       "      <td>40</td>\n",
       "      <td>7500</td>\n",
       "    </tr>\n",
       "  </tbody>\n",
       "</table>\n",
       "</div>"
      ],
      "text/plain": [
       "     empresas  price  volume\n",
       "2019     Wege     20    1000\n",
       "2020     Vale     30    4000\n",
       "2021    Petro     40    7500"
      ]
     },
     "execution_count": 15,
     "metadata": {},
     "output_type": "execute_result"
    }
   ],
   "source": [
    "#A partir de outras séries ou dicionarios\n",
    "\n",
    "dicionario_dados = {\n",
    "    \"empresas\": pd.Series([\"Wege\", \"Vale\", \"Petro\"], index = [\"2019\", \"2020\", \"2021\"]),\n",
    "    \"price\": pd.Series([20, 30, 40], index = [\"2019\", \"2020\", \"2021\"]),\n",
    "    \"volume\": pd.Series([1000, 4000, 7500], index = [\"2019\", \"2020\", \"2021\"]),\n",
    "}\n",
    "\n",
    "dados_diarios = pd.DataFrame(dicionario_dados)\n",
    "\n",
    "dados_diarios"
   ]
  },
  {
   "cell_type": "code",
   "execution_count": 16,
   "id": "6032828a",
   "metadata": {},
   "outputs": [
    {
     "data": {
      "text/html": [
       "<div>\n",
       "<style scoped>\n",
       "    .dataframe tbody tr th:only-of-type {\n",
       "        vertical-align: middle;\n",
       "    }\n",
       "\n",
       "    .dataframe tbody tr th {\n",
       "        vertical-align: top;\n",
       "    }\n",
       "\n",
       "    .dataframe thead th {\n",
       "        text-align: right;\n",
       "    }\n",
       "</style>\n",
       "<table border=\"1\" class=\"dataframe\">\n",
       "  <thead>\n",
       "    <tr style=\"text-align: right;\">\n",
       "      <th></th>\n",
       "      <th>empresas</th>\n",
       "      <th>price</th>\n",
       "      <th>volume</th>\n",
       "    </tr>\n",
       "  </thead>\n",
       "  <tbody>\n",
       "    <tr>\n",
       "      <th>2019</th>\n",
       "      <td>Wege</td>\n",
       "      <td>20</td>\n",
       "      <td>1000</td>\n",
       "    </tr>\n",
       "    <tr>\n",
       "      <th>2020</th>\n",
       "      <td>Vale</td>\n",
       "      <td>30</td>\n",
       "      <td>4000</td>\n",
       "    </tr>\n",
       "    <tr>\n",
       "      <th>2021</th>\n",
       "      <td>Petro</td>\n",
       "      <td>40</td>\n",
       "      <td>7500</td>\n",
       "    </tr>\n",
       "  </tbody>\n",
       "</table>\n",
       "</div>"
      ],
      "text/plain": [
       "     empresas  price  volume\n",
       "2019     Wege     20    1000\n",
       "2020     Vale     30    4000\n",
       "2021    Petro     40    7500"
      ]
     },
     "execution_count": 16,
     "metadata": {},
     "output_type": "execute_result"
    }
   ],
   "source": [
    "dicionario_dados = {\n",
    "    \"empresas\": [\"Wege\", \"Vale\", \"Petro\"],\n",
    "    \"price\": [20, 30, 40],\n",
    "    \"volume\": [1000, 4000, 7500]\n",
    "}\n",
    "\n",
    "dados_diarios_from_dict = pd.DataFrame(dicionario_dados, index=[\"2019\", \"2020\", \"2021\"])\n",
    "dados_diarios_from_dict"
   ]
  },
  {
   "cell_type": "code",
   "execution_count": 18,
   "id": "e2c89d19",
   "metadata": {},
   "outputs": [
    {
     "data": {
      "text/html": [
       "<div>\n",
       "<style scoped>\n",
       "    .dataframe tbody tr th:only-of-type {\n",
       "        vertical-align: middle;\n",
       "    }\n",
       "\n",
       "    .dataframe tbody tr th {\n",
       "        vertical-align: top;\n",
       "    }\n",
       "\n",
       "    .dataframe thead th {\n",
       "        text-align: right;\n",
       "    }\n",
       "</style>\n",
       "<table border=\"1\" class=\"dataframe\">\n",
       "  <thead>\n",
       "    <tr style=\"text-align: right;\">\n",
       "      <th></th>\n",
       "      <th>volume</th>\n",
       "      <th>price</th>\n",
       "      <th>empresas</th>\n",
       "      <th>novaColl</th>\n",
       "    </tr>\n",
       "  </thead>\n",
       "  <tbody>\n",
       "    <tr>\n",
       "      <th>2019</th>\n",
       "      <td>1000</td>\n",
       "      <td>20</td>\n",
       "      <td>Wege</td>\n",
       "      <td>NaN</td>\n",
       "    </tr>\n",
       "    <tr>\n",
       "      <th>2020</th>\n",
       "      <td>4000</td>\n",
       "      <td>30</td>\n",
       "      <td>Vale</td>\n",
       "      <td>NaN</td>\n",
       "    </tr>\n",
       "    <tr>\n",
       "      <th>2021</th>\n",
       "      <td>7500</td>\n",
       "      <td>40</td>\n",
       "      <td>Petro</td>\n",
       "      <td>NaN</td>\n",
       "    </tr>\n",
       "  </tbody>\n",
       "</table>\n",
       "</div>"
      ],
      "text/plain": [
       "      volume  price empresas novaColl\n",
       "2019    1000     20     Wege      NaN\n",
       "2020    4000     30     Vale      NaN\n",
       "2021    7500     40    Petro      NaN"
      ]
     },
     "execution_count": 18,
     "metadata": {},
     "output_type": "execute_result"
    }
   ],
   "source": [
    "#Escolhendo colunas\n",
    "\n",
    "dicionario_dados = {\n",
    "    \"empresas\": [\"Wege\", \"Vale\", \"Petro\"],\n",
    "    \"price\": [20, 30, 40],\n",
    "    \"volume\": [1000, 4000, 7500]\n",
    "} \n",
    "\n",
    "dados_diarios_from_dict = pd.DataFrame(\n",
    "    dicionario_dados,\n",
    "    index= [\"2019\", \"2020\", \"2021\"],\n",
    "    columns = [\"volume\", \"price\", \"empresas\", \"novaColl\"])\n",
    "\n",
    "dados_diarios_from_dict"
   ]
  },
  {
   "cell_type": "code",
   "execution_count": 25,
   "metadata": {},
   "outputs": [
    {
     "data": {
      "text/html": [
       "<div>\n",
       "<style scoped>\n",
       "    .dataframe tbody tr th:only-of-type {\n",
       "        vertical-align: middle;\n",
       "    }\n",
       "\n",
       "    .dataframe tbody tr th {\n",
       "        vertical-align: top;\n",
       "    }\n",
       "\n",
       "    .dataframe thead th {\n",
       "        text-align: right;\n",
       "    }\n",
       "</style>\n",
       "<table border=\"1\" class=\"dataframe\">\n",
       "  <thead>\n",
       "    <tr style=\"text-align: right;\">\n",
       "      <th></th>\n",
       "      <th>cotacao</th>\n",
       "      <th>dia</th>\n",
       "    </tr>\n",
       "  </thead>\n",
       "  <tbody>\n",
       "    <tr>\n",
       "      <th>0</th>\n",
       "      <td>20</td>\n",
       "      <td>2019-12-12</td>\n",
       "    </tr>\n",
       "  </tbody>\n",
       "</table>\n",
       "</div>"
      ],
      "text/plain": [
       "   cotacao         dia\n",
       "0       20  2019-12-12"
      ]
     },
     "execution_count": 25,
     "metadata": {},
     "output_type": "execute_result"
    }
   ],
   "source": [
    "#Cuidado\n",
    "dado = {\"cotacao\": 20, \"dia\": \"2019-12-12\"}\n",
    "\n",
    "#datraframe = pd.DataFrame(dado)\n",
    "#ValueError: If using all scalar values, you must pass an index\n",
    "\n",
    "datraframe = pd.DataFrame(dado, index= [0])\n",
    "\n",
    "datraframe"
   ]
  },
  {
   "cell_type": "markdown",
   "id": "0ebdeb0a",
   "metadata": {},
   "source": [
    "### Desafios\n"
   ]
  },
  {
   "cell_type": "code",
   "execution_count": 33,
   "id": "76e84313",
   "metadata": {},
   "outputs": [
    {
     "data": {
      "text/plain": [
       "0    5\n",
       "1    2\n",
       "2    1\n",
       "3    8\n",
       "4    7\n",
       "5    4\n",
       "6    8\n",
       "7    9\n",
       "8    7\n",
       "9    8\n",
       "dtype: int32"
      ]
     },
     "execution_count": 33,
     "metadata": {},
     "output_type": "execute_result"
    }
   ],
   "source": [
    "serie_numero = pd.Series(np.random.randint(0, 10, 10))\n",
    "serie_numero"
   ]
  },
  {
   "cell_type": "code",
   "execution_count": 35,
   "id": "190c6c8f",
   "metadata": {},
   "outputs": [
    {
     "data": {
      "text/plain": [
       "40.0"
      ]
     },
     "execution_count": 35,
     "metadata": {},
     "output_type": "execute_result"
    }
   ],
   "source": [
    "acao_inicial = float(input('Digite o valor inicial de uma acao: '))\n",
    "acao_inicial"
   ]
  },
  {
   "cell_type": "code",
   "execution_count": 345,
   "id": "e4825561",
   "metadata": {},
   "outputs": [
    {
     "data": {
      "text/html": [
       "<div>\n",
       "<style scoped>\n",
       "    .dataframe tbody tr th:only-of-type {\n",
       "        vertical-align: middle;\n",
       "    }\n",
       "\n",
       "    .dataframe tbody tr th {\n",
       "        vertical-align: top;\n",
       "    }\n",
       "\n",
       "    .dataframe thead th {\n",
       "        text-align: right;\n",
       "    }\n",
       "</style>\n",
       "<table border=\"1\" class=\"dataframe\">\n",
       "  <thead>\n",
       "    <tr style=\"text-align: right;\">\n",
       "      <th></th>\n",
       "      <th>cotacao</th>\n",
       "      <th>dia</th>\n",
       "    </tr>\n",
       "  </thead>\n",
       "  <tbody>\n",
       "    <tr>\n",
       "      <th>0</th>\n",
       "      <td>40.0000</td>\n",
       "      <td>0</td>\n",
       "    </tr>\n",
       "    <tr>\n",
       "      <th>1</th>\n",
       "      <td>38.9194</td>\n",
       "      <td>1</td>\n",
       "    </tr>\n",
       "    <tr>\n",
       "      <th>2</th>\n",
       "      <td>36.1582</td>\n",
       "      <td>2</td>\n",
       "    </tr>\n",
       "    <tr>\n",
       "      <th>3</th>\n",
       "      <td>36.1730</td>\n",
       "      <td>3</td>\n",
       "    </tr>\n",
       "    <tr>\n",
       "      <th>4</th>\n",
       "      <td>36.0694</td>\n",
       "      <td>4</td>\n",
       "    </tr>\n",
       "    <tr>\n",
       "      <th>...</th>\n",
       "      <td>...</td>\n",
       "      <td>...</td>\n",
       "    </tr>\n",
       "    <tr>\n",
       "      <th>496</th>\n",
       "      <td>9.0336</td>\n",
       "      <td>496</td>\n",
       "    </tr>\n",
       "    <tr>\n",
       "      <th>497</th>\n",
       "      <td>9.0090</td>\n",
       "      <td>497</td>\n",
       "    </tr>\n",
       "    <tr>\n",
       "      <th>498</th>\n",
       "      <td>8.6935</td>\n",
       "      <td>498</td>\n",
       "    </tr>\n",
       "    <tr>\n",
       "      <th>499</th>\n",
       "      <td>8.6757</td>\n",
       "      <td>499</td>\n",
       "    </tr>\n",
       "    <tr>\n",
       "      <th>500</th>\n",
       "      <td>8.9271</td>\n",
       "      <td>500</td>\n",
       "    </tr>\n",
       "  </tbody>\n",
       "</table>\n",
       "<p>501 rows × 2 columns</p>\n",
       "</div>"
      ],
      "text/plain": [
       "     cotacao  dia\n",
       "0    40.0000    0\n",
       "1    38.9194    1\n",
       "2    36.1582    2\n",
       "3    36.1730    3\n",
       "4    36.0694    4\n",
       "..       ...  ...\n",
       "496   9.0336  496\n",
       "497   9.0090  497\n",
       "498   8.6935  498\n",
       "499   8.6757  499\n",
       "500   8.9271  500\n",
       "\n",
       "[501 rows x 2 columns]"
      ]
     },
     "execution_count": 345,
     "metadata": {},
     "output_type": "execute_result"
    }
   ],
   "source": [
    "import random\n",
    "dado = {\"cotacao\": acao_inicial, \"dia\": 0}\n",
    "data_cotacoes_30 = pd.DataFrame(dado, index= [0])\n",
    "\n",
    "for i in range(500):\n",
    "    volatilidade_diaria = 0.04\n",
    "\n",
    "    valor_ultimo_dia = data_cotacoes_30.loc[len(data_cotacoes_30) - 1, \"cotacao\"]\n",
    "    valor_novo_dia = valor_ultimo_dia * (1 + np.random.normal(0, volatilidade_diaria))\n",
    "    valor_novo_dia = round(valor_novo_dia, 4)\n",
    "\n",
    "    #extra\n",
    "\n",
    "    novo_registro = {\"cotacao\": valor_novo_dia, \"dia\": len(data_cotacoes_30)}\n",
    "    data_cotacoes_30 = pd.concat([data_cotacoes_30, pd.DataFrame(novo_registro, index= [i+1])])\n",
    "\n",
    "data_cotacoes_30"
   ]
  },
  {
   "cell_type": "code",
   "execution_count": 346,
   "id": "9ddd517e",
   "metadata": {},
   "outputs": [
    {
     "data": {
      "text/plain": [
       "<Axes: >"
      ]
     },
     "execution_count": 346,
     "metadata": {},
     "output_type": "execute_result"
    },
    {
     "data": {
      "image/png": "[encoded data removed]",
      "text/plain": [
       "<Figure size 640x480 with 1 Axes>"
      ]
     },
     "metadata": {},
     "output_type": "display_data"
    }
   ],
   "source": [
    "\n",
    "lista_cotacoes = []\n",
    "lista_dias = []\n",
    "for dia, cotacao in enumerate(data_cotacoes_30['cotacao']):\n",
    "    lista_cotacoes.append(cotacao)\n",
    "    lista_dias.append(dia)\n",
    "\n",
    "# print(lista_cotacoes)\n",
    "# print(lista_dias)\n",
    "\n",
    "serie_cotacoes = pd.Series(data=lista_cotacoes, index= lista_dias )\n",
    "serie_cotacoes.plot()"
   ]
  },
  {
   "cell_type": "code",
   "execution_count": 293,
   "id": "9592f847",
   "metadata": {},
   "outputs": [
    {
     "data": {
      "text/plain": [
       "-0.06714596859530005"
      ]
     },
     "execution_count": 293,
     "metadata": {},
     "output_type": "execute_result"
    }
   ],
   "source": [
    "np.random.normal(0, volatilidade_diaria)"
   ]
  },
  {
   "cell_type": "code",
   "execution_count": 347,
   "id": "9c78e52b",
   "metadata": {},
   "outputs": [
    {
     "data": {
      "text/html": [
       "<div>\n",
       "<style scoped>\n",
       "    .dataframe tbody tr th:only-of-type {\n",
       "        vertical-align: middle;\n",
       "    }\n",
       "\n",
       "    .dataframe tbody tr th {\n",
       "        vertical-align: top;\n",
       "    }\n",
       "\n",
       "    .dataframe thead th {\n",
       "        text-align: right;\n",
       "    }\n",
       "</style>\n",
       "<table border=\"1\" class=\"dataframe\">\n",
       "  <thead>\n",
       "    <tr style=\"text-align: right;\">\n",
       "      <th></th>\n",
       "      <th>tickers</th>\n",
       "      <th>cotacoes</th>\n",
       "      <th>nomes</th>\n",
       "      <th>preco_sobre_lucro</th>\n",
       "      <th>volume</th>\n",
       "    </tr>\n",
       "  </thead>\n",
       "  <tbody>\n",
       "    <tr>\n",
       "      <th>1</th>\n",
       "      <td>WEGE3</td>\n",
       "      <td>20</td>\n",
       "      <td>Weg</td>\n",
       "      <td>25</td>\n",
       "      <td>5000</td>\n",
       "    </tr>\n",
       "    <tr>\n",
       "      <th>2</th>\n",
       "      <td>PETR3</td>\n",
       "      <td>30</td>\n",
       "      <td>Petro</td>\n",
       "      <td>6</td>\n",
       "      <td>1000</td>\n",
       "    </tr>\n",
       "    <tr>\n",
       "      <th>3</th>\n",
       "      <td>VALE3</td>\n",
       "      <td>40</td>\n",
       "      <td>Vale</td>\n",
       "      <td>12</td>\n",
       "      <td>4000</td>\n",
       "    </tr>\n",
       "    <tr>\n",
       "      <th>4</th>\n",
       "      <td>PETR4</td>\n",
       "      <td>12</td>\n",
       "      <td>Petro</td>\n",
       "      <td>7</td>\n",
       "      <td>7000</td>\n",
       "    </tr>\n",
       "    <tr>\n",
       "      <th>5</th>\n",
       "      <td>LREN3</td>\n",
       "      <td>35</td>\n",
       "      <td>Lojas Renner</td>\n",
       "      <td>25</td>\n",
       "      <td>1200</td>\n",
       "    </tr>\n",
       "  </tbody>\n",
       "</table>\n",
       "</div>"
      ],
      "text/plain": [
       "  tickers  cotacoes         nomes  preco_sobre_lucro  volume\n",
       "1   WEGE3        20           Weg                 25    5000\n",
       "2   PETR3        30         Petro                  6    1000\n",
       "3   VALE3        40          Vale                 12    4000\n",
       "4   PETR4        12         Petro                  7    7000\n",
       "5   LREN3        35  Lojas Renner                 25    1200"
      ]
     },
     "execution_count": 347,
     "metadata": {},
     "output_type": "execute_result"
    }
   ],
   "source": [
    "dict_desafio = {\n",
    "    \"tickers\" : [\"WEGE3\", \"PETR3\", \"VALE3\", \"PETR4\", \"LREN3\"],\n",
    "    \"cotacoes\": [20, 30, 40, 12, 35],\n",
    "    \"nomes\": ['Weg', 'Petro', 'Vale', 'Petro', 'Lojas Renner'],\n",
    "    \"preco_sobre_lucro\": [25, 6, 12, 7, 25],\n",
    "    \"volume\": [5000, 1000, 4000, 7000, 1200]\n",
    "    }\n",
    "\n",
    "dataframe_desafio = pd.DataFrame(dict_desafio, index= [1, 2, 3, 4, 5])\n",
    "dataframe_desafio\n"
   ]
  },
  {
   "cell_type": "code",
   "execution_count": 201,
   "id": "54ef988b",
   "metadata": {},
   "outputs": [
    {
     "data": {
      "text/html": [
       "<div>\n",
       "<style scoped>\n",
       "    .dataframe tbody tr th:only-of-type {\n",
       "        vertical-align: middle;\n",
       "    }\n",
       "\n",
       "    .dataframe tbody tr th {\n",
       "        vertical-align: top;\n",
       "    }\n",
       "\n",
       "    .dataframe thead th {\n",
       "        text-align: right;\n",
       "    }\n",
       "</style>\n",
       "<table border=\"1\" class=\"dataframe\">\n",
       "  <thead>\n",
       "    <tr style=\"text-align: right;\">\n",
       "      <th></th>\n",
       "      <th>nomes</th>\n",
       "      <th>tickers</th>\n",
       "      <th>preco_sobre_lucro</th>\n",
       "      <th>volume</th>\n",
       "      <th>cotacoes</th>\n",
       "    </tr>\n",
       "  </thead>\n",
       "  <tbody>\n",
       "    <tr>\n",
       "      <th>1</th>\n",
       "      <td>Weg</td>\n",
       "      <td>WEGE3</td>\n",
       "      <td>25</td>\n",
       "      <td>5000</td>\n",
       "      <td>20</td>\n",
       "    </tr>\n",
       "    <tr>\n",
       "      <th>2</th>\n",
       "      <td>Petro</td>\n",
       "      <td>PETR3</td>\n",
       "      <td>6</td>\n",
       "      <td>1000</td>\n",
       "      <td>30</td>\n",
       "    </tr>\n",
       "    <tr>\n",
       "      <th>3</th>\n",
       "      <td>Vale</td>\n",
       "      <td>VALE3</td>\n",
       "      <td>12</td>\n",
       "      <td>4000</td>\n",
       "      <td>40</td>\n",
       "    </tr>\n",
       "    <tr>\n",
       "      <th>4</th>\n",
       "      <td>Petro</td>\n",
       "      <td>PETR4</td>\n",
       "      <td>7</td>\n",
       "      <td>7000</td>\n",
       "      <td>12</td>\n",
       "    </tr>\n",
       "    <tr>\n",
       "      <th>5</th>\n",
       "      <td>Lojas Renner</td>\n",
       "      <td>LREN3</td>\n",
       "      <td>25</td>\n",
       "      <td>1200</td>\n",
       "      <td>35</td>\n",
       "    </tr>\n",
       "  </tbody>\n",
       "</table>\n",
       "</div>"
      ],
      "text/plain": [
       "          nomes tickers  preco_sobre_lucro  volume  cotacoes\n",
       "1           Weg   WEGE3                 25    5000        20\n",
       "2         Petro   PETR3                  6    1000        30\n",
       "3          Vale   VALE3                 12    4000        40\n",
       "4         Petro   PETR4                  7    7000        12\n",
       "5  Lojas Renner   LREN3                 25    1200        35"
      ]
     },
     "execution_count": 201,
     "metadata": {},
     "output_type": "execute_result"
    }
   ],
   "source": [
    "dataframe_desafio = pd.DataFrame(\n",
    "    dict_desafio, \n",
    "    index= [1, 2, 3, 4, 5], \n",
    "    columns= [\"nomes\", \"tickers\", \"preco_sobre_lucro\", \"volume\", \"cotacoes\"]\n",
    "    )\n",
    "dataframe_desafio"
   ]
  }
 ],
 "metadata": {
  "kernelspec": {
   "display_name": "Python 3 (ipykernel)",
   "language": "python",
   "name": "python3"
  },
  "language_info": {
   "codemirror_mode": {
    "name": "ipython",
    "version": 3
   },
   "file_extension": ".py",
   "mimetype": "text/x-python",
   "name": "python",
   "nbconvert_exporter": "python",
   "pygments_lexer": "ipython3",
   "version": "3.11.5"
  }
 },
 "nbformat": 4,
 "nbformat_minor": 5
}
