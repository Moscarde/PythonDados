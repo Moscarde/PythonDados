{
 "cells": [
  {
   "cell_type": "markdown",
   "id": "a092bad5",
   "metadata": {},
   "source": [
    "# Pandas"
   ]
  },
  {
   "cell_type": "code",
   "execution_count": 135,
   "id": "0c7602a4",
   "metadata": {},
   "outputs": [],
   "source": [
    "import pandas as pd\n",
    "import yfinance as yf\n",
    "import numpy as np\n",
    "from icecream import ic\n"
   ]
  },
  {
   "cell_type": "code",
   "execution_count": 136,
   "id": "aba74210",
   "metadata": {},
   "outputs": [
    {
     "name": "stdout",
     "output_type": "stream",
     "text": [
      "[*********************100%%**********************]  1 of 1 completed\n"
     ]
    },
    {
     "data": {
      "text/html": [
       "<div>\n",
       "<style scoped>\n",
       "    .dataframe tbody tr th:only-of-type {\n",
       "        vertical-align: middle;\n",
       "    }\n",
       "\n",
       "    .dataframe tbody tr th {\n",
       "        vertical-align: top;\n",
       "    }\n",
       "\n",
       "    .dataframe thead th {\n",
       "        text-align: right;\n",
       "    }\n",
       "</style>\n",
       "<table border=\"1\" class=\"dataframe\">\n",
       "  <thead>\n",
       "    <tr style=\"text-align: right;\">\n",
       "      <th></th>\n",
       "      <th>Close</th>\n",
       "    </tr>\n",
       "    <tr>\n",
       "      <th>Date</th>\n",
       "      <th></th>\n",
       "    </tr>\n",
       "  </thead>\n",
       "  <tbody>\n",
       "    <tr>\n",
       "      <th>1993-04-28</th>\n",
       "      <td>-0.008163</td>\n",
       "    </tr>\n",
       "    <tr>\n",
       "      <th>1993-04-29</th>\n",
       "      <td>-0.024691</td>\n",
       "    </tr>\n",
       "    <tr>\n",
       "      <th>1993-04-30</th>\n",
       "      <td>0.016878</td>\n",
       "    </tr>\n",
       "    <tr>\n",
       "      <th>1993-05-03</th>\n",
       "      <td>0.000000</td>\n",
       "    </tr>\n",
       "    <tr>\n",
       "      <th>1993-05-04</th>\n",
       "      <td>0.033195</td>\n",
       "    </tr>\n",
       "    <tr>\n",
       "      <th>...</th>\n",
       "      <td>...</td>\n",
       "    </tr>\n",
       "    <tr>\n",
       "      <th>2023-10-09</th>\n",
       "      <td>0.008636</td>\n",
       "    </tr>\n",
       "    <tr>\n",
       "      <th>2023-10-10</th>\n",
       "      <td>0.013729</td>\n",
       "    </tr>\n",
       "    <tr>\n",
       "      <th>2023-10-11</th>\n",
       "      <td>0.002690</td>\n",
       "    </tr>\n",
       "    <tr>\n",
       "      <th>2023-10-13</th>\n",
       "      <td>-0.011081</td>\n",
       "    </tr>\n",
       "    <tr>\n",
       "      <th>2023-10-16</th>\n",
       "      <td>0.005682</td>\n",
       "    </tr>\n",
       "  </tbody>\n",
       "</table>\n",
       "<p>7542 rows × 1 columns</p>\n",
       "</div>"
      ],
      "text/plain": [
       "               Close\n",
       "Date                \n",
       "1993-04-28 -0.008163\n",
       "1993-04-29 -0.024691\n",
       "1993-04-30  0.016878\n",
       "1993-05-03  0.000000\n",
       "1993-05-04  0.033195\n",
       "...              ...\n",
       "2023-10-09  0.008636\n",
       "2023-10-10  0.013729\n",
       "2023-10-11  0.002690\n",
       "2023-10-13 -0.011081\n",
       "2023-10-16  0.005682\n",
       "\n",
       "[7542 rows x 1 columns]"
      ]
     },
     "execution_count": 136,
     "metadata": {},
     "output_type": "execute_result"
    }
   ],
   "source": [
    "cotacoes = yf.download('^BVSP')['Close']\n",
    "\n",
    "cotacoes = cotacoes.pct_change().dropna().to_frame()\n",
    "\n",
    "cotacoes"
   ]
  },
  {
   "cell_type": "code",
   "execution_count": 137,
   "id": "80f3c580",
   "metadata": {},
   "outputs": [],
   "source": [
    "cotacoes['year'] = cotacoes.index.year\n",
    "cotacoes['month'] = cotacoes.index.month"
   ]
  },
  {
   "cell_type": "code",
   "execution_count": 138,
   "id": "5ca77dd2",
   "metadata": {},
   "outputs": [],
   "source": [
    "def estatisticas_ibov(agrupamento):\n",
    "    # obj do que foi agrupado (ano)\n",
    "    return {\n",
    "        'min': agrupamento.min() * 100,\n",
    "        'max': agrupamento.max() * 100,\n",
    "        'media': agrupamento.mean() * 100,\n",
    "        'vol': agrupamento.std() * np.sqrt(252)\n",
    "        }"
   ]
  },
  {
   "cell_type": "code",
   "execution_count": 139,
   "metadata": {},
   "outputs": [
    {
     "data": {
      "text/plain": [
       "year       \n",
       "1993  min      -9.503696\n",
       "      max      11.044571\n",
       "      media     1.662131\n",
       "      vol       0.521738\n",
       "1994  min     -10.596462\n",
       "                 ...    \n",
       "2022  vol       0.210956\n",
       "2023  min      -3.321791\n",
       "      max       4.287804\n",
       "      media     0.034696\n",
       "      vol       0.177635\n",
       "Name: Close, Length: 124, dtype: float64"
      ]
     },
     "execution_count": 139,
     "metadata": {},
     "output_type": "execute_result"
    }
   ],
   "source": [
    "estatisticas_por_ano = cotacoes.groupby('year')['Close'].apply(estatisticas_ibov)\n",
    "\n",
    "estatisticas_por_ano"
   ]
  },
  {
   "cell_type": "code",
   "execution_count": 140,
   "id": "6e5f5942",
   "metadata": {},
   "outputs": [
    {
     "name": "stdout",
     "output_type": "stream",
     "text": [
      "[*********************100%%**********************]  1 of 1 completed\n"
     ]
    },
    {
     "data": {
      "text/plain": [
       "Date\n",
       "2023-10-11    35.169998\n",
       "2023-10-13    34.540001\n",
       "2023-10-16    34.830002\n",
       "Name: Adj Close, dtype: float64"
      ]
     },
     "execution_count": 140,
     "metadata": {},
     "output_type": "execute_result"
    }
   ],
   "source": [
    "cotacoes = yf.download('WEGE3.SA')['Adj Close']\n",
    "cotacoes.tail(3)"
   ]
  },
  {
   "cell_type": "code",
   "execution_count": 141,
   "id": "018d71b2",
   "metadata": {},
   "outputs": [
    {
     "data": {
      "text/plain": [
       "Date\n",
       "2000-01-03   -0.658618\n",
       "2000-01-04   -0.658995\n",
       "2000-01-05   -0.658995\n",
       "2000-01-06   -0.659939\n",
       "2000-01-07   -0.659939\n",
       "                ...   \n",
       "2023-10-09    2.400284\n",
       "2023-10-10    2.439921\n",
       "2023-10-11    2.428470\n",
       "2023-10-13    2.372979\n",
       "2023-10-16    2.398523\n",
       "Name: Adj Close, Length: 5976, dtype: float64"
      ]
     },
     "execution_count": 141,
     "metadata": {},
     "output_type": "execute_result"
    }
   ],
   "source": [
    "# normalizar os dados é transformar a media em 0 e o desvio padrao em 1\n",
    "cotacoes_weg_normalizadas = cotacoes.transform(lambda x: (x - x.mean())/ x.std())\n",
    "cotacoes_weg_normalizadas\n"
   ]
  },
  {
   "cell_type": "code",
   "execution_count": 142,
   "id": "a4425020",
   "metadata": {},
   "outputs": [
    {
     "data": {
      "text/plain": [
       "count    5.976000e+03\n",
       "mean     3.804780e-17\n",
       "std      1.000000e+00\n",
       "min     -6.604105e-01\n",
       "25%     -5.972009e-01\n",
       "50%     -4.597826e-01\n",
       "75%     -1.109239e-02\n",
       "max      3.219822e+00\n",
       "Name: Adj Close, dtype: float64"
      ]
     },
     "execution_count": 142,
     "metadata": {},
     "output_type": "execute_result"
    }
   ],
   "source": [
    "cotacoes_weg_normalizadas.describe()"
   ]
  },
  {
   "cell_type": "code",
   "execution_count": 143,
   "id": "c894e081",
   "metadata": {},
   "outputs": [
    {
     "data": {
      "text/html": [
       "<div>\n",
       "<style scoped>\n",
       "    .dataframe tbody tr th:only-of-type {\n",
       "        vertical-align: middle;\n",
       "    }\n",
       "\n",
       "    .dataframe tbody tr th {\n",
       "        vertical-align: top;\n",
       "    }\n",
       "\n",
       "    .dataframe thead th {\n",
       "        text-align: right;\n",
       "    }\n",
       "</style>\n",
       "<table border=\"1\" class=\"dataframe\">\n",
       "  <thead>\n",
       "    <tr style=\"text-align: right;\">\n",
       "      <th></th>\n",
       "      <th>Adj Close</th>\n",
       "      <th>ano</th>\n",
       "      <th>maxima_do_ano</th>\n",
       "    </tr>\n",
       "    <tr>\n",
       "      <th>Date</th>\n",
       "      <th></th>\n",
       "      <th></th>\n",
       "      <th></th>\n",
       "    </tr>\n",
       "  </thead>\n",
       "  <tbody>\n",
       "    <tr>\n",
       "      <th>2000-01-03</th>\n",
       "      <td>0.122103</td>\n",
       "      <td>2000</td>\n",
       "      <td>0.122103</td>\n",
       "    </tr>\n",
       "    <tr>\n",
       "      <th>2000-01-04</th>\n",
       "      <td>0.117818</td>\n",
       "      <td>2000</td>\n",
       "      <td>0.122103</td>\n",
       "    </tr>\n",
       "    <tr>\n",
       "      <th>2000-01-05</th>\n",
       "      <td>0.117818</td>\n",
       "      <td>2000</td>\n",
       "      <td>0.122103</td>\n",
       "    </tr>\n",
       "    <tr>\n",
       "      <th>2000-01-06</th>\n",
       "      <td>0.107107</td>\n",
       "      <td>2000</td>\n",
       "      <td>0.122103</td>\n",
       "    </tr>\n",
       "    <tr>\n",
       "      <th>2000-01-07</th>\n",
       "      <td>0.107107</td>\n",
       "      <td>2000</td>\n",
       "      <td>0.122103</td>\n",
       "    </tr>\n",
       "    <tr>\n",
       "      <th>...</th>\n",
       "      <td>...</td>\n",
       "      <td>...</td>\n",
       "      <td>...</td>\n",
       "    </tr>\n",
       "    <tr>\n",
       "      <th>2023-10-09</th>\n",
       "      <td>34.849998</td>\n",
       "      <td>2023</td>\n",
       "      <td>41.565277</td>\n",
       "    </tr>\n",
       "    <tr>\n",
       "      <th>2023-10-10</th>\n",
       "      <td>35.299999</td>\n",
       "      <td>2023</td>\n",
       "      <td>41.565277</td>\n",
       "    </tr>\n",
       "    <tr>\n",
       "      <th>2023-10-11</th>\n",
       "      <td>35.169998</td>\n",
       "      <td>2023</td>\n",
       "      <td>41.565277</td>\n",
       "    </tr>\n",
       "    <tr>\n",
       "      <th>2023-10-13</th>\n",
       "      <td>34.540001</td>\n",
       "      <td>2023</td>\n",
       "      <td>41.565277</td>\n",
       "    </tr>\n",
       "    <tr>\n",
       "      <th>2023-10-16</th>\n",
       "      <td>34.830002</td>\n",
       "      <td>2023</td>\n",
       "      <td>41.565277</td>\n",
       "    </tr>\n",
       "  </tbody>\n",
       "</table>\n",
       "<p>5976 rows × 3 columns</p>\n",
       "</div>"
      ],
      "text/plain": [
       "            Adj Close   ano  maxima_do_ano\n",
       "Date                                      \n",
       "2000-01-03   0.122103  2000       0.122103\n",
       "2000-01-04   0.117818  2000       0.122103\n",
       "2000-01-05   0.117818  2000       0.122103\n",
       "2000-01-06   0.107107  2000       0.122103\n",
       "2000-01-07   0.107107  2000       0.122103\n",
       "...               ...   ...            ...\n",
       "2023-10-09  34.849998  2023      41.565277\n",
       "2023-10-10  35.299999  2023      41.565277\n",
       "2023-10-11  35.169998  2023      41.565277\n",
       "2023-10-13  34.540001  2023      41.565277\n",
       "2023-10-16  34.830002  2023      41.565277\n",
       "\n",
       "[5976 rows x 3 columns]"
      ]
     },
     "execution_count": 143,
     "metadata": {},
     "output_type": "execute_result"
    }
   ],
   "source": [
    "cotacoes_maxdd = cotacoes.to_frame()\n",
    "cotacoes_maxdd['ano'] = cotacoes_maxdd.index.year\n",
    "cotacoes_maxdd['maxima_do_ano'] = cotacoes_maxdd.groupby('ano')['Adj Close'].cummax()\n",
    "#cummax passa de valor em valor registrando o valor de maior fechamento, comparado ao dia anterior até o maximo do agrupamento\n",
    "\n",
    "\n",
    "cotacoes_maxdd"
   ]
  },
  {
   "cell_type": "code",
   "execution_count": 144,
   "id": "f7f3586d",
   "metadata": {},
   "outputs": [
    {
     "data": {
      "text/html": [
       "<div>\n",
       "<style scoped>\n",
       "    .dataframe tbody tr th:only-of-type {\n",
       "        vertical-align: middle;\n",
       "    }\n",
       "\n",
       "    .dataframe tbody tr th {\n",
       "        vertical-align: top;\n",
       "    }\n",
       "\n",
       "    .dataframe thead th {\n",
       "        text-align: right;\n",
       "    }\n",
       "</style>\n",
       "<table border=\"1\" class=\"dataframe\">\n",
       "  <thead>\n",
       "    <tr style=\"text-align: right;\">\n",
       "      <th></th>\n",
       "      <th>Adj Close</th>\n",
       "      <th>ano</th>\n",
       "      <th>maxima_do_ano</th>\n",
       "      <th>quedas</th>\n",
       "    </tr>\n",
       "    <tr>\n",
       "      <th>Date</th>\n",
       "      <th></th>\n",
       "      <th></th>\n",
       "      <th></th>\n",
       "      <th></th>\n",
       "    </tr>\n",
       "  </thead>\n",
       "  <tbody>\n",
       "    <tr>\n",
       "      <th>2000-01-03</th>\n",
       "      <td>0.122103</td>\n",
       "      <td>2000</td>\n",
       "      <td>0.122103</td>\n",
       "      <td>0.000000</td>\n",
       "    </tr>\n",
       "    <tr>\n",
       "      <th>2000-01-04</th>\n",
       "      <td>0.117818</td>\n",
       "      <td>2000</td>\n",
       "      <td>0.122103</td>\n",
       "      <td>-0.035092</td>\n",
       "    </tr>\n",
       "    <tr>\n",
       "      <th>2000-01-05</th>\n",
       "      <td>0.117818</td>\n",
       "      <td>2000</td>\n",
       "      <td>0.122103</td>\n",
       "      <td>-0.035092</td>\n",
       "    </tr>\n",
       "    <tr>\n",
       "      <th>2000-01-06</th>\n",
       "      <td>0.107107</td>\n",
       "      <td>2000</td>\n",
       "      <td>0.122103</td>\n",
       "      <td>-0.122813</td>\n",
       "    </tr>\n",
       "    <tr>\n",
       "      <th>2000-01-07</th>\n",
       "      <td>0.107107</td>\n",
       "      <td>2000</td>\n",
       "      <td>0.122103</td>\n",
       "      <td>-0.122813</td>\n",
       "    </tr>\n",
       "    <tr>\n",
       "      <th>...</th>\n",
       "      <td>...</td>\n",
       "      <td>...</td>\n",
       "      <td>...</td>\n",
       "      <td>...</td>\n",
       "    </tr>\n",
       "    <tr>\n",
       "      <th>2023-10-09</th>\n",
       "      <td>34.849998</td>\n",
       "      <td>2023</td>\n",
       "      <td>41.565277</td>\n",
       "      <td>-0.161560</td>\n",
       "    </tr>\n",
       "    <tr>\n",
       "      <th>2023-10-10</th>\n",
       "      <td>35.299999</td>\n",
       "      <td>2023</td>\n",
       "      <td>41.565277</td>\n",
       "      <td>-0.150733</td>\n",
       "    </tr>\n",
       "    <tr>\n",
       "      <th>2023-10-11</th>\n",
       "      <td>35.169998</td>\n",
       "      <td>2023</td>\n",
       "      <td>41.565277</td>\n",
       "      <td>-0.153861</td>\n",
       "    </tr>\n",
       "    <tr>\n",
       "      <th>2023-10-13</th>\n",
       "      <td>34.540001</td>\n",
       "      <td>2023</td>\n",
       "      <td>41.565277</td>\n",
       "      <td>-0.169018</td>\n",
       "    </tr>\n",
       "    <tr>\n",
       "      <th>2023-10-16</th>\n",
       "      <td>34.830002</td>\n",
       "      <td>2023</td>\n",
       "      <td>41.565277</td>\n",
       "      <td>-0.162041</td>\n",
       "    </tr>\n",
       "  </tbody>\n",
       "</table>\n",
       "<p>5976 rows × 4 columns</p>\n",
       "</div>"
      ],
      "text/plain": [
       "            Adj Close   ano  maxima_do_ano    quedas\n",
       "Date                                                \n",
       "2000-01-03   0.122103  2000       0.122103  0.000000\n",
       "2000-01-04   0.117818  2000       0.122103 -0.035092\n",
       "2000-01-05   0.117818  2000       0.122103 -0.035092\n",
       "2000-01-06   0.107107  2000       0.122103 -0.122813\n",
       "2000-01-07   0.107107  2000       0.122103 -0.122813\n",
       "...               ...   ...            ...       ...\n",
       "2023-10-09  34.849998  2023      41.565277 -0.161560\n",
       "2023-10-10  35.299999  2023      41.565277 -0.150733\n",
       "2023-10-11  35.169998  2023      41.565277 -0.153861\n",
       "2023-10-13  34.540001  2023      41.565277 -0.169018\n",
       "2023-10-16  34.830002  2023      41.565277 -0.162041\n",
       "\n",
       "[5976 rows x 4 columns]"
      ]
     },
     "execution_count": 144,
     "metadata": {},
     "output_type": "execute_result"
    }
   ],
   "source": [
    "cotacoes_maxdd['quedas'] = cotacoes_maxdd['Adj Close'] / cotacoes_maxdd['maxima_do_ano'] - 1\n",
    "#cria uma coluna de quedas com o a divisao da cotacao da linha dividido pela maxima do agrupamento no momento\n",
    "cotacoes_maxdd"
   ]
  },
  {
   "cell_type": "code",
   "execution_count": 145,
   "id": "d93563d4",
   "metadata": {},
   "outputs": [
    {
     "data": {
      "text/plain": [
       "ano\n",
       "2000   -0.166670\n",
       "2001   -0.055556\n",
       "2002   -0.113636\n",
       "2003    0.000000\n",
       "2004   -0.007679\n",
       "2005   -0.076355\n",
       "2006   -0.120000\n",
       "2007   -0.248874\n",
       "2008   -0.597189\n",
       "2009   -0.215026\n",
       "2010   -0.202176\n",
       "2011   -0.316355\n",
       "2012   -0.133107\n",
       "2013   -0.183673\n",
       "2014   -0.105263\n",
       "2015   -0.292097\n",
       "2016   -0.204183\n",
       "2017   -0.146915\n",
       "2018   -0.236517\n",
       "2019   -0.123639\n",
       "2020   -0.466677\n",
       "2021   -0.318399\n",
       "2022   -0.354720\n",
       "2023   -0.169254\n",
       "Name: quedas, dtype: float64"
      ]
     },
     "execution_count": 145,
     "metadata": {},
     "output_type": "execute_result"
    }
   ],
   "source": [
    "cotacoes_maxdd.groupby('ano')['quedas'].min()"
   ]
  },
  {
   "cell_type": "markdown",
   "id": "2494f8fe",
   "metadata": {},
   "source": [
    "## Desafio\n",
    "> - Retorno acumulado ano a ano contra o Ibovespa\n",
    "> - Estatísticas descritivas de volatilidade, média de retornos, maior retorno e menor retorno por ano\n",
    "> - Maximo Drawdown por ano\n",
    "> - Volume financeiro médio anual negociado pela empresa"
   ]
  },
  {
   "cell_type": "code",
   "execution_count": 173,
   "id": "28518aa1",
   "metadata": {},
   "outputs": [
    {
     "name": "stdout",
     "output_type": "stream",
     "text": [
      "[*********************100%%**********************]  1 of 1 completed\n",
      "[*********************100%%**********************]  2 of 2 completed"
     ]
    },
    {
     "name": "stderr",
     "output_type": "stream",
     "text": [
      "ic| 'Retorno acumulado anual contra ibov'\n"
     ]
    },
    {
     "name": "stdout",
     "output_type": "stream",
     "text": [
      "\n"
     ]
    },
    {
     "data": {
      "text/html": [
       "<div>\n",
       "<style scoped>\n",
       "    .dataframe tbody tr th:only-of-type {\n",
       "        vertical-align: middle;\n",
       "    }\n",
       "\n",
       "    .dataframe tbody tr th {\n",
       "        vertical-align: top;\n",
       "    }\n",
       "\n",
       "    .dataframe thead th {\n",
       "        text-align: right;\n",
       "    }\n",
       "</style>\n",
       "<table border=\"1\" class=\"dataframe\">\n",
       "  <thead>\n",
       "    <tr style=\"text-align: right;\">\n",
       "      <th></th>\n",
       "      <th>retorno_YTD_ASAI3.SA</th>\n",
       "      <th>retorno_YTD_^BVSP</th>\n",
       "    </tr>\n",
       "    <tr>\n",
       "      <th>Date</th>\n",
       "      <th></th>\n",
       "      <th></th>\n",
       "    </tr>\n",
       "  </thead>\n",
       "  <tbody>\n",
       "    <tr>\n",
       "      <th>2021-12-30</th>\n",
       "      <td>-8.659564</td>\n",
       "      <td>-4.996601</td>\n",
       "    </tr>\n",
       "    <tr>\n",
       "      <th>2022-12-29</th>\n",
       "      <td>51.740296</td>\n",
       "      <td>4.969377</td>\n",
       "    </tr>\n",
       "    <tr>\n",
       "      <th>2023-10-16</th>\n",
       "      <td>-39.404327</td>\n",
       "      <td>5.975859</td>\n",
       "    </tr>\n",
       "  </tbody>\n",
       "</table>\n",
       "</div>"
      ],
      "text/plain": [
       "            retorno_YTD_ASAI3.SA  retorno_YTD_^BVSP\n",
       "Date                                               \n",
       "2021-12-30             -8.659564          -4.996601\n",
       "2022-12-29             51.740296           4.969377\n",
       "2023-10-16            -39.404327           5.975859"
      ]
     },
     "execution_count": 173,
     "metadata": {},
     "output_type": "execute_result"
    }
   ],
   "source": [
    "# acao= input('Digite uma acao do mercado brasileiro').upper()\n",
    "acao = 'ASAI3.SA'\n",
    "dados_acao = yf.download(acao)\n",
    "\n",
    "dados = yf.download([acao, '^BVSP'])\n",
    "dados_cotacao = dados['Adj Close'].dropna()\n",
    "\n",
    "retorno = dados_cotacao.pct_change().dropna()\n",
    "retorno['year'] = retorno.index.year\n",
    "\n",
    "#retorno acumulado por ano\n",
    "retorno[f'{acao}'] = retorno[f'{acao}'] + 1 \n",
    "retorno['^BVSP'] = retorno['^BVSP'] + 1 \n",
    "\n",
    "retorno[f'retorno_YTD_{acao}'] = retorno.groupby('year')[f'{acao}'].cumprod() - 1\n",
    "retorno['retorno_YTD_^BVSP'] = retorno.groupby('year')['^BVSP'].cumprod() - 1\n",
    "\n",
    "ic('Retorno acumulado anual contra ibov')\n",
    "retorno_por_ano = retorno.groupby('year').tail(1)[[f'retorno_YTD_{acao}', 'retorno_YTD_^BVSP'] ]\n",
    "retorno_por_ano * 100\n"
   ]
  },
  {
   "cell_type": "code",
   "execution_count": 169,
   "id": "350aaac0",
   "metadata": {},
   "outputs": [
    {
     "name": "stdout",
     "output_type": "stream",
     "text": [
      "grafico de correlacao de 252 dias contra ibov\n"
     ]
    },
    {
     "data": {
      "text/plain": [
       "<Axes: xlabel='Date'>"
      ]
     },
     "execution_count": 169,
     "metadata": {},
     "output_type": "execute_result"
    },
    {
     "data": {
      "image/png": "[encoded data removed]",
      "text/plain": [
       "<Figure size 640x480 with 1 Axes>"
      ]
     },
     "metadata": {},
     "output_type": "display_data"
    }
   ],
   "source": [
    "print('grafico de correlacao de 252 dias contra ibov')\n",
    "retorno[acao].rolling(252).corr(retorno['^BVSP']).dropna().plot()"
   ]
  },
  {
   "cell_type": "code",
   "execution_count": 147,
   "id": "bec80352",
   "metadata": {},
   "outputs": [],
   "source": [
    "def estatisticas_descritivas(agrupamento):\n",
    "    # obj do que foi agrupado (ano)\n",
    "    return {\n",
    "        'min': agrupamento.min() * 100,\n",
    "        'max': agrupamento.max() * 100,\n",
    "        'media': agrupamento.mean() * 100,\n",
    "        'vol': agrupamento.std() * np.sqrt(252)\n",
    "        }"
   ]
  },
  {
   "cell_type": "code",
   "execution_count": 148,
   "id": "982dcd03",
   "metadata": {},
   "outputs": [
    {
     "data": {
      "text/plain": [
       "year       \n",
       "2021  min      -5.320006\n",
       "      max       6.827304\n",
       "      media    -0.025499\n",
       "      vol       0.300819\n",
       "2022  min      -9.219857\n",
       "      max       8.943092\n",
       "      media     0.191915\n",
       "      vol       0.356258\n",
       "2023  min      -8.536582\n",
       "      max      14.695344\n",
       "      media    -0.217328\n",
       "      vol       0.435944\n",
       "Name: ASAI3.SA, dtype: float64"
      ]
     },
     "execution_count": 148,
     "metadata": {},
     "output_type": "execute_result"
    }
   ],
   "source": [
    "print('estatisticas_descritivas')\n",
    "retorno.groupby('year')[acao].apply(estatisticas_descritivas)"
   ]
  },
  {
   "cell_type": "code",
   "execution_count": 149,
   "id": "24c87443",
   "metadata": {},
   "outputs": [
    {
     "name": "stdout",
     "output_type": "stream",
     "text": [
      "[*********************100%%**********************]  1 of 1 completed\n"
     ]
    },
    {
     "name": "stderr",
     "output_type": "stream",
     "text": [
      "C:\\Users\\Gabriel\\AppData\\Local\\Temp\\ipykernel_11656\\1392370936.py:2: SettingWithCopyWarning: \n",
      "A value is trying to be set on a copy of a slice from a DataFrame.\n",
      "Try using .loc[row_indexer,col_indexer] = value instead\n",
      "\n",
      "See the caveats in the documentation: https://pandas.pydata.org/pandas-docs/stable/user_guide/indexing.html#returning-a-view-versus-a-copy\n",
      "  dados_cotacao['year'] = dados_cotacao.index.year\n",
      "C:\\Users\\Gabriel\\AppData\\Local\\Temp\\ipykernel_11656\\1392370936.py:3: SettingWithCopyWarning: \n",
      "A value is trying to be set on a copy of a slice from a DataFrame.\n",
      "Try using .loc[row_indexer,col_indexer] = value instead\n",
      "\n",
      "See the caveats in the documentation: https://pandas.pydata.org/pandas-docs/stable/user_guide/indexing.html#returning-a-view-versus-a-copy\n",
      "  dados_cotacao['Maximo Acumulado Ano'] = dados_cotacao.groupby('year')['Close'].cummax()\n",
      "C:\\Users\\Gabriel\\AppData\\Local\\Temp\\ipykernel_11656\\1392370936.py:4: SettingWithCopyWarning: \n",
      "A value is trying to be set on a copy of a slice from a DataFrame.\n",
      "Try using .loc[row_indexer,col_indexer] = value instead\n",
      "\n",
      "See the caveats in the documentation: https://pandas.pydata.org/pandas-docs/stable/user_guide/indexing.html#returning-a-view-versus-a-copy\n",
      "  dados_cotacao['Queda'] = dados_cotacao['Close'] / dados_cotacao['Maximo Acumulado Ano'] - 1\n"
     ]
    }
   ],
   "source": [
    "dados_cotacao = yf.download(acao)[['Close', 'Volume']]\n",
    "dados_cotacao['year'] = dados_cotacao.index.year\n",
    "dados_cotacao['Maximo Acumulado Ano'] = dados_cotacao.groupby('year')['Close'].cummax()\n",
    "dados_cotacao['Queda'] = dados_cotacao['Close'] / dados_cotacao['Maximo Acumulado Ano'] - 1"
   ]
  },
  {
   "cell_type": "code",
   "execution_count": 150,
   "id": "dc7f73b5",
   "metadata": {},
   "outputs": [
    {
     "data": {
      "text/plain": [
       "year\n",
       "2021   -0.361211\n",
       "2022   -0.139843\n",
       "2023   -0.502605\n",
       "Name: Queda, dtype: float64"
      ]
     },
     "execution_count": 150,
     "metadata": {},
     "output_type": "execute_result"
    }
   ],
   "source": [
    "dados_cotacao.groupby('year')['Queda'].min()"
   ]
  },
  {
   "cell_type": "code",
   "execution_count": 151,
   "id": "da518309",
   "metadata": {},
   "outputs": [],
   "source": [
    "dados_cotacao['Volume em Reais'] = dados_cotacao['Close'] * dados_cotacao['Volume']\n",
    "dados_cotacao['Volume em Reais'] = dados_cotacao['Volume em Reais'].astype(int)"
   ]
  },
  {
   "cell_type": "code",
   "execution_count": 170,
   "id": "91ddbce0",
   "metadata": {},
   "outputs": [
    {
     "name": "stdout",
     "output_type": "stream",
     "text": [
      "volume financeiro médio anual\n"
     ]
    },
    {
     "data": {
      "text/plain": [
       "year\n",
       "2021    165609750\n",
       "2022    157684040\n",
       "2023    237051646\n",
       "Name: Volume em Reais, dtype: int32"
      ]
     },
     "execution_count": 170,
     "metadata": {},
     "output_type": "execute_result"
    }
   ],
   "source": [
    "print('Volume financeiro médio anual')\n",
    "dados_cotacao.groupby('year')['Volume em Reais'].mean().astype(int)"
   ]
  }
 ],
 "metadata": {
  "kernelspec": {
   "display_name": "Python 3 (ipykernel)",
   "language": "python",
   "name": "python3"
  },
  "language_info": {
   "codemirror_mode": {
    "name": "ipython",
    "version": 3
   },
   "file_extension": ".py",
   "mimetype": "text/x-python",
   "name": "python",
   "nbconvert_exporter": "python",
   "pygments_lexer": "ipython3",
   "version": "3.11.5"
  }
 },
 "nbformat": 4,
 "nbformat_minor": 5
}
